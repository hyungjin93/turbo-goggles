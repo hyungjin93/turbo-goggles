{
 "cells": [
  {
   "cell_type": "markdown",
   "id": "da193321",
   "metadata": {
    "slideshow": {
     "slide_type": "slide"
    }
   },
   "source": [
    "# 자료구조란\n",
    "\n",
    "- 여러 개의 값들을 모아서 관리하는 데이터 타입.\n",
    "    - 한 개의 변수는 한 개의 값 밖에는 가지지 못한다. 그러나 하나의 변수로 여러 개의 값 묶어서 저장해 관리해야 할 경우가 있다. \n",
    "    - 예) 고객의 정보의 경우 이름, 나이, 주소, 전화번호 등 여러개의 값이 모여서 하나의 값이 된다. \n",
    "- 파이썬은 데이터를 모으는 방식에 따라 다음과 같이 4개의 타입을 제공한다.\n",
    "    - List: 순서가 있으며 중복된 값들을 모으는 것을 허용하고 구성하는 값들(원소)을 변경할 수 있다.\n",
    "    - Tuple: 순서가 있으며 중복된 값들을 모으는 것을 허용하는데 구성하는 값들을 변경할 수 없다.\n",
    "    - Dictionary: key-value 형태로 값들을 저장해 관리한다.\n",
    "    - Set: 중복을 허용하지 않고 값들의 순서가 없다.\n",
    "- 원소, 성분, 요소, element\n",
    "    - 자료구조의 값들을 구성하는 개별 값들을 말한다.\n",
    "    - len(자료구조) 함수\n",
    "        - 자료구조 내의 원소의 개수를 반환한다."
   ]
  },
  {
   "cell_type": "code",
   "execution_count": null,
   "id": "06104d38",
   "metadata": {},
   "outputs": [],
   "source": [
    "# Set은 List에 모아놓은 데이터를 거를 때 보통 사용함\n",
    "# 순서: List, Tuple / 이름: Dictionary\n",
    "\n",
    "# 예를 들어 78, 80, 93, 86, 81 이란 데이터(1학년 1반의 영어점수)가 있을 때 이건 1번 학생 점수, 2번 학생의 점수 이런식으로 구분이 \n",
    "# 가능하기 때문에 List 를 쓰면 된다\n",
    "\n",
    "# 예를 들어 이름-홍길동, 나이-30, 주소-서울 이란 데이터가 있을 때 이건 1번이 이름, 2번이 나이 이런식으로 외워서 사용할 수가 없기 때문에\n",
    "# Dictionary를 쓰면 된다"
   ]
  },
  {
   "cell_type": "markdown",
   "id": "84431cfd",
   "metadata": {
    "slideshow": {
     "slide_type": "slide"
    }
   },
   "source": [
    "# List (리스트)\n",
    "\n",
    "- 값을 순서대로 모아서 관리하는 자료구조. 원소(element)들을 순번을 이용해 식별한다.\n",
    "    - 각각의 원소가 어떤 값인지를 순번을 가지고 식별하기 때문에 순서가 매우 중요하다. 즉 같은 값에 대해 순서가 바뀌면 안된다.\n",
    "- 각 원소들은 순번을 index라고 하며 값을 조회하거나 변경할 때 index를 이용해 식별한다.\n",
    "    - index는 문자열과 마찬가지로 양수 index와 음수 index 두개가 각 값에 생긴다.\n",
    "    - 양수 index는 앞에서부터 음수 index는 뒤에서 부터 값을 식별할 때 사용하는 것이 편리하다.\n",
    "- 중복된 값들을 저장할 수 있다.\n",
    "- 각 원소들의 데이터 타입은 달라도 상관없다.\n",
    "    - 보통은 같은 타입의 데이터를 모은다.\n",
    "- 리스트를 구성하는 원소들을 변경할 수 있다. (추가, 삭제, 변경이 가능)\n",
    "\n",
    "## List 생성 구문\n",
    "```python\n",
    "[값, 값, 값, ..]\n",
    "```"
   ]
  },
  {
   "cell_type": "code",
   "execution_count": 1,
   "id": "efc59691",
   "metadata": {
    "ExecuteTime": {
     "end_time": "2022-12-18T00:22:24.071490Z",
     "start_time": "2022-12-18T00:22:23.651455Z"
    },
    "slideshow": {
     "slide_type": "fragment"
    }
   },
   "outputs": [
    {
     "name": "stdout",
     "output_type": "stream",
     "text": [
      "<class 'list'>\n"
     ]
    }
   ],
   "source": [
    "l1 = [10, 20, 30, 40, 50]\n",
    "print(type(l1))"
   ]
  },
  {
   "cell_type": "code",
   "execution_count": 2,
   "id": "3478ec3c",
   "metadata": {},
   "outputs": [
    {
     "name": "stdout",
     "output_type": "stream",
     "text": [
      "[10, 20, 30, 40, 50]\n"
     ]
    }
   ],
   "source": [
    "print(l1)"
   ]
  },
  {
   "cell_type": "code",
   "execution_count": 4,
   "id": "7d82e3f7",
   "metadata": {},
   "outputs": [
    {
     "name": "stdout",
     "output_type": "stream",
     "text": [
      "[10, 50.8, 7.0, True, False, '안녕하세요']\n"
     ]
    }
   ],
   "source": [
    "l2 = [10, 50.8, 7., True, False, '안녕하세요']\n",
    "print(l2)"
   ]
  },
  {
   "cell_type": "code",
   "execution_count": 7,
   "id": "da121db4",
   "metadata": {},
   "outputs": [
    {
     "name": "stdout",
     "output_type": "stream",
     "text": [
      "[10, [1, 2, 3], ('a', 'b'), {'이름': '홍길동', '나이': 20}]\n"
     ]
    }
   ],
   "source": [
    "l3 = [10, [1,2,3], ('a', 'b'), {'이름':'홍길동', '나이':20}]\n",
    "print(l3)\n",
    "\n",
    "# 리스트(자료구조) 안에 다른 자료구조들을 원소로 넣을 수 있다"
   ]
  },
  {
   "cell_type": "code",
   "execution_count": 8,
   "id": "d211dad3",
   "metadata": {},
   "outputs": [
    {
     "name": "stdout",
     "output_type": "stream",
     "text": [
      "5\n",
      "6\n",
      "4\n"
     ]
    }
   ],
   "source": [
    "# 자료구조의 원소들의 개수 조회\n",
    "print(len(l1))\n",
    "print(len(l2))\n",
    "print(len(l3))"
   ]
  },
  {
   "cell_type": "markdown",
   "id": "08d634bf",
   "metadata": {
    "slideshow": {
     "slide_type": "subslide"
    }
   },
   "source": [
    "## Indexing과 Slicing을 이용한 원소(element) 조회 및 변경\n",
    "\n",
    "### Indexing\n",
    "- 하나의 원소를 조회하거나 변경할 때 사용\n",
    "- 리스트\\[index\\] \n",
    "    - index의 원소를 조회\n",
    "- 리스트\\[index\\] = 값\n",
    "    - index의 원소를 변경"
   ]
  },
  {
   "cell_type": "markdown",
   "id": "ab5a40cb",
   "metadata": {
    "slideshow": {
     "slide_type": "fragment"
    }
   },
   "source": [
    "### Slicing\n",
    "- 범위로 조회하거나 그 범위의 값들을 변경한다.\n",
    "- 기본구문: **리스트\\[ 시작 index : 종료 index : 간격\\]**\n",
    "    - 시작 index ~ (종료 index – 1)\n",
    "    - 간격을 지정하면 간격만큼 index를 증/감한다. (생략 시 1이 기본 간격)\n",
    "- **0번 index 부터 조회 할 경우 시작 index는 생략가능**\n",
    "    - 리스트 \\[ : 5\\] => 0 ~ 4 까지 조회\n",
    "- **마지막 index까지 (끝까지) 조회 할 경우 종료 index는 생략 가능**\n",
    "    - 리스트\\[2 : \\] => 2번 index 에서 끝까지\n",
    "- **명시적으로 간격을 줄 경우**\n",
    "    - 리스트\\[ : : 3 \\] => 0, 3, 6, 9.. index의 값 조회\n",
    "    - 리스트\\[1 : 9 : 2\\] => 1, 3, 5, 7 index의 값 조회\n",
    "- **시작 index > 종료 index, 간격을 음수로 하면 역으로 반환한다.(Reverse)**\n",
    "    - 리스트\\[5: 1: -1\\] => 5, 4, 3, 2 index의 값 조회\n",
    "    - 리스트\\[: : -1\\]  => 마지막 index ~ 0번 index 까지 의미. Reverse 한다.\n",
    "\n",
    "#### slicing을 이용한 값 변경\n",
    "- slicing 을 이용할 경우 slicing된 원소 개수와 동일한 개수의 값들을 대입한다.\n",
    "    - `리스트[1:5] = 10,20,30,40` : index 1, 2, 3, 4의 값을 각각 10, 20, 30, 40으로 변경"
   ]
  },
  {
   "cell_type": "markdown",
   "id": "3832e867",
   "metadata": {
    "slideshow": {
     "slide_type": "fragment"
    }
   },
   "source": [
    "- 리스트 생성\n",
    "\n",
    "'''java\n",
    "l=[1,2,3,4]\n",
    "'''"
   ]
  },
  {
   "cell_type": "code",
   "execution_count": 10,
   "id": "6b698efa",
   "metadata": {},
   "outputs": [
    {
     "data": {
      "text/plain": [
       "3"
      ]
     },
     "execution_count": 10,
     "metadata": {},
     "output_type": "execute_result"
    }
   ],
   "source": [
    "ll=[0, 1, 2, 3, 4, 5, 6, 7, 8, 9]\n",
    "# indexing\n",
    "ll[0] # 첫번째 값, index 0의 값 조회\n",
    "ll[3] # 네번째 값, index 3의 값 조회"
   ]
  },
  {
   "cell_type": "code",
   "execution_count": 11,
   "id": "9825b0fa",
   "metadata": {},
   "outputs": [
    {
     "data": {
      "text/plain": [
       "10"
      ]
     },
     "execution_count": 11,
     "metadata": {},
     "output_type": "execute_result"
    }
   ],
   "source": [
    "ll[3] + ll[7]"
   ]
  },
  {
   "cell_type": "code",
   "execution_count": 13,
   "id": "4224a964",
   "metadata": {},
   "outputs": [
    {
     "data": {
      "text/plain": [
       "(7, 5)"
      ]
     },
     "execution_count": 13,
     "metadata": {},
     "output_type": "execute_result"
    }
   ],
   "source": [
    "# 음수 index\n",
    "ll[0], ll[-10]\n",
    "ll[-3], ll[-5]"
   ]
  },
  {
   "cell_type": "code",
   "execution_count": 14,
   "id": "5ff8ac4b",
   "metadata": {},
   "outputs": [
    {
     "name": "stdout",
     "output_type": "stream",
     "text": [
      "[0, 1, 2, 3, 4, 5, 6, 7, 8, 9]\n",
      "[1000, 1, 2, 3, 4, 5, 6, 7, 8, 9]\n"
     ]
    }
   ],
   "source": [
    "# 특정 index의 값을 변경 -> 대입연산자\n",
    "\n",
    "print(ll)\n",
    "ll[0] =1000\n",
    "print(ll)"
   ]
  },
  {
   "cell_type": "code",
   "execution_count": 15,
   "id": "8a39c895",
   "metadata": {},
   "outputs": [
    {
     "ename": "TypeError",
     "evalue": "'str' object does not support item assignment",
     "output_type": "error",
     "traceback": [
      "\u001b[1;31m---------------------------------------------------------------------------\u001b[0m",
      "\u001b[1;31mTypeError\u001b[0m                                 Traceback (most recent call last)",
      "Cell \u001b[1;32mIn[15], line 2\u001b[0m\n\u001b[0;32m      1\u001b[0m ss \u001b[38;5;241m=\u001b[39m \u001b[38;5;124m'\u001b[39m\u001b[38;5;124mabc\u001b[39m\u001b[38;5;124m'\u001b[39m\n\u001b[1;32m----> 2\u001b[0m ss[\u001b[38;5;241m0\u001b[39m] \u001b[38;5;241m=\u001b[39m \u001b[38;5;124m'\u001b[39m\u001b[38;5;124m가\u001b[39m\u001b[38;5;124m'\u001b[39m\n",
      "\u001b[1;31mTypeError\u001b[0m: 'str' object does not support item assignment"
     ]
    }
   ],
   "source": [
    "ss = 'abc'\n",
    "ss[0] = '가'"
   ]
  },
  {
   "cell_type": "code",
   "execution_count": 16,
   "id": "c28b95ae",
   "metadata": {},
   "outputs": [
    {
     "name": "stdout",
     "output_type": "stream",
     "text": [
      "[1000, 1, 2, 30000, 4, 5, 6, 7, 8, 9]\n"
     ]
    }
   ],
   "source": [
    "ll[3] = 30000\n",
    "print(ll)"
   ]
  },
  {
   "cell_type": "code",
   "execution_count": 17,
   "id": "61b2fa6e",
   "metadata": {},
   "outputs": [
    {
     "data": {
      "text/plain": [
       "[1, 4, 7]"
      ]
     },
     "execution_count": 17,
     "metadata": {},
     "output_type": "execute_result"
    }
   ],
   "source": [
    "# slicing\n",
    "\n",
    "ll[1:8:3]  # 1, 4, 7"
   ]
  },
  {
   "cell_type": "code",
   "execution_count": 18,
   "id": "0fcc7319",
   "metadata": {},
   "outputs": [
    {
     "data": {
      "text/plain": [
       "[1, 2, 30000, 4, 5, 6]"
      ]
     },
     "execution_count": 18,
     "metadata": {},
     "output_type": "execute_result"
    }
   ],
   "source": [
    "ll[1:7] # 간격: 1"
   ]
  },
  {
   "cell_type": "code",
   "execution_count": 19,
   "id": "09fa022a",
   "metadata": {},
   "outputs": [
    {
     "data": {
      "text/plain": [
       "[1, 2, 30000, 4, 5, 6, 7]"
      ]
     },
     "execution_count": 19,
     "metadata": {},
     "output_type": "execute_result"
    }
   ],
   "source": [
    "ll[1:-2]"
   ]
  },
  {
   "cell_type": "code",
   "execution_count": 20,
   "id": "8b54f0fc",
   "metadata": {},
   "outputs": [
    {
     "data": {
      "text/plain": [
       "[1000, 1, 2, 30000, 4]"
      ]
     },
     "execution_count": 20,
     "metadata": {},
     "output_type": "execute_result"
    }
   ],
   "source": [
    "ll[:5] # 0~4"
   ]
  },
  {
   "cell_type": "code",
   "execution_count": 21,
   "id": "c4f3097a",
   "metadata": {},
   "outputs": [
    {
     "data": {
      "text/plain": [
       "[5, 6, 7, 8, 9]"
      ]
     },
     "execution_count": 21,
     "metadata": {},
     "output_type": "execute_result"
    }
   ],
   "source": [
    "ll[5:] # 5~끝까지"
   ]
  },
  {
   "cell_type": "code",
   "execution_count": 23,
   "id": "0b8d37b1",
   "metadata": {},
   "outputs": [
    {
     "data": {
      "text/plain": [
       "[9, 8, 7, 6, 5, 4, 30000, 2, 1, 1000]"
      ]
     },
     "execution_count": 23,
     "metadata": {},
     "output_type": "execute_result"
    }
   ],
   "source": [
    "ll[::-1]"
   ]
  },
  {
   "cell_type": "code",
   "execution_count": 24,
   "id": "c6b809c9",
   "metadata": {},
   "outputs": [
    {
     "data": {
      "text/plain": [
       "[6, 4, 2]"
      ]
     },
     "execution_count": 24,
     "metadata": {},
     "output_type": "execute_result"
    }
   ],
   "source": [
    "ll[6:1:-2]"
   ]
  },
  {
   "cell_type": "code",
   "execution_count": 26,
   "id": "a8c27b60",
   "metadata": {},
   "outputs": [],
   "source": [
    "# 변경\n",
    "ll[:3] = 500, 900, 800 # 0 index: 500, 1 index: 900, 2 index: 800"
   ]
  },
  {
   "cell_type": "code",
   "execution_count": 27,
   "id": "778fa852",
   "metadata": {},
   "outputs": [
    {
     "name": "stdout",
     "output_type": "stream",
     "text": [
      "[500, 900, 800, 30000, 4, 5, 6, 7, 8, 9]\n"
     ]
    }
   ],
   "source": [
    "print(ll)"
   ]
  },
  {
   "cell_type": "markdown",
   "id": "a4f9fe12",
   "metadata": {
    "slideshow": {
     "slide_type": "slide"
    }
   },
   "source": [
    "## List 연산자\n",
    "- 리스트 + 리스트\n",
    "    - 두 리스트의 원소들을 합친 리스트를 반환한다.\n",
    "- 리스트 * 정수\n",
    "    - 같은 리스트의 원소들을 정수번 합친 리스트를 반환한다.   \n",
    "- in, not in 연산자\n",
    "    - 값 in 리스트\n",
    "        - 리스트의 원소로 값이 **있으면** True, 없으면 False 반환\n",
    "    - 값 not in 리스트\n",
    "        - 리스트의 원소로 값이 **없으면** True, 있으면 False 반환  \n",
    "- len(리스트)\n",
    "    - 리스트 내의 원소수를 반환.        "
   ]
  },
  {
   "cell_type": "code",
   "execution_count": 29,
   "id": "f085e817",
   "metadata": {
    "ExecuteTime": {
     "end_time": "2022-12-17T14:17:03.293505Z",
     "start_time": "2022-12-17T14:17:03.285501Z"
    },
    "slideshow": {
     "slide_type": "fragment"
    }
   },
   "outputs": [
    {
     "name": "stdout",
     "output_type": "stream",
     "text": [
      "[1, 2, 3]\n",
      "['가', '나']\n",
      "[1, 2, 3, '가', '나']\n"
     ]
    }
   ],
   "source": [
    "a=[1, 2, 3]\n",
    "b=['가', '나']\n",
    "c = a + b\n",
    "print(a)\n",
    "print(b)\n",
    "print(c)"
   ]
  },
  {
   "cell_type": "code",
   "execution_count": 30,
   "id": "f49e376f",
   "metadata": {},
   "outputs": [
    {
     "name": "stdout",
     "output_type": "stream",
     "text": [
      "[1, 2, 3, '가', '나', 1, 2, 3, '가', '나']\n"
     ]
    }
   ],
   "source": [
    "d = a + b + c\n",
    "print(d)"
   ]
  },
  {
   "cell_type": "code",
   "execution_count": 31,
   "id": "444d54af",
   "metadata": {},
   "outputs": [
    {
     "name": "stdout",
     "output_type": "stream",
     "text": [
      "[1, 2, 3, 1, 2, 3, 1, 2, 3]\n"
     ]
    }
   ],
   "source": [
    "e = a*3\n",
    "print(e)"
   ]
  },
  {
   "cell_type": "code",
   "execution_count": 32,
   "id": "99cd7504",
   "metadata": {},
   "outputs": [
    {
     "name": "stdout",
     "output_type": "stream",
     "text": [
      "True\n",
      "False\n"
     ]
    }
   ],
   "source": [
    "print(1 in a)\n",
    "print(10 in a)"
   ]
  },
  {
   "cell_type": "code",
   "execution_count": 33,
   "id": "59bc51a7",
   "metadata": {},
   "outputs": [
    {
     "name": "stdout",
     "output_type": "stream",
     "text": [
      "False\n",
      "True\n"
     ]
    }
   ],
   "source": [
    "print(1 not in a)\n",
    "print(10 not in a)"
   ]
  },
  {
   "cell_type": "code",
   "execution_count": 34,
   "id": "0ea8f16e",
   "metadata": {},
   "outputs": [
    {
     "name": "stdout",
     "output_type": "stream",
     "text": [
      "False\n"
     ]
    }
   ],
   "source": [
    "print([1, 2] in a) # a안에 [1, 2]가 있는지"
   ]
  },
  {
   "cell_type": "code",
   "execution_count": 36,
   "id": "528ba9a0",
   "metadata": {},
   "outputs": [
    {
     "data": {
      "text/plain": [
       "True"
      ]
     },
     "execution_count": 36,
     "metadata": {},
     "output_type": "execute_result"
    }
   ],
   "source": [
    "[1, 2] in [[1, 2], [3, 4, 5]]"
   ]
  },
  {
   "cell_type": "code",
   "execution_count": 39,
   "id": "50941588",
   "metadata": {},
   "outputs": [
    {
     "data": {
      "text/plain": [
       "False"
      ]
     },
     "execution_count": 39,
     "metadata": {},
     "output_type": "execute_result"
    }
   ],
   "source": [
    "(1 in a ) and ( 4 in a )"
   ]
  },
  {
   "cell_type": "markdown",
   "id": "f90af754",
   "metadata": {
    "slideshow": {
     "slide_type": "slide"
    }
   },
   "source": [
    "## 중첩 리스트 (Nested List)\n",
    "- List가 원소로 List를 가지는 것을 말한다.\n",
    "    - List를 포함한 모든 자료구조 타입들도 다 값이므로 다른 자료구조의 원소로 들어갈 수 있다.    "
   ]
  },
  {
   "cell_type": "code",
   "execution_count": 42,
   "id": "01bede57",
   "metadata": {
    "slideshow": {
     "slide_type": "fragment"
    }
   },
   "outputs": [],
   "source": [
    "l2 = [\n",
    "      [10, 20, 30], \n",
    "      [100, 200, 300], \n",
    "      [1000, 2000, 3000]\n",
    "]"
   ]
  },
  {
   "cell_type": "code",
   "execution_count": 41,
   "id": "f8526e1a",
   "metadata": {},
   "outputs": [
    {
     "data": {
      "text/plain": [
       "3"
      ]
     },
     "execution_count": 41,
     "metadata": {},
     "output_type": "execute_result"
    }
   ],
   "source": [
    "len(l2)"
   ]
  },
  {
   "cell_type": "code",
   "execution_count": 43,
   "id": "42f4baf1",
   "metadata": {},
   "outputs": [
    {
     "data": {
      "text/plain": [
       "[100, 200, 300]"
      ]
     },
     "execution_count": 43,
     "metadata": {},
     "output_type": "execute_result"
    }
   ],
   "source": [
    "a=l2[1]\n",
    "a"
   ]
  },
  {
   "cell_type": "code",
   "execution_count": 45,
   "id": "0b087df4",
   "metadata": {},
   "outputs": [
    {
     "data": {
      "text/plain": [
       "200"
      ]
     },
     "execution_count": 45,
     "metadata": {},
     "output_type": "execute_result"
    }
   ],
   "source": [
    "a[1]"
   ]
  },
  {
   "cell_type": "code",
   "execution_count": 46,
   "id": "5e32d3b4",
   "metadata": {},
   "outputs": [
    {
     "data": {
      "text/plain": [
       "200"
      ]
     },
     "execution_count": 46,
     "metadata": {},
     "output_type": "execute_result"
    }
   ],
   "source": [
    "l2[1][1]"
   ]
  },
  {
   "cell_type": "markdown",
   "id": "29ff0e07",
   "metadata": {
    "slideshow": {
     "slide_type": "slide"
    }
   },
   "source": [
    "## List 대입\n",
    "리스트의 원소들을 각각 다른 변수에 대입하는 표현식"
   ]
  },
  {
   "cell_type": "code",
   "execution_count": 47,
   "id": "2dfd6c46",
   "metadata": {
    "slideshow": {
     "slide_type": "fragment"
    }
   },
   "outputs": [
    {
     "name": "stdout",
     "output_type": "stream",
     "text": [
      "10\n",
      "20\n",
      "30\n"
     ]
    }
   ],
   "source": [
    "# num1 = 10\n",
    "# num2 = 20\n",
    "# num3 = 30\n",
    "\n",
    "num1, num2, num3 = [10, 20, 30] # 변수의 개수와 리스트원소의 개수는 동일\n",
    "print(num1)\n",
    "print(num2)\n",
    "print(num3)"
   ]
  },
  {
   "cell_type": "code",
   "execution_count": 48,
   "id": "7dc20df5",
   "metadata": {},
   "outputs": [
    {
     "name": "stdout",
     "output_type": "stream",
     "text": [
      "1\n",
      "2\n",
      "3\n"
     ]
    }
   ],
   "source": [
    "a, b, c = 1, 2, 3\n",
    "print(a)\n",
    "print(b)\n",
    "print(c)\n",
    "\n",
    "# Tuple대입"
   ]
  },
  {
   "cell_type": "markdown",
   "id": "826b8780",
   "metadata": {
    "slideshow": {
     "slide_type": "slide"
    }
   },
   "source": [
    "## List 주요 메소드\n",
    "|메소드|설명|\n",
    "|:-|-|\n",
    "|append(value)|value를  추가한다.|\n",
    "|extend(List)|List의 원소들을 추가한다.|\n",
    "|sort(\\[reverse=False\\])|원소들을 오름차순 정렬한다. reverse=True로 하면 내림차순정렬 한다.|\n",
    "|insert(index, 삽입할값)|지정한 index에 '삽입할값'을 삽입한다.|\n",
    "|remove(삭제할값)|'삭제할값' 값과 같은 원소를 삭제한다.|\n",
    "|index(찾을값\\[, 시작index\\])|'찾을값'의 index를 반환한다.|\n",
    "|pop(\\[index\\])|index의 값을 반환하면서 삭제한다. index 생략하면 가장 마지막 값을 반환하며 삭제한다.|\n",
    "|count(값)|'값'이 리스트의 원소로 몇개 있는지 반환한다.|\n",
    "|clear()|리스트 안의 모든 원소들을 삭제한다.|\n",
    "\n"
   ]
  },
  {
   "cell_type": "code",
   "execution_count": 1,
   "id": "4b14d8e8",
   "metadata": {
    "slideshow": {
     "slide_type": "fragment"
    }
   },
   "outputs": [],
   "source": [
    "# 아마 제일 많이 쓰게 될 것이 append\n",
    "# a.extend(b) 를 하면 a가 바뀐다, a+b와는 다름\n",
    "# [1, 2].insert(1,100) -> [1, 100, 2]\n",
    "# [1, 1, 1] remove(1) 했다고 해서 다 지워지는게 아니고 한 개만 지워짐"
   ]
  },
  {
   "cell_type": "code",
   "execution_count": 50,
   "id": "d06d8fe6",
   "metadata": {},
   "outputs": [],
   "source": [
    "result_list = []\n",
    "result_list.append(1 + 1) # 처리결과를 결과리스트에 추가\n",
    "result_list.append(2 * 3)\n",
    "result_list.append(10/5)"
   ]
  },
  {
   "cell_type": "code",
   "execution_count": 51,
   "id": "bca1c410",
   "metadata": {},
   "outputs": [
    {
     "data": {
      "text/plain": [
       "[2, 6, 2.0]"
      ]
     },
     "execution_count": 51,
     "metadata": {},
     "output_type": "execute_result"
    }
   ],
   "source": [
    "result_list"
   ]
  },
  {
   "cell_type": "code",
   "execution_count": 52,
   "id": "f2cd3277",
   "metadata": {},
   "outputs": [
    {
     "data": {
      "text/plain": [
       "[2, 6, 2.0, 100, 200, 300]"
      ]
     },
     "execution_count": 52,
     "metadata": {},
     "output_type": "execute_result"
    }
   ],
   "source": [
    "i = [100, 200, 300]\n",
    "result_list + i # 두 리스트 원소들을 합친 새로운 리스트를 생성"
   ]
  },
  {
   "cell_type": "code",
   "execution_count": 53,
   "id": "03fa019d",
   "metadata": {},
   "outputs": [
    {
     "data": {
      "text/plain": [
       "[100, 200, 300]"
      ]
     },
     "execution_count": 53,
     "metadata": {},
     "output_type": "execute_result"
    }
   ],
   "source": [
    "i"
   ]
  },
  {
   "cell_type": "code",
   "execution_count": 54,
   "id": "99eb5bb2",
   "metadata": {},
   "outputs": [
    {
     "data": {
      "text/plain": [
       "[2, 6, 2.0, 100, 200, 300]"
      ]
     },
     "execution_count": 54,
     "metadata": {},
     "output_type": "execute_result"
    }
   ],
   "source": [
    "result_list.extend(i) # result_list에 리스트 i의 원소들을 추가\n",
    "result_list"
   ]
  },
  {
   "cell_type": "code",
   "execution_count": 55,
   "id": "97901a2b",
   "metadata": {},
   "outputs": [
    {
     "name": "stdout",
     "output_type": "stream",
     "text": [
      "[8, 9, 24, 43, 55, 100]\n"
     ]
    }
   ],
   "source": [
    "i2 = [100, 8, 24, 9, 43, 55]\n",
    "# 정렬 오름차순\n",
    "i2.sort()\n",
    "print(i2)"
   ]
  },
  {
   "cell_type": "code",
   "execution_count": 57,
   "id": "42fc2460",
   "metadata": {},
   "outputs": [
    {
     "name": "stdout",
     "output_type": "stream",
     "text": [
      "[100, 55, 43, 24, 9, 8]\n"
     ]
    }
   ],
   "source": [
    "# 정렬 내림차순\n",
    "i2.sort(reverse=True)\n",
    "print(i2)"
   ]
  },
  {
   "cell_type": "code",
   "execution_count": 59,
   "id": "5bd569c4",
   "metadata": {},
   "outputs": [
    {
     "data": {
      "text/plain": [
       "[102, 99, 29, 26, 5]"
      ]
     },
     "execution_count": 59,
     "metadata": {},
     "output_type": "execute_result"
    }
   ],
   "source": [
    "i3=[102, 5, 26, 29, 99]\n",
    "# 정렬 함수\n",
    "sorted(i3, reverse=True) # Tuple이나 Dictionary도 정렬 가능, i3를 정렬한 값들을 원소로 가지는 새로운 리스트"
   ]
  },
  {
   "cell_type": "code",
   "execution_count": 60,
   "id": "98ed9c13",
   "metadata": {},
   "outputs": [
    {
     "name": "stdout",
     "output_type": "stream",
     "text": [
      "[102, 5, 26, 29, 99]\n"
     ]
    }
   ],
   "source": [
    "print(i3)"
   ]
  },
  {
   "cell_type": "code",
   "execution_count": 62,
   "id": "d69ed195",
   "metadata": {},
   "outputs": [
    {
     "name": "stdout",
     "output_type": "stream",
     "text": [
      "6\n",
      "5\n"
     ]
    }
   ],
   "source": [
    "# 삭제\n",
    "u=[1, 2, 3, 4, 5, 1]\n",
    "print(len(u))\n",
    "\n",
    "# 값으로 삭제\n",
    "u.remove(1) # u의 원소들 중 1을 삭제\n",
    "print(len(u))"
   ]
  },
  {
   "cell_type": "code",
   "execution_count": 63,
   "id": "624d81b9",
   "metadata": {},
   "outputs": [
    {
     "name": "stdout",
     "output_type": "stream",
     "text": [
      "[2, 3, 4, 5, 1]\n"
     ]
    }
   ],
   "source": [
    "print(u)"
   ]
  },
  {
   "cell_type": "code",
   "execution_count": 65,
   "id": "ac21418e",
   "metadata": {},
   "outputs": [
    {
     "data": {
      "text/plain": [
       "2"
      ]
     },
     "execution_count": 65,
     "metadata": {},
     "output_type": "execute_result"
    }
   ],
   "source": [
    "u[0]"
   ]
  },
  {
   "cell_type": "code",
   "execution_count": 66,
   "id": "cd6d6184",
   "metadata": {},
   "outputs": [
    {
     "name": "stdout",
     "output_type": "stream",
     "text": [
      "[2, 3, 4, 5, 1]\n",
      "3\n",
      "[2, 4, 5, 1]\n"
     ]
    }
   ],
   "source": [
    "# index로 삭제\n",
    "print(u)\n",
    "v=u.pop(1)\n",
    "print(v)\n",
    "print(u)"
   ]
  },
  {
   "cell_type": "code",
   "execution_count": 67,
   "id": "967dd5b1",
   "metadata": {},
   "outputs": [
    {
     "name": "stdout",
     "output_type": "stream",
     "text": [
      "[2, 4, 5, 1]\n",
      "[2, 5, 1]\n"
     ]
    }
   ],
   "source": [
    "print(u)\n",
    "del u[1]\n",
    "print(u)"
   ]
  },
  {
   "cell_type": "code",
   "execution_count": 68,
   "id": "dc95eea4",
   "metadata": {},
   "outputs": [
    {
     "name": "stdout",
     "output_type": "stream",
     "text": [
      "[]\n"
     ]
    }
   ],
   "source": [
    "# 다 지우기\n",
    "u.clear()\n",
    "print(u)"
   ]
  },
  {
   "cell_type": "code",
   "execution_count": 70,
   "id": "0854a7ff",
   "metadata": {},
   "outputs": [
    {
     "name": "stdout",
     "output_type": "stream",
     "text": [
      "4\n",
      "5\n"
     ]
    }
   ],
   "source": [
    "w=[1, 1, 1, 3, 2, 3, 3, 3, 1, 3, 2, ]\n",
    "print(w.count(1))\n",
    "print(w.count(3))"
   ]
  },
  {
   "cell_type": "markdown",
   "id": "5b28f033",
   "metadata": {
    "slideshow": {
     "slide_type": "slide"
    }
   },
   "source": [
    "# Tuple (튜플)\n",
    "- List와 같이 순서대로 원소들을 관리한다. 단 저장된 원소를 변경할 수 없다.\n",
    "- Tuple 은 각 위치(Index) 마다 정해진 의미가 있고 그 값이 한번 설정되면 바뀌지 않는 경우에 사용한다. \n",
    "    - Tuple은 값의 변경되지 않으므로 안전하다.\n",
    "    \n",
    "## Tuple 생성\n",
    "- `(value, value, value, ...)`\n",
    "- 소괄호를 생략할 수 있다.\n",
    "- 원소가 하나인 Tuple 표현식\n",
    "    - `(value,)` 또는 `value,` \n",
    "        - 값 뒤에 `,` 를 붙여준다. `,`를 붙이지 않으면 ( )가 연산자 우선순위 괄호가 된다. "
   ]
  },
  {
   "cell_type": "code",
   "execution_count": null,
   "id": "17099a9e",
   "metadata": {
    "slideshow": {
     "slide_type": "fragment"
    }
   },
   "outputs": [],
   "source": []
  },
  {
   "cell_type": "markdown",
   "id": "16954356",
   "metadata": {
    "slideshow": {
     "slide_type": "slide"
    }
   },
   "source": [
    "## Indexing과 Slicing을 이용한 원소(element) 조회\n",
    "- 리스트와 동일하다.\n",
    "- 단 튜플은 조회만 가능하고 원소를 변경할 수 없다."
   ]
  },
  {
   "cell_type": "code",
   "execution_count": null,
   "id": "6c5b9b2c",
   "metadata": {
    "slideshow": {
     "slide_type": "fragment"
    }
   },
   "outputs": [],
   "source": []
  },
  {
   "cell_type": "markdown",
   "id": "135101f3",
   "metadata": {
    "slideshow": {
     "slide_type": "slide"
    }
   },
   "source": [
    "## Tuple 연산자\n",
    "- tuple + tuple\n",
    "    - 두 tuple의 원소들을 합친 tuple을 반환한다.\n",
    "- tuple * 정수\n",
    "    - 같은 tuple의 원소들을 정수번 합친 tuple를 반환한다.  \n",
    "- in, not in 연산자\n",
    "    - 값 in tuple\n",
    "        - tuple의 원소로 값이 **있으면** True, 없으면 False 반환\n",
    "    - 값 not in tuple\n",
    "        - tuple의 원소로 값이 **없으면** True, 있으면 False 반환    \n",
    "- len(tuple)\n",
    "    - tuple의 원소 개수 반환        "
   ]
  },
  {
   "cell_type": "code",
   "execution_count": 73,
   "id": "5903e00f",
   "metadata": {
    "slideshow": {
     "slide_type": "fragment"
    }
   },
   "outputs": [
    {
     "name": "stdout",
     "output_type": "stream",
     "text": [
      "<class 'tuple'>\n",
      "(1, 2, 3, 4, 5)\n",
      "(1, True, '가나', 3.3)\n",
      "(1, 1, 2, 1, 2, 3, 2, 3, 3, 3)\n",
      "<class 'int'>\n",
      "<class 'tuple'> 1\n"
     ]
    }
   ],
   "source": [
    "# 생성\n",
    "t1 = (1, 2, 3, 4, 5)\n",
    "t2 = (1, True, '가나', 3.3)\n",
    "t3 = (1, 1, 2, 1, 2, 3, 2, 3, 3, 3) # 중복 허용\n",
    "t4 = (1)\n",
    "t5 = (1, )\n",
    "print(type(t1))\n",
    "print(t1)\n",
    "print(t2)\n",
    "print(t3)\n",
    "print(type(t4))\n",
    "print(type(t5), len(t5))"
   ]
  },
  {
   "cell_type": "code",
   "execution_count": null,
   "id": "f3042a21",
   "metadata": {},
   "outputs": [],
   "source": [
    "# Tuple 생성시 ()는 생략가능\n",
    "t1 = 1, 2, 3, 4, 5\n",
    "t2 = 1, True, '가나', 3.3\n",
    "t3 = 1, 1, 2, 1, 2, 3, 2, 3, 3, 3 # 중복 허용\n",
    "t4 = 1\n",
    "t5 = 1, "
   ]
  },
  {
   "cell_type": "code",
   "execution_count": 74,
   "id": "5af63330",
   "metadata": {},
   "outputs": [
    {
     "name": "stdout",
     "output_type": "stream",
     "text": [
      "<class 'tuple'>\n",
      "(1, 2, 3, 4, 5)\n",
      "(1, True, '가나', 3.3)\n",
      "(1, 1, 2, 1, 2, 3, 2, 3, 3, 3)\n",
      "<class 'int'>\n",
      "<class 'tuple'> 1\n"
     ]
    }
   ],
   "source": [
    "print(type(t1))\n",
    "print(t1)\n",
    "print(t2)\n",
    "print(t3)\n",
    "print(type(t4))\n",
    "print(type(t5), len(t5))"
   ]
  },
  {
   "cell_type": "code",
   "execution_count": 75,
   "id": "8122ef8c",
   "metadata": {},
   "outputs": [
    {
     "data": {
      "text/plain": [
       "(1, 4)"
      ]
     },
     "execution_count": 75,
     "metadata": {},
     "output_type": "execute_result"
    }
   ],
   "source": [
    "# indexing\n",
    "t1[0], t1[-2]"
   ]
  },
  {
   "cell_type": "code",
   "execution_count": 76,
   "id": "17a9cba0",
   "metadata": {},
   "outputs": [
    {
     "ename": "TypeError",
     "evalue": "'tuple' object does not support item assignment",
     "output_type": "error",
     "traceback": [
      "\u001b[1;31m---------------------------------------------------------------------------\u001b[0m",
      "\u001b[1;31mTypeError\u001b[0m                                 Traceback (most recent call last)",
      "Cell \u001b[1;32mIn[76], line 1\u001b[0m\n\u001b[1;32m----> 1\u001b[0m t1[\u001b[38;5;241m0\u001b[39m]\u001b[38;5;241m=\u001b[39m\u001b[38;5;241m1000\u001b[39m\n",
      "\u001b[1;31mTypeError\u001b[0m: 'tuple' object does not support item assignment"
     ]
    }
   ],
   "source": [
    "t1[0]=1000 # 변경은 할 수 없다"
   ]
  },
  {
   "cell_type": "code",
   "execution_count": 77,
   "id": "994a422c",
   "metadata": {},
   "outputs": [
    {
     "data": {
      "text/plain": [
       "(2, 3, 4)"
      ]
     },
     "execution_count": 77,
     "metadata": {},
     "output_type": "execute_result"
    }
   ],
   "source": [
    "t1[1:4]"
   ]
  },
  {
   "cell_type": "code",
   "execution_count": 78,
   "id": "e57cf467",
   "metadata": {},
   "outputs": [
    {
     "data": {
      "text/plain": [
       "(1, 2, 3, 4, 5)"
      ]
     },
     "execution_count": 78,
     "metadata": {},
     "output_type": "execute_result"
    }
   ],
   "source": [
    "t1[:]"
   ]
  },
  {
   "cell_type": "code",
   "execution_count": 79,
   "id": "fbda4b04",
   "metadata": {},
   "outputs": [
    {
     "data": {
      "text/plain": [
       "(1, 3, 5)"
      ]
     },
     "execution_count": 79,
     "metadata": {},
     "output_type": "execute_result"
    }
   ],
   "source": [
    "t1[::2]"
   ]
  },
  {
   "cell_type": "code",
   "execution_count": 80,
   "id": "9948f716",
   "metadata": {},
   "outputs": [
    {
     "name": "stdout",
     "output_type": "stream",
     "text": [
      "(1, 2, 3, 4, 5, 10, 20)\n"
     ]
    }
   ],
   "source": [
    "# 연산자\n",
    "t1 = (1, 2, 3, 4, 5)\n",
    "t2 = 10, 20\n",
    "\n",
    "t3 = t1 + t2\n",
    "print(t3)"
   ]
  },
  {
   "cell_type": "code",
   "execution_count": 81,
   "id": "3e7023ad",
   "metadata": {},
   "outputs": [
    {
     "name": "stdout",
     "output_type": "stream",
     "text": [
      "(1, 2, 3, 4, 5)\n",
      "(10, 20)\n"
     ]
    }
   ],
   "source": [
    "print(t1)\n",
    "print(t2)"
   ]
  },
  {
   "cell_type": "code",
   "execution_count": 82,
   "id": "baf8e464",
   "metadata": {},
   "outputs": [
    {
     "name": "stdout",
     "output_type": "stream",
     "text": [
      "(10, 20)\n"
     ]
    }
   ],
   "source": [
    "print(t2)"
   ]
  },
  {
   "cell_type": "code",
   "execution_count": 86,
   "id": "0c9b6f93",
   "metadata": {},
   "outputs": [
    {
     "data": {
      "text/plain": [
       "False"
      ]
     },
     "execution_count": 86,
     "metadata": {},
     "output_type": "execute_result"
    }
   ],
   "source": [
    "300 in t1"
   ]
  },
  {
   "cell_type": "code",
   "execution_count": 87,
   "id": "05223c54",
   "metadata": {},
   "outputs": [
    {
     "data": {
      "text/plain": [
       "True"
      ]
     },
     "execution_count": 87,
     "metadata": {},
     "output_type": "execute_result"
    }
   ],
   "source": [
    "30 not in t3"
   ]
  },
  {
   "cell_type": "markdown",
   "id": "6b602a99",
   "metadata": {
    "slideshow": {
     "slide_type": "slide"
    }
   },
   "source": [
    "## Tuple 대입\n",
    "- Tuple의 원소들을 각각 다른 변수에 대입하는 표현식"
   ]
  },
  {
   "cell_type": "code",
   "execution_count": 88,
   "id": "78d4e181",
   "metadata": {
    "slideshow": {
     "slide_type": "fragment"
    }
   },
   "outputs": [
    {
     "name": "stdout",
     "output_type": "stream",
     "text": [
      "10 20 30\n"
     ]
    }
   ],
   "source": [
    "a,b,c=10,20,30\n",
    "print(a,b,c)"
   ]
  },
  {
   "cell_type": "markdown",
   "id": "89803fdd",
   "metadata": {
    "slideshow": {
     "slide_type": "subslide"
    }
   },
   "source": [
    "## Tuple의 주요 메소드\n",
    "|메소드|설명|\n",
    "|:-|-|\n",
    "|index(찾을값 \\[, 시작index\\])|'찾을값'이 몇번 index인지 반환한다.|\n",
    "|count(값)|원소로 '값'이 몇개 있는지 반환한다.|"
   ]
  },
  {
   "cell_type": "code",
   "execution_count": 89,
   "id": "93a527af",
   "metadata": {
    "slideshow": {
     "slide_type": "fragment"
    }
   },
   "outputs": [
    {
     "data": {
      "text/plain": [
       "1"
      ]
     },
     "execution_count": 89,
     "metadata": {},
     "output_type": "execute_result"
    }
   ],
   "source": [
    "t1.index(2)"
   ]
  },
  {
   "cell_type": "code",
   "execution_count": 90,
   "id": "1852dfe8",
   "metadata": {},
   "outputs": [
    {
     "ename": "ValueError",
     "evalue": "tuple.index(x): x not in tuple",
     "output_type": "error",
     "traceback": [
      "\u001b[1;31m---------------------------------------------------------------------------\u001b[0m",
      "\u001b[1;31mValueError\u001b[0m                                Traceback (most recent call last)",
      "Cell \u001b[1;32mIn[90], line 1\u001b[0m\n\u001b[1;32m----> 1\u001b[0m \u001b[43mt1\u001b[49m\u001b[38;5;241;43m.\u001b[39;49m\u001b[43mindex\u001b[49m\u001b[43m(\u001b[49m\u001b[38;5;241;43m200\u001b[39;49m\u001b[43m)\u001b[49m\n",
      "\u001b[1;31mValueError\u001b[0m: tuple.index(x): x not in tuple"
     ]
    }
   ],
   "source": [
    "t1.index(200) # 없는 것 찾을 경우 에러"
   ]
  },
  {
   "cell_type": "code",
   "execution_count": 93,
   "id": "2f0b6e43",
   "metadata": {},
   "outputs": [
    {
     "data": {
      "text/plain": [
       "1"
      ]
     },
     "execution_count": 93,
     "metadata": {},
     "output_type": "execute_result"
    }
   ],
   "source": [
    "t3.count(10)"
   ]
  },
  {
   "cell_type": "markdown",
   "id": "e6c196f5",
   "metadata": {
    "slideshow": {
     "slide_type": "slide"
    }
   },
   "source": [
    "# Dictionary\n",
    "- 값을 키(key)-값(value) 쌍으로 묶어서 저장하는 자료구조이다.\n",
    "    - 리스트나 튜플의 index의 역할을 하는 key를 직접 지정한다.\n",
    "    - 서로 의미가 다른 값들을 하나로 묶을 때 그 값의 의미를 key로 가질 수 있는 dictionary를 사용한다.\n",
    "        - cf) 값의 의미가 같을 경우 List나 Tuple을 사용한다.\n",
    "    - key-value 쌍으로 묶은 데이터 한개를 **item 또는 entry**라고 한다.\n",
    "    - key는 중복을 허용하지 않고 value는 중복을 허용한다.\n",
    "    \n",
    "## Dictionary 생성\n",
    "- 구문\n",
    "    1. `{ 키 : 값, 키 : 값, 키 : 값 }`\n",
    "    2. dict(key=value, key=value) 함수 이용 (key를 변수처럼 사용한다 따옴표같은거 붙이지 않음)\n",
    "    - 키(key)는 불변(Immutable)의 값들만 사용 가능하다. (숫자, 문자열, 튜플) **일반적으로 문자열을 사용한다.**\n",
    "    - dict() 함수를 사용할 경우 key는 변수로 정의한다"
   ]
  },
  {
   "cell_type": "code",
   "execution_count": 2,
   "id": "d9d37f28",
   "metadata": {
    "slideshow": {
     "slide_type": "fragment"
    }
   },
   "outputs": [],
   "source": [
    "# 과일박스 [30(귤), 70(사과), 50(배)] 이런 데이터가 았을 때 0번 index, 1번 index 이런식으로 list처럼 지정하면\n",
    "# 헷갈리니까 아예 30에 귤을 지정, 70에는 사과를 지정하는게 Dictionary"
   ]
  },
  {
   "cell_type": "code",
   "execution_count": 7,
   "id": "ff4282af",
   "metadata": {},
   "outputs": [
    {
     "data": {
      "text/plain": [
       "{'사과': 100, '수박': 20, '배': 50}"
      ]
     },
     "execution_count": 7,
     "metadata": {},
     "output_type": "execute_result"
    }
   ],
   "source": [
    "# fruit_counts = [100, 20, 50]\n",
    "# fruit_counts[2]\n",
    "# (key:value)\n",
    "\n",
    "fruit_counts = {\"사과\":100, \"수박\":20, \"배\":50}\n",
    "\n",
    "fruit_counts"
   ]
  },
  {
   "cell_type": "code",
   "execution_count": 8,
   "id": "ad2bd5f6",
   "metadata": {},
   "outputs": [],
   "source": [
    "# customer_info = {\"홍길동\", 20, \"서울\", \"AB\"}\n",
    "# customer_info[0]\n",
    "customer_info = {\n",
    "    \"name\":\"홍길동\",\n",
    "    \"age\":20,\n",
    "    \"address\":\"서울\",\n",
    "    \"blood_type\":\"AB\",\n",
    "    \"marry\":False,\n",
    "    \"hobby\":[\"영화\",\"독서\",\"게임\"]\n",
    "}"
   ]
  },
  {
   "cell_type": "code",
   "execution_count": 11,
   "id": "1e88e120",
   "metadata": {},
   "outputs": [
    {
     "name": "stdout",
     "output_type": "stream",
     "text": [
      "{'name': '홍길동', 'age': 20, 'address': '서울', 'blood_type': 'AB', 'marry': False, 'hobby': ['영화', '독서', '게임']}\n",
      "20\n"
     ]
    }
   ],
   "source": [
    "print(customer_info)\n",
    "print(customer_info[\"age\"])"
   ]
  },
  {
   "cell_type": "code",
   "execution_count": 12,
   "id": "f766a6ee",
   "metadata": {},
   "outputs": [
    {
     "name": "stdout",
     "output_type": "stream",
     "text": [
      "<class 'dict'>\n"
     ]
    },
    {
     "data": {
      "text/plain": [
       "{'사과': 30, '수박': 50, '귤': 70, '배': 100}"
      ]
     },
     "execution_count": 12,
     "metadata": {},
     "output_type": "execute_result"
    }
   ],
   "source": [
    "# dict() 함수를 이용해서 생성\n",
    "fruit_counts2 = dict(사과=30, 수박=50, 귤=70, 배=100)\n",
    "print(type(fruit_counts2))\n",
    "fruit_counts2"
   ]
  },
  {
   "cell_type": "code",
   "execution_count": 18,
   "id": "e4d4333e",
   "metadata": {},
   "outputs": [
    {
     "name": "stdout",
     "output_type": "stream",
     "text": [
      "<class 'dict'>\n"
     ]
    },
    {
     "data": {
      "text/plain": [
       "{'name': '홍길동',\n",
       " 'age': 20,\n",
       " 'address': '서울',\n",
       " 'blood_type': 'AB',\n",
       " 'marry': False,\n",
       " 'hobby': ['영화', '독서', '게임']}"
      ]
     },
     "execution_count": 18,
     "metadata": {},
     "output_type": "execute_result"
    }
   ],
   "source": [
    "customer_info2 = dict(name=\"홍길동\", age=20, address=\"서울\", blood_type=\"AB\", marry=False, hobby=[\"영화\", \"독서\", \"게임\"])\n",
    "print(type(customer_info2))\n",
    "customer_info2"
   ]
  },
  {
   "cell_type": "code",
   "execution_count": 17,
   "id": "d08e83fd",
   "metadata": {},
   "outputs": [
    {
     "name": "stdout",
     "output_type": "stream",
     "text": [
      "<class 'dict'>\n",
      "['영화', '독서', '게임']\n"
     ]
    }
   ],
   "source": [
    "# 조회할 떄는 문자로 조회를 해야한다\n",
    "\n",
    "print(customer_info2[\"hobby\"])"
   ]
  },
  {
   "cell_type": "markdown",
   "id": "f8c87bd3",
   "metadata": {
    "slideshow": {
     "slide_type": "subslide"
    }
   },
   "source": [
    "## Dictionary 원소 조회 및 변경\n",
    "- 조회: index에 key값을 식별자로 지정한다. \n",
    "    - dictionary\\[ key \\]\n",
    "    - 없는 키로 조회 시 KeyError 발생\n",
    "- 변경\n",
    "    - dictionary\\[ key \\] = 값\n",
    "    - 있는 key값에 값을 대입하면 변경이고 없는 key 일 경우는 새로운 item을 추가하는 것이다."
   ]
  },
  {
   "cell_type": "code",
   "execution_count": 19,
   "id": "459db630",
   "metadata": {
    "slideshow": {
     "slide_type": "fragment"
    }
   },
   "outputs": [
    {
     "name": "stdout",
     "output_type": "stream",
     "text": [
      "{'사과': 30, '배': 60}\n"
     ]
    }
   ],
   "source": [
    "a_dict = {\"사과\":10, \"사과\":20, \"사과\":30, \"배\":60}\n",
    "print(a_dict)"
   ]
  },
  {
   "cell_type": "code",
   "execution_count": 22,
   "id": "6704b94f",
   "metadata": {},
   "outputs": [],
   "source": [
    "# tab\n",
    "# cus까지 쳤을 때 tab을 누르면 customer_info, customer_info2가 나와서 선택할 수 있게 된다\n",
    "\n",
    "# shift tab: 설명(docstring)을 보여준다.\n",
    "# print치고 shift tab누르면 설명나옴. help(print) 라고 쳐도 설명, print?라고 쳐도 설명"
   ]
  },
  {
   "cell_type": "code",
   "execution_count": 24,
   "id": "12b6dcc2",
   "metadata": {},
   "outputs": [
    {
     "data": {
      "text/plain": [
       "('홍길동', 'AB', False)"
      ]
     },
     "execution_count": 24,
     "metadata": {},
     "output_type": "execute_result"
    }
   ],
   "source": [
    "customer_info[\"name\"], customer_info[\"blood_type\"], customer_info[\"marry\"]"
   ]
  },
  {
   "cell_type": "code",
   "execution_count": 25,
   "id": "901e76bf",
   "metadata": {},
   "outputs": [
    {
     "ename": "KeyError",
     "evalue": "'my age'",
     "output_type": "error",
     "traceback": [
      "\u001b[1;31m---------------------------------------------------------------------------\u001b[0m",
      "\u001b[1;31mKeyError\u001b[0m                                  Traceback (most recent call last)",
      "Cell \u001b[1;32mIn[25], line 1\u001b[0m\n\u001b[1;32m----> 1\u001b[0m \u001b[43mcustomer_info\u001b[49m\u001b[43m[\u001b[49m\u001b[38;5;124;43m\"\u001b[39;49m\u001b[38;5;124;43mmy age\u001b[39;49m\u001b[38;5;124;43m\"\u001b[39;49m\u001b[43m]\u001b[49m\n",
      "\u001b[1;31mKeyError\u001b[0m: 'my age'"
     ]
    }
   ],
   "source": [
    "customer_info[\"my age\"] # 없는 key로 조회 -> 에러"
   ]
  },
  {
   "cell_type": "code",
   "execution_count": 26,
   "id": "1251bba2",
   "metadata": {},
   "outputs": [
    {
     "data": {
      "text/plain": [
       "'영화'"
      ]
     },
     "execution_count": 26,
     "metadata": {},
     "output_type": "execute_result"
    }
   ],
   "source": [
    "customer_info[\"hobby\"][0]"
   ]
  },
  {
   "cell_type": "code",
   "execution_count": 27,
   "id": "eab2f5de",
   "metadata": {},
   "outputs": [],
   "source": [
    "customer_info['age']=76"
   ]
  },
  {
   "cell_type": "code",
   "execution_count": 29,
   "id": "0d993dac",
   "metadata": {},
   "outputs": [
    {
     "name": "stdout",
     "output_type": "stream",
     "text": [
      "{'name': '홍길동', 'age': 76, 'address': '서울', 'blood_type': 'AB', 'marry': False, 'hobby': ['영화', '독서', '게임']}\n"
     ]
    }
   ],
   "source": [
    "print(customer_info)  # 조회했을 때 나이가 76으로 변경"
   ]
  },
  {
   "cell_type": "code",
   "execution_count": 35,
   "id": "b2ad5380",
   "metadata": {},
   "outputs": [
    {
     "name": "stdout",
     "output_type": "stream",
     "text": [
      "{'name': '홍길동', 'age': 76, 'address': '제주', 'blood_type': 'AB', 'marry': False, 'hobby': ['영화', '독서', '게임'], 'tall': 166.3}\n"
     ]
    }
   ],
   "source": [
    "# 있는 key를 이용해 대입 -> 변경\n",
    "\n",
    "customer_info['address'] = \"제주\"\n",
    "print(customer_info)"
   ]
  },
  {
   "cell_type": "code",
   "execution_count": 34,
   "id": "b0a0b6c7",
   "metadata": {},
   "outputs": [
    {
     "name": "stdout",
     "output_type": "stream",
     "text": [
      "{'name': '홍길동', 'age': 76, 'address': '제주', 'blood_type': 'AB', 'marry': False, 'hobby': ['영화', '독서', '게임'], 'tall': 166.3}\n"
     ]
    }
   ],
   "source": [
    "# 없는 key를 이용해 대입 -> 추가\n",
    "\n",
    "customer_info['tall']=166.3\n",
    "print(customer_info)"
   ]
  },
  {
   "cell_type": "markdown",
   "id": "d5aade1e",
   "metadata": {
    "slideshow": {
     "slide_type": "slide"
    }
   },
   "source": [
    "## Dictionary 연산자\n",
    "\n",
    "- in, not in 연산자\n",
    "    - 값 in dictionary\n",
    "        - dictionary의 **Key**로 값이 **있으면** True, 없으면 False 반환\n",
    "    - 값 not in tuple\n",
    "        - dictionary의 **Key**로 값이 **없으면** True, 있으면 False 반환    \n",
    "- len(dictionary)\n",
    "    - dictionary의 **Item의 개수** 반환        "
   ]
  },
  {
   "cell_type": "code",
   "execution_count": 36,
   "id": "4a7c9061",
   "metadata": {
    "slideshow": {
     "slide_type": "fragment"
    }
   },
   "outputs": [
    {
     "data": {
      "text/plain": [
       "False"
      ]
     },
     "execution_count": 36,
     "metadata": {},
     "output_type": "execute_result"
    }
   ],
   "source": [
    "'홍길동' in customer_info  # '홍길동' key가 있는지 여부"
   ]
  },
  {
   "cell_type": "code",
   "execution_count": 39,
   "id": "1a1b0ee2",
   "metadata": {},
   "outputs": [
    {
     "data": {
      "text/plain": [
       "True"
      ]
     },
     "execution_count": 39,
     "metadata": {},
     "output_type": "execute_result"
    }
   ],
   "source": [
    "'name' in customer_info"
   ]
  },
  {
   "cell_type": "code",
   "execution_count": 38,
   "id": "7671c6d2",
   "metadata": {},
   "outputs": [
    {
     "data": {
      "text/plain": [
       "False"
      ]
     },
     "execution_count": 38,
     "metadata": {},
     "output_type": "execute_result"
    }
   ],
   "source": [
    "'weight' in customer_info"
   ]
  },
  {
   "cell_type": "code",
   "execution_count": 40,
   "id": "9a7792f9",
   "metadata": {},
   "outputs": [
    {
     "data": {
      "text/plain": [
       "7"
      ]
     },
     "execution_count": 40,
     "metadata": {},
     "output_type": "execute_result"
    }
   ],
   "source": [
    "len(customer_info)"
   ]
  },
  {
   "cell_type": "markdown",
   "id": "9f620ec1",
   "metadata": {
    "slideshow": {
     "slide_type": "slide"
    }
   },
   "source": [
    "## Dictionary 주요 메소드\n",
    "\n",
    "|메소드|설명|\n",
    "|:-|-|\n",
    "|get(key\\[, 기본값\\])|key의 item의 값을 반환한다. 단 key가 없을 경우 None또는 기본값을 반환한다.|\n",
    "|pop(key)|key의 item의 값을 반환하면서 dictionary에서 삭제한다. 없는 key일 경우 KeyError발생|\n",
    "|clear()|dictionary의 모든 item들을 삭제한다.|\n",
    "|del dict\\[key\\]|key의 item을 제거한다.|\n",
    "|items()|item의 key, value를 튜플로 묶어 모아 반환한다.|\n",
    "|keys()|key값들만 모아 반환한다.|\n",
    "|values()|value값들만 모아 반환한다.|"
   ]
  },
  {
   "cell_type": "code",
   "execution_count": 42,
   "id": "350e7ad5",
   "metadata": {
    "slideshow": {
     "slide_type": "fragment"
    }
   },
   "outputs": [
    {
     "name": "stdout",
     "output_type": "stream",
     "text": [
      "None\n"
     ]
    }
   ],
   "source": [
    "customer_info.get('weight') # key값에 weight가 없기에 None을 반환\n",
    "print(customer_info.get('weight'))"
   ]
  },
  {
   "cell_type": "code",
   "execution_count": 43,
   "id": "e9eb934d",
   "metadata": {},
   "outputs": [
    {
     "name": "stdout",
     "output_type": "stream",
     "text": [
      "없다\n"
     ]
    }
   ],
   "source": [
    "print(customer_info.get('weight', \"없다\")) # 찾는 key가 없으면 없다를 반환"
   ]
  },
  {
   "cell_type": "code",
   "execution_count": 44,
   "id": "7032955e",
   "metadata": {},
   "outputs": [
    {
     "name": "stdout",
     "output_type": "stream",
     "text": [
      "76\n"
     ]
    }
   ],
   "source": [
    "y = customer_info.pop('age')\n",
    "print(y)"
   ]
  },
  {
   "cell_type": "code",
   "execution_count": 46,
   "id": "4cb0fee1",
   "metadata": {},
   "outputs": [
    {
     "name": "stdout",
     "output_type": "stream",
     "text": [
      "{'name': '홍길동', 'address': '제주', 'blood_type': 'AB', 'marry': False, 'hobby': ['영화', '독서', '게임'], 'tall': 166.3}\n"
     ]
    }
   ],
   "source": [
    "print(customer_info) # pop 메소드로 인해 나이가 빠져있음"
   ]
  },
  {
   "cell_type": "code",
   "execution_count": 47,
   "id": "b5f62232",
   "metadata": {},
   "outputs": [
    {
     "name": "stdout",
     "output_type": "stream",
     "text": [
      "{'name': '홍길동', 'address': '제주', 'marry': False, 'hobby': ['영화', '독서', '게임'], 'tall': 166.3}\n"
     ]
    }
   ],
   "source": [
    "# 특정 아이템을 삭제\n",
    "\n",
    "del customer_info[\"blood_type\"]\n",
    "print(customer_info)"
   ]
  },
  {
   "cell_type": "code",
   "execution_count": 49,
   "id": "0b0ac142",
   "metadata": {},
   "outputs": [
    {
     "data": {
      "text/plain": [
       "dict_items([('name', '홍길동'), ('address', '제주'), ('marry', False), ('hobby', ['영화', '독서', '게임']), ('tall', 166.3)])"
      ]
     },
     "execution_count": 49,
     "metadata": {},
     "output_type": "execute_result"
    }
   ],
   "source": [
    "customer_info.items()  # type을 key와 value로 변환"
   ]
  },
  {
   "cell_type": "code",
   "execution_count": 50,
   "id": "6da02085",
   "metadata": {},
   "outputs": [
    {
     "data": {
      "text/plain": [
       "dict_keys(['name', 'address', 'marry', 'hobby', 'tall'])"
      ]
     },
     "execution_count": 50,
     "metadata": {},
     "output_type": "execute_result"
    }
   ],
   "source": [
    "customer_info.keys()"
   ]
  },
  {
   "cell_type": "code",
   "execution_count": 51,
   "id": "9b4ca4b2",
   "metadata": {},
   "outputs": [
    {
     "data": {
      "text/plain": [
       "dict_values(['홍길동', '제주', False, ['영화', '독서', '게임'], 166.3])"
      ]
     },
     "execution_count": 51,
     "metadata": {},
     "output_type": "execute_result"
    }
   ],
   "source": [
    "customer_info.values()"
   ]
  },
  {
   "cell_type": "code",
   "execution_count": 52,
   "id": "b13b252c",
   "metadata": {},
   "outputs": [
    {
     "name": "stdout",
     "output_type": "stream",
     "text": [
      "홍길동\n",
      "제주\n",
      "False\n",
      "['영화', '독서', '게임']\n",
      "166.3\n"
     ]
    }
   ],
   "source": [
    "for y in customer_info.values():\n",
    "    print(y)"
   ]
  },
  {
   "cell_type": "code",
   "execution_count": 57,
   "id": "662c2a63",
   "metadata": {},
   "outputs": [
    {
     "name": "stdout",
     "output_type": "stream",
     "text": [
      "name\n",
      "marry\n"
     ]
    }
   ],
   "source": [
    "for w in customer_info.keys():\n",
    "    if w == 'name' or w == 'marry':\n",
    "        print(w)\n",
    "        \n",
    "# 특정 조건이 있으면 그것만 뽑아서 출력"
   ]
  },
  {
   "cell_type": "markdown",
   "id": "d97869af",
   "metadata": {
    "slideshow": {
     "slide_type": "slide"
    }
   },
   "source": [
    "# Set \n",
    "\n",
    "- Set은 중복되는 값을 허용하지 않고 순서를 신경 쓰지 않는다.\n",
    "    - 원소를 식별할 수 있는 식별자가 없기 때문에 Set은 indexing과 slicing을 지원하지 않는다\n",
    "\n",
    "## Set 생성\n",
    "- 구문\n",
    "    - {값, 값, 값 }\n",
    "\n",
    "> -빈 Dictionary 만들기\n",
    ">    - info = {}\n",
    ">    - 중괄호만 사용하면 빈 set이 아니라 빈 dictionary를 생성하는 것임.\n"
   ]
  },
  {
   "cell_type": "code",
   "execution_count": 58,
   "id": "5c88480a",
   "metadata": {
    "slideshow": {
     "slide_type": "fragment"
    }
   },
   "outputs": [
    {
     "data": {
      "text/plain": [
       "{1}"
      ]
     },
     "execution_count": 58,
     "metadata": {},
     "output_type": "execute_result"
    }
   ],
   "source": [
    "{1, 1, 1, 1, 1, 1}"
   ]
  },
  {
   "cell_type": "code",
   "execution_count": 59,
   "id": "70682f04",
   "metadata": {},
   "outputs": [
    {
     "name": "stdout",
     "output_type": "stream",
     "text": [
      "{1, 2, 3, 4, 5}\n"
     ]
    }
   ],
   "source": [
    "m = {1, 2, 3, 4, 5}\n",
    "print(m)"
   ]
  },
  {
   "cell_type": "code",
   "execution_count": 60,
   "id": "b8cb9510",
   "metadata": {},
   "outputs": [
    {
     "name": "stdout",
     "output_type": "stream",
     "text": [
      "{False, 'U', 20.889, 10, None}\n"
     ]
    }
   ],
   "source": [
    "m2 = {10, \"U\", False, None, 20.889}\n",
    "print(m2)"
   ]
  },
  {
   "cell_type": "code",
   "execution_count": 61,
   "id": "e45ab05b",
   "metadata": {},
   "outputs": [
    {
     "name": "stdout",
     "output_type": "stream",
     "text": [
      "{1, 2, 3, 4, 5}\n"
     ]
    }
   ],
   "source": [
    "m3 = {1, 1, 2, 2, 3, 1, 1, 2, 4, 2, 5, 1, 1, 2}\n",
    "print(m3)"
   ]
  },
  {
   "cell_type": "code",
   "execution_count": 62,
   "id": "5574cffb",
   "metadata": {},
   "outputs": [
    {
     "ename": "TypeError",
     "evalue": "'set' object is not subscriptable",
     "output_type": "error",
     "traceback": [
      "\u001b[1;31m---------------------------------------------------------------------------\u001b[0m",
      "\u001b[1;31mTypeError\u001b[0m                                 Traceback (most recent call last)",
      "Cell \u001b[1;32mIn[62], line 2\u001b[0m\n\u001b[0;32m      1\u001b[0m \u001b[38;5;66;03m# 개별원소 조회\u001b[39;00m\n\u001b[1;32m----> 2\u001b[0m \u001b[43mm3\u001b[49m\u001b[43m[\u001b[49m\u001b[38;5;241;43m0\u001b[39;49m\u001b[43m]\u001b[49m\n",
      "\u001b[1;31mTypeError\u001b[0m: 'set' object is not subscriptable"
     ]
    }
   ],
   "source": [
    "# 개별원소 조회\n",
    "m3[0]"
   ]
  },
  {
   "cell_type": "code",
   "execution_count": 71,
   "id": "40d3de20",
   "metadata": {},
   "outputs": [
    {
     "name": "stdout",
     "output_type": "stream",
     "text": [
      "1\n",
      "2\n",
      "3\n",
      "4\n",
      "5\n"
     ]
    }
   ],
   "source": [
    "for c in m3:\n",
    "   \n",
    "  \n",
    " print(c)"
   ]
  },
  {
   "cell_type": "markdown",
   "id": "79cf0f20",
   "metadata": {
    "slideshow": {
     "slide_type": "slide"
    }
   },
   "source": [
    "## Set 연산자\n",
    "\n",
    "- in, not in 연산자\n",
    "    - 값 in Set\n",
    "        - Set의 원소로 값이 **있으면** True, 없으면 False 반환\n",
    "    - 값 not in Set\n",
    "        - Set의 원소로 값이 **없으면** True, 있으면 False 반환    \n",
    "- len(Set)\n",
    "    - Set의 **원소의 개수** 반환        "
   ]
  },
  {
   "cell_type": "code",
   "execution_count": 72,
   "id": "80be18ad",
   "metadata": {
    "slideshow": {
     "slide_type": "fragment"
    }
   },
   "outputs": [
    {
     "data": {
      "text/plain": [
       "(True, False)"
      ]
     },
     "execution_count": 72,
     "metadata": {},
     "output_type": "execute_result"
    }
   ],
   "source": [
    "2 in m3, 19 in m3"
   ]
  },
  {
   "cell_type": "markdown",
   "id": "080c2a17",
   "metadata": {
    "slideshow": {
     "slide_type": "slide"
    }
   },
   "source": [
    "## Set의 주요 메소드\n",
    "\n",
    "|메소드|설명|\n",
    "|-|-|\n",
    "|add(값)|집합에 값 추가|\n",
    "|update(자료구조)|자료구조내의 원소들을 모두 집합에 추가|\n",
    "|pop()|원소를 반환하고 Set에서 삭제한다.|\n",
    "|remove(값)|값을 찾아서 Set에서 삭제한다.|"
   ]
  },
  {
   "cell_type": "code",
   "execution_count": 73,
   "id": "b12f08b0",
   "metadata": {
    "slideshow": {
     "slide_type": "fragment"
    }
   },
   "outputs": [
    {
     "name": "stdout",
     "output_type": "stream",
     "text": [
      "{1, 2, 3, 4, 5, 100}\n"
     ]
    }
   ],
   "source": [
    "m3.add(100)\n",
    "print(m3)"
   ]
  },
  {
   "cell_type": "code",
   "execution_count": 74,
   "id": "9a71d5d2",
   "metadata": {},
   "outputs": [
    {
     "name": "stdout",
     "output_type": "stream",
     "text": [
      "{1, 2, 3, 4, 5, 100}\n"
     ]
    }
   ],
   "source": [
    "m3.add(1)\n",
    "print(m3)"
   ]
  },
  {
   "cell_type": "code",
   "execution_count": 78,
   "id": "1bd722a8",
   "metadata": {},
   "outputs": [
    {
     "data": {
      "text/plain": [
       "{-8, 1, 2, 3, 4, 5, 100, 800.0}"
      ]
     },
     "execution_count": 78,
     "metadata": {},
     "output_type": "execute_result"
    }
   ],
   "source": [
    "m4 = [1, 8e2, -8]\n",
    "m3.update(m4)\n",
    "m3"
   ]
  },
  {
   "cell_type": "code",
   "execution_count": 79,
   "id": "4c3acc46",
   "metadata": {},
   "outputs": [
    {
     "name": "stdout",
     "output_type": "stream",
     "text": [
      "800.0\n"
     ]
    }
   ],
   "source": [
    "v3 = m3.pop()\n",
    "print(v3)"
   ]
  },
  {
   "cell_type": "code",
   "execution_count": 81,
   "id": "9bd07153",
   "metadata": {},
   "outputs": [
    {
     "data": {
      "text/plain": [
       "{-8, 1, 2, 3, 4, 5, 100}"
      ]
     },
     "execution_count": 81,
     "metadata": {},
     "output_type": "execute_result"
    }
   ],
   "source": [
    "m3"
   ]
  },
  {
   "cell_type": "code",
   "execution_count": 82,
   "id": "f9b30e3e",
   "metadata": {},
   "outputs": [],
   "source": [
    "m3.remove(4)"
   ]
  },
  {
   "cell_type": "code",
   "execution_count": 84,
   "id": "cf2ceba1",
   "metadata": {},
   "outputs": [
    {
     "name": "stdout",
     "output_type": "stream",
     "text": [
      "{1, 2, 3, 5, 100, -8}\n"
     ]
    }
   ],
   "source": [
    "print(m3)"
   ]
  },
  {
   "cell_type": "code",
   "execution_count": 85,
   "id": "8350f766",
   "metadata": {},
   "outputs": [
    {
     "ename": "KeyError",
     "evalue": "8",
     "output_type": "error",
     "traceback": [
      "\u001b[1;31m---------------------------------------------------------------------------\u001b[0m",
      "\u001b[1;31mKeyError\u001b[0m                                  Traceback (most recent call last)",
      "Cell \u001b[1;32mIn[85], line 1\u001b[0m\n\u001b[1;32m----> 1\u001b[0m \u001b[43mm3\u001b[49m\u001b[38;5;241;43m.\u001b[39;49m\u001b[43mremove\u001b[49m\u001b[43m(\u001b[49m\u001b[38;5;241;43m8\u001b[39;49m\u001b[43m)\u001b[49m\n",
      "\u001b[1;31mKeyError\u001b[0m: 8"
     ]
    }
   ],
   "source": [
    "m3.remove(8) # 없는 값 삭제 -> 에러(keyerror)"
   ]
  },
  {
   "cell_type": "code",
   "execution_count": 86,
   "id": "6111c91f",
   "metadata": {},
   "outputs": [
    {
     "name": "stdout",
     "output_type": "stream",
     "text": [
      "없어서 삭제 못함\n"
     ]
    }
   ],
   "source": [
    "try:\n",
    "    m3.remove(7)\n",
    "    print('삭제함')\n",
    "except:\n",
    "    print(\"없어서 삭제 못함\")"
   ]
  },
  {
   "cell_type": "markdown",
   "id": "33d115cd",
   "metadata": {
    "slideshow": {
     "slide_type": "subslide"
    }
   },
   "source": [
    "## Set의 집합연산 연산자 및 메소드\n",
    "\n",
    "- 합집합\n",
    "    - 집합A | 집합B\n",
    "    - 집합A.union(집합B)\n",
    "- 교집합\n",
    "    - 집합A & 집합B\n",
    "    - 집합A.intersection(집합B)\n",
    "- 차집합\n",
    "    - 집합A - 집합B\n",
    "    - 집합A.difference(집합B)"
   ]
  },
  {
   "cell_type": "code",
   "execution_count": 88,
   "id": "64bf5839",
   "metadata": {
    "slideshow": {
     "slide_type": "fragment"
    }
   },
   "outputs": [],
   "source": [
    "# 기준은 집합 A"
   ]
  },
  {
   "cell_type": "code",
   "execution_count": 92,
   "id": "34dd6790",
   "metadata": {},
   "outputs": [
    {
     "name": "stdout",
     "output_type": "stream",
     "text": [
      "{1, 2, 3, 4, 5}\n",
      "{3, 4, 5, 6, 7, 8}\n",
      "{1, 2, 3, 4, 5, 6, 7, 8}\n",
      "{1, 2, 3, 4, 5, 6, 7, 8}\n"
     ]
    }
   ],
   "source": [
    "s1 = {1, 2, 3, 4, 5}\n",
    "s2 = {3,4, 5, 6, 7, 8}\n",
    "s3 = s1|s2\n",
    "\n",
    "s4 = s1.union(s2)\n",
    "print(s1)\n",
    "print(s2)\n",
    "print(s3)\n",
    "print(s4)"
   ]
  },
  {
   "cell_type": "code",
   "execution_count": 98,
   "id": "5758eb23",
   "metadata": {},
   "outputs": [
    {
     "name": "stdout",
     "output_type": "stream",
     "text": [
      "{3, 4, 5}\n",
      "{3, 4, 5}\n"
     ]
    }
   ],
   "source": [
    "s5= s1&s2\n",
    "s6 = s1.intersection(s2)\n",
    "\n",
    "print(s5)\n",
    "print(s6)"
   ]
  },
  {
   "cell_type": "code",
   "execution_count": 99,
   "id": "dc86ca84",
   "metadata": {},
   "outputs": [
    {
     "name": "stdout",
     "output_type": "stream",
     "text": [
      "{1, 2}\n"
     ]
    }
   ],
   "source": [
    "s7 = s1 - s2\n",
    "print(s7)"
   ]
  },
  {
   "cell_type": "code",
   "execution_count": 100,
   "id": "9f340510",
   "metadata": {},
   "outputs": [
    {
     "data": {
      "text/plain": [
       "{0, 1}"
      ]
     },
     "execution_count": 100,
     "metadata": {},
     "output_type": "execute_result"
    }
   ],
   "source": [
    "{1, 0, True, False}"
   ]
  },
  {
   "cell_type": "markdown",
   "id": "a3778f41",
   "metadata": {
    "slideshow": {
     "slide_type": "slide"
    }
   },
   "source": [
    "# 자료구조 변환 함수\n",
    "\n",
    "- list(자료구조)\n",
    "    - 대상 자료구조/Iterable을 List로 변환한다.\n",
    "- tuple(자료구조)\n",
    "    - 대상 자료구조/Iterable을 Tuple로 변환\n",
    "- set(자료구조)\n",
    "    - 대상 자료구조/Iterable을 Set으로 변환\n",
    "    - 다른 자료구조의 원소 중 중복을 빼고 조회할 때 set()를 이용해 Set으로 변환한다.\n",
    "- Dictionary로 변환하는 함수는 없다.\n",
    "- 변경할 대상이 Dictionary 일 경우에는 key값들만 모아서 변환한다.\n",
    "\n",
    "> - Iterable\n",
    ">    - 반복가능한 객체. 반복문(for in)을 이용해 일련의 값들을 반복적으로 각각 제공하는 객체를 말한다. \n",
    ">    - 대표적으로 자료구조, 문자열 등이 있다."
   ]
  },
  {
   "cell_type": "code",
   "execution_count": 101,
   "id": "07fd6373",
   "metadata": {
    "slideshow": {
     "slide_type": "fragment"
    }
   },
   "outputs": [],
   "source": [
    "# dictionary -> 다른 형식\n",
    "# value말고 key값만 데려간다"
   ]
  },
  {
   "cell_type": "code",
   "execution_count": 103,
   "id": "8b0f3c7a",
   "metadata": {},
   "outputs": [
    {
     "name": "stdout",
     "output_type": "stream",
     "text": [
      "{1, 2, 3, 4, 5}\n"
     ]
    }
   ],
   "source": [
    "r = [1, 1, 2, 5, 4, 3, 3, 2, 1, 2, 1, 4, 4, 5]\n",
    "t = set(r)\n",
    "print(t)"
   ]
  },
  {
   "cell_type": "code",
   "execution_count": 104,
   "id": "659613f9",
   "metadata": {},
   "outputs": [
    {
     "data": {
      "text/plain": [
       "(1, 2, 3, 5)"
      ]
     },
     "execution_count": 104,
     "metadata": {},
     "output_type": "execute_result"
    }
   ],
   "source": [
    "j = (1, 2, 3) # 5를 추가하고 싶은 상황\n",
    "# Tuple -> List\n",
    "k = list(j)\n",
    "\n",
    "# 추가\n",
    "k.append(5)\n",
    "\n",
    "# List -> Tuple\n",
    "t2 = tuple(k)\n",
    "t2"
   ]
  },
  {
   "cell_type": "code",
   "execution_count": 105,
   "id": "84cccdd2",
   "metadata": {},
   "outputs": [
    {
     "data": {
      "text/plain": [
       "['name', 'address', 'marry', 'hobby', 'tall']"
      ]
     },
     "execution_count": 105,
     "metadata": {},
     "output_type": "execute_result"
    }
   ],
   "source": [
    "list(customer_info)"
   ]
  },
  {
   "cell_type": "code",
   "execution_count": 106,
   "id": "ccf0eb92",
   "metadata": {},
   "outputs": [
    {
     "data": {
      "text/plain": [
       "('name', 'address', 'marry', 'hobby', 'tall')"
      ]
     },
     "execution_count": 106,
     "metadata": {},
     "output_type": "execute_result"
    }
   ],
   "source": [
    "tuple(customer_info)"
   ]
  },
  {
   "cell_type": "code",
   "execution_count": 107,
   "id": "7773e0ac",
   "metadata": {},
   "outputs": [
    {
     "data": {
      "text/plain": [
       "{'address', 'hobby', 'marry', 'name', 'tall'}"
      ]
     },
     "execution_count": 107,
     "metadata": {},
     "output_type": "execute_result"
    }
   ],
   "source": [
    "set(customer_info)"
   ]
  },
  {
   "cell_type": "code",
   "execution_count": 108,
   "id": "d7f73a1d",
   "metadata": {},
   "outputs": [
    {
     "data": {
      "text/plain": [
       "['a', 'b', 'c', 'd', 'e', 'f', 'g']"
      ]
     },
     "execution_count": 108,
     "metadata": {},
     "output_type": "execute_result"
    }
   ],
   "source": [
    "list(\"abcdefg\")"
   ]
  },
  {
   "cell_type": "code",
   "execution_count": 109,
   "id": "7824dc80",
   "metadata": {},
   "outputs": [
    {
     "data": {
      "text/plain": [
       "('가', '나', '다', '라', '마', '바')"
      ]
     },
     "execution_count": 109,
     "metadata": {},
     "output_type": "execute_result"
    }
   ],
   "source": [
    "tuple('가나다라마바')"
   ]
  },
  {
   "cell_type": "code",
   "execution_count": 110,
   "id": "38cdf22b",
   "metadata": {},
   "outputs": [
    {
     "data": {
      "text/plain": [
       "{'가', '나', '다'}"
      ]
     },
     "execution_count": 110,
     "metadata": {},
     "output_type": "execute_result"
    }
   ],
   "source": [
    "set('가나다나다다가가가나')"
   ]
  },
  {
   "cell_type": "code",
   "execution_count": 113,
   "id": "77dea91e",
   "metadata": {},
   "outputs": [
    {
     "data": {
      "text/plain": [
       "'목요일'"
      ]
     },
     "execution_count": 113,
     "metadata": {},
     "output_type": "execute_result"
    }
   ],
   "source": [
    "# 요일: 0-월, 1-화, 2-수,,,\n",
    "i = 3\n",
    "d=list('월화수목금토일')\n",
    "d[i]+'요일'"
   ]
  },
  {
   "cell_type": "markdown",
   "id": "b4671a5d",
   "metadata": {
    "slideshow": {
     "slide_type": "skip"
    }
   },
   "source": [
    "# TODO"
   ]
  },
  {
   "cell_type": "code",
   "execution_count": null,
   "id": "174e5bb8",
   "metadata": {
    "slideshow": {
     "slide_type": "skip"
    }
   },
   "outputs": [],
   "source": [
    "# 문제 1 ~ 7\n",
    "jumsu = [100, 90, 100, 80, 70, 100, 80, 90, 95, 85] \n",
    "# 위 리스트는 학생번호 1번 ~ 10번까지 10명의 시험 점수이다. "
   ]
  },
  {
   "cell_type": "code",
   "execution_count": 95,
   "id": "793f96fa",
   "metadata": {
    "slideshow": {
     "slide_type": "skip"
    }
   },
   "outputs": [
    {
     "name": "stdout",
     "output_type": "stream",
     "text": [
      "80\n"
     ]
    }
   ],
   "source": [
    "#(1)  7번의 점수를 출력하세요 \n",
    "jumsu = [100, 90, 100, 80, 70, 100, 80, 90, 95, 85] \n",
    "print(jumsu[6])"
   ]
  },
  {
   "cell_type": "code",
   "execution_count": 97,
   "id": "0a05da50",
   "metadata": {
    "slideshow": {
     "slide_type": "skip"
    }
   },
   "outputs": [
    {
     "name": "stdout",
     "output_type": "stream",
     "text": [
      "[100, 90, 100, 80, 70]\n"
     ]
    }
   ],
   "source": [
    "#(2)  1번부터 5번까지의 점수를 출력하세요.\n",
    "jumsu = [100, 90, 100, 80, 70, 100, 80, 90, 95, 85] \n",
    "print(jumsu[0:5])"
   ]
  },
  {
   "cell_type": "code",
   "execution_count": 115,
   "id": "ff5924ba",
   "metadata": {
    "slideshow": {
     "slide_type": "skip"
    }
   },
   "outputs": [
    {
     "name": "stdout",
     "output_type": "stream",
     "text": [
      "[80, 70, 100, 80]\n"
     ]
    }
   ],
   "source": [
    "#(3)  4, 5, 6, 7번의 점수를 출력하세요.\n",
    "jumsu = [100, 90, 100, 80, 70, 100, 80, 90, 95, 85]\n",
    "print(jumsu[3:7])"
   ]
  },
  {
   "cell_type": "code",
   "execution_count": 119,
   "id": "910a9772",
   "metadata": {
    "slideshow": {
     "slide_type": "skip"
    }
   },
   "outputs": [
    {
     "name": "stdout",
     "output_type": "stream",
     "text": [
      "[90, 80, 100, 90, 85]\n"
     ]
    }
   ],
   "source": [
    "#(4) 짝수번째 점수를 출력하세요.\n",
    "jumsu = [100, 90, 100, 80, 70, 100, 80, 90, 95, 85]\n",
    "print(jumsu[1::2])"
   ]
  },
  {
   "cell_type": "code",
   "execution_count": 118,
   "id": "832e79f3",
   "metadata": {
    "slideshow": {
     "slide_type": "skip"
    }
   },
   "outputs": [
    {
     "name": "stdout",
     "output_type": "stream",
     "text": [
      "[100, 100, 70, 80, 95]\n"
     ]
    }
   ],
   "source": [
    "#(5) 홀수번째 점수를 출력하세요.\n",
    "jumsu = [100, 90, 100, 80, 70, 100, 80, 90, 95, 85]\n",
    "print(jumsu[0::2])"
   ]
  },
  {
   "cell_type": "code",
   "execution_count": 120,
   "id": "41683374",
   "metadata": {
    "slideshow": {
     "slide_type": "skip"
    }
   },
   "outputs": [
    {
     "name": "stdout",
     "output_type": "stream",
     "text": [
      "[100, 90, 100, 80, 70, 100, 80, 90, 20, 85]\n"
     ]
    }
   ],
   "source": [
    "#(6) 9번의 점수를 20으로 변경하고 전체 출력하세요.\n",
    "jumsu = [100, 90, 100, 80, 70, 100, 80, 90, 95, 85]\n",
    "jumsu[8]=20\n",
    "print(jumsu)"
   ]
  },
  {
   "cell_type": "code",
   "execution_count": 166,
   "id": "c834aade",
   "metadata": {
    "scrolled": false,
    "slideshow": {
     "slide_type": "skip"
    }
   },
   "outputs": [
    {
     "name": "stdout",
     "output_type": "stream",
     "text": [
      "{100, 70, 80, 20, 85, 90}\n",
      "[100, 70, 80, 20, 85, 90]\n"
     ]
    }
   ],
   "source": [
    "#(7) 중복된 점수는 제거하고 하나씩만 나오도록 출력하세요.\n",
    "jumsu = [100, 90, 100, 80, 70, 100, 80, 90, 20, 85]\n",
    "h = set(jumsu)\n",
    "print(h)\n",
    "\n",
    "h2 = list(set(jumsu))\n",
    "print(h2)"
   ]
  },
  {
   "cell_type": "code",
   "execution_count": 125,
   "id": "4a580704",
   "metadata": {
    "slideshow": {
     "slide_type": "skip"
    }
   },
   "outputs": [
    {
     "name": "stdout",
     "output_type": "stream",
     "text": [
      "['복숭아', '수박', '딸기', '사과', '귤']\n"
     ]
    }
   ],
   "source": [
    "# 문제 8 ~ 9\n",
    "fruits = [\"복숭아\", \"수박\", \"딸기\"]\n",
    "\n",
    "#(8) fruits 리스트에 마지막 원소로 \"사과\", \"귤\"을 추가하세요.\n",
    "fruits.append('사과')\n",
    "fruits.append('귤')\n",
    "print(fruits)"
   ]
  },
  {
   "cell_type": "code",
   "execution_count": 168,
   "id": "a1a7b264",
   "metadata": {},
   "outputs": [
    {
     "name": "stdout",
     "output_type": "stream",
     "text": [
      "['수박', '딸기', '사과', '귤']\n"
     ]
    }
   ],
   "source": [
    "fruits.extend(['사과','귤'])\n",
    "print(fruits)"
   ]
  },
  {
   "cell_type": "code",
   "execution_count": 172,
   "id": "85c15e0d",
   "metadata": {},
   "outputs": [],
   "source": [
    "# fruits = fruits + ['배', '포도']\n",
    "# fruits += ['배',\n",
    "#           '포도']"
   ]
  },
  {
   "cell_type": "code",
   "execution_count": 126,
   "id": "c016eadb",
   "metadata": {
    "slideshow": {
     "slide_type": "skip"
    }
   },
   "outputs": [
    {
     "name": "stdout",
     "output_type": "stream",
     "text": [
      "['수박', '딸기']\n"
     ]
    }
   ],
   "source": [
    "#(9) fruits 리스트에서 \"복숭아\"를 제거하세요.\n",
    "fruits = [\"복숭아\", \"수박\", \"딸기\"]\n",
    "del fruits[0]\n",
    "print(fruits)"
   ]
  },
  {
   "cell_type": "code",
   "execution_count": 174,
   "id": "10383b8d",
   "metadata": {},
   "outputs": [],
   "source": [
    "# fruits.remove('복숭아')\n",
    "# del fruits[fruits.index('복숭아')]"
   ]
  },
  {
   "cell_type": "code",
   "execution_count": 127,
   "id": "37e62374",
   "metadata": {
    "slideshow": {
     "slide_type": "skip"
    }
   },
   "outputs": [
    {
     "name": "stdout",
     "output_type": "stream",
     "text": [
      "{'name': '김형진', 'age': 31, 'address': '경기', 'email': 'wimzzz@naver.com', 'marry': False, 'hobby': ['영화', '여행', '게임']}\n"
     ]
    }
   ],
   "source": [
    "# 문제 10 ~ 15\n",
    "#(10)본인의 이름, 나이, email주소, 취미, 결혼유무를 사전(딕셔너리)으로 생성. \n",
    "# 취미는 2개 이상의 값을 넣는다..\n",
    "my_info = dict(name=\"김형진\", \n",
    "               age=31, \n",
    "               address=\"경기\", \n",
    "               email=\"wimzzz@naver.com\",\n",
    "               marry=False, \n",
    "               hobby=[\"영화\", \"여행\", \"게임\"])\n",
    "print(my_info)"
   ]
  },
  {
   "cell_type": "code",
   "execution_count": 130,
   "id": "fb6429d5",
   "metadata": {
    "slideshow": {
     "slide_type": "skip"
    }
   },
   "outputs": [
    {
     "data": {
      "text/plain": [
       "('김형진', 'wimzzz@naver.com')"
      ]
     },
     "execution_count": 130,
     "metadata": {},
     "output_type": "execute_result"
    }
   ],
   "source": [
    "#(11) 위 딕셔너리에서 이름과 email주소를 조회해서 출력하세요.\n",
    "my_info[\"name\"], my_info[\"email\"]"
   ]
  },
  {
   "cell_type": "code",
   "execution_count": 177,
   "id": "f2ba43f5",
   "metadata": {},
   "outputs": [
    {
     "name": "stdout",
     "output_type": "stream",
     "text": [
      "김형진\n",
      "None\n"
     ]
    }
   ],
   "source": [
    "print(my_info.get(\"name\"))\n",
    "print(my_info.get('email주소'))"
   ]
  },
  {
   "cell_type": "code",
   "execution_count": 131,
   "id": "6b3b6d48",
   "metadata": {
    "slideshow": {
     "slide_type": "skip"
    }
   },
   "outputs": [
    {
     "data": {
      "text/plain": [
       "'여행'"
      ]
     },
     "execution_count": 131,
     "metadata": {},
     "output_type": "execute_result"
    }
   ],
   "source": [
    "#(12) 위 딕셔너리에서 취미중 두번째 취미를 조회해서 출력하세요.\n",
    "my_info['hobby'][1]"
   ]
  },
  {
   "cell_type": "code",
   "execution_count": 151,
   "id": "7f4581d0",
   "metadata": {
    "slideshow": {
     "slide_type": "skip"
    }
   },
   "outputs": [
    {
     "name": "stdout",
     "output_type": "stream",
     "text": [
      "{'name': '김형진', 'age': 31, 'address': '경기', 'email': 'wimzzz@naver.com', 'marry': False, 'hobby': ['영화', '여행', '게임'], 'weight': 55, 'tall': 155}\n"
     ]
    }
   ],
   "source": [
    "#(13) 위 딕셔너리에 몸무게와 키 항목을 추가하세요.\n",
    "\n",
    "\n",
    "\n",
    "my_info[\"weight\"]=55\n",
    "my_info[\"tall\"]=155\n",
    "print(my_info)\n"
   ]
  },
  {
   "cell_type": "code",
   "execution_count": 152,
   "id": "5f05f705",
   "metadata": {
    "slideshow": {
     "slide_type": "skip"
    }
   },
   "outputs": [
    {
     "name": "stdout",
     "output_type": "stream",
     "text": [
      "{'name': '김형진', 'address': '경기', 'email': 'wimzzz@naver.com', 'marry': False, 'hobby': ['영화', '여행', '게임'], 'weight': 55, 'tall': 155}\n"
     ]
    }
   ],
   "source": [
    "#(14) 위 딕셔너리에서 나이를 제거하세요.\n",
    "del my_info['age']\n",
    "print(my_info)"
   ]
  },
  {
   "cell_type": "code",
   "execution_count": 153,
   "id": "12398809",
   "metadata": {
    "slideshow": {
     "slide_type": "skip"
    }
   },
   "outputs": [
    {
     "name": "stdout",
     "output_type": "stream",
     "text": [
      "{'name': '김형진', 'address': '경기', 'email': 'hyungjin@gamil.com', 'marry': False, 'hobby': ['영화', '여행', '게임'], 'weight': 55, 'tall': 155}\n"
     ]
    }
   ],
   "source": [
    "#(15) 위 딕셔너리에서 email 주소를 다른 값으로 변경하세요.\n",
    "my_info['email']='hyungjin@gamil.com'\n",
    "print(my_info)"
   ]
  },
  {
   "cell_type": "code",
   "execution_count": 156,
   "id": "d7a6ed80",
   "metadata": {},
   "outputs": [
    {
     "name": "stdout",
     "output_type": "stream",
     "text": [
      "김형진\n",
      "wimzzz@naver.com\n",
      "영화\n",
      "{'name': '김형진', 'age': 31, 'address': '경기', 'email': 'wimzzz@naver.com', 'marry': False, 'hobby': ['영화', '여행', '게임'], 'weight': 168, 'tall': 65}\n"
     ]
    }
   ],
   "source": [
    "my_info2 = {\n",
    "    \"name\":\"김형진\",\n",
    "    \"age\":31,\n",
    "    \"address\":\"경기\",\n",
    "    \"email\":\"wimzzz@naver.com\",\n",
    "    \"marry\":False,\n",
    "    \"hobby\":[\"영화\",\"여행\",\"게임\"]\n",
    "}\n",
    "\n",
    "print(my_info2['name'])\n",
    "print(my_info2['email'])\n",
    "print(my_info2['hobby'][0])\n",
    "\n",
    "my_info2['weight']=168\n",
    "my_info2['tall']=65\n",
    "\n",
    "print(my_info2)"
   ]
  },
  {
   "cell_type": "code",
   "execution_count": 163,
   "id": "a4adf77f",
   "metadata": {},
   "outputs": [
    {
     "name": "stdout",
     "output_type": "stream",
     "text": [
      "{'name': '김형진', 'address': '경기', 'email': 'wimzzz@naver.com', 'marry': False, 'hobby': ['영화', '여행', '게임'], 'weight': 168, 'tall': 65}\n"
     ]
    }
   ],
   "source": [
    "print(my_info2)"
   ]
  }
 ],
 "metadata": {
  "kernelspec": {
   "display_name": "Python 3 (ipykernel)",
   "language": "python",
   "name": "python3"
  },
  "language_info": {
   "codemirror_mode": {
    "name": "ipython",
    "version": 3
   },
   "file_extension": ".py",
   "mimetype": "text/x-python",
   "name": "python",
   "nbconvert_exporter": "python",
   "pygments_lexer": "ipython3",
   "version": "3.10.9"
  },
  "toc": {
   "base_numbering": 1,
   "nav_menu": {},
   "number_sections": true,
   "sideBar": true,
   "skip_h1_title": false,
   "title_cell": "Table of Contents",
   "title_sidebar": "Contents",
   "toc_cell": false,
   "toc_position": {
    "height": "calc(100% - 180px)",
    "left": "10px",
    "top": "150px",
    "width": "512px"
   },
   "toc_section_display": true,
   "toc_window_display": false
  },
  "varInspector": {
   "cols": {
    "lenName": 16,
    "lenType": 16,
    "lenVar": 40
   },
   "kernels_config": {
    "python": {
     "delete_cmd_postfix": "",
     "delete_cmd_prefix": "del ",
     "library": "var_list.py",
     "varRefreshCmd": "print(var_dic_list())"
    },
    "r": {
     "delete_cmd_postfix": ") ",
     "delete_cmd_prefix": "rm(",
     "library": "var_list.r",
     "varRefreshCmd": "cat(var_dic_list()) "
    }
   },
   "types_to_exclude": [
    "module",
    "function",
    "builtin_function_or_method",
    "instance",
    "_Feature"
   ],
   "window_display": false
  }
 },
 "nbformat": 4,
 "nbformat_minor": 5
}
