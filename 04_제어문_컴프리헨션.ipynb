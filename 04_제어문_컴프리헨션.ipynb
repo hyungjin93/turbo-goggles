{
 "cells": [
  {
   "cell_type": "markdown",
   "id": "8c49cd8e",
   "metadata": {
    "slideshow": {
     "slide_type": "slide"
    }
   },
   "source": [
    "# 제어문(Control flow statement)\n",
    "기본적으로 프로그램은 순차구조를 가진다. 즉 작성한 순서대로 실행이 된다.  \n",
    "이런 실행흐름을 다른 순서로 제어하기 위한 구문을 만드는 문법이 제어문이다.  \n",
    "제어문은 **조건문** 과 **반복문** 두가지 문법이 있다.\n",
    "- 조건문\n",
    "    - if 문\n",
    "- 반복문\n",
    "    - while 문\n",
    "    - for in 문"
   ]
  },
  {
   "cell_type": "markdown",
   "id": "92c502ce",
   "metadata": {
    "slideshow": {
     "slide_type": "slide"
    }
   },
   "source": [
    "# 조건문/분기문 (conditional statement)\n",
    "- 프로그램이 명령문들을 실행하는 도중 특정 순서에서 **조건에 따라 흐름의 나눠져야 하는 경우 사용한다**\n",
    "- 파이썬은 조건문으로 **if문**이 있다.\n",
    "\n",
    "![조건문](images/ch03_01.png)\n",
    "\n",
    "<center>입력 받은 a 의 값이 0인지 여부에 따라 두가지 흐름으로 분기된다.</center>\n"
   ]
  },
  {
   "cell_type": "markdown",
   "id": "2a3c1835",
   "metadata": {
    "slideshow": {
     "slide_type": "subslide"
    }
   },
   "source": [
    "## 구문\n",
    "\n",
    "- 조건이 True일 경우만 특정 구문들을 실행 하는 조건문.\n",
    "```python\n",
    "if 조건:    # 조건은 bool 표현식을 기술한다. 조건선언 다음에 : 으로 선언해서 코드블록을 구분한다.\n",
    "    명령문1  # 조건이 True이면 실행할 구문들을 코드블럭에 기술한다.\n",
    "    명령문2  # 코드 블록은 들여쓰기를 이용해 묶어준다. 보통 공백 4칸으로 들여쓰기를 한다.\n",
    "    ...\n",
    "```\n",
    "> <b style='font-size:1.2em'>파이썬의 코드블록(code block)</b>  \n",
    "> 코드블록이란 여러개의 실행명령문들을 묶어놓은 것을 말한다. \n",
    "> 파이썬에서는 코드블록을 작성할 때 들여쓰기를 이용해 묶어준다. 같은 칸만큼 들여쓰기를 한 명령문들이 같은 블록으로 묶인다.\n",
    "> 들여쓰기는 관례적으로 공백 4칸을 사용한다. "
   ]
  },
  {
   "cell_type": "code",
   "execution_count": 9,
   "id": "9aa311a5",
   "metadata": {
    "slideshow": {
     "slide_type": "fragment"
    }
   },
   "outputs": [
    {
     "ename": "IndentationError",
     "evalue": "unindent does not match any outer indentation level (<tokenize>, line 5)",
     "output_type": "error",
     "traceback": [
      "\u001b[1;36m  File \u001b[1;32m<tokenize>:5\u001b[1;36m\u001b[0m\n\u001b[1;33m    print(20)\u001b[0m\n\u001b[1;37m    ^\u001b[0m\n\u001b[1;31mIndentationError\u001b[0m\u001b[1;31m:\u001b[0m unindent does not match any outer indentation level\n"
     ]
    }
   ],
   "source": [
    "# 들여쓰기 할 때 Tab을 할거면 Tab으로 하고 4칸 띄어쓰기 할거면 그것만 해라\n",
    "\n",
    "if True:\n",
    "    print(10)\n",
    "   print(20)"
   ]
  },
  {
   "cell_type": "code",
   "execution_count": 11,
   "id": "f15ba3ac",
   "metadata": {},
   "outputs": [
    {
     "name": "stdout",
     "output_type": "stream",
     "text": [
      "정수:0\n",
      "영입니다.\n"
     ]
    }
   ],
   "source": [
    "#1. 정수를 입력받는다\n",
    "num = input('정수:')\n",
    "#2. 받은 정수가 0이면 '영입니다.'를 출력한다\n",
    "if num == '0':\n",
    "    print('영입니다.')"
   ]
  },
  {
   "cell_type": "code",
   "execution_count": 12,
   "id": "ea78af41",
   "metadata": {},
   "outputs": [
    {
     "name": "stdout",
     "output_type": "stream",
     "text": [
      "정수:0\n",
      "0입니다\n"
     ]
    }
   ],
   "source": [
    "num3 = input(\"정수:\")\n",
    "if num3 == \"0\":print(\"0입니다\")"
   ]
  },
  {
   "cell_type": "code",
   "execution_count": 1,
   "id": "2da3bf45",
   "metadata": {},
   "outputs": [
    {
     "name": "stdout",
     "output_type": "stream",
     "text": [
      "종료\n"
     ]
    }
   ],
   "source": [
    "if True:\n",
    "    pass # code block을 나중에 작성할 때 pass를 넣어준다. 틀을 미리 잡아놓을 때.\n",
    "print(\"종료\")"
   ]
  },
  {
   "cell_type": "code",
   "execution_count": 2,
   "id": "c132635b",
   "metadata": {},
   "outputs": [
    {
     "name": "stdout",
     "output_type": "stream",
     "text": [
      "종료\n"
     ]
    }
   ],
   "source": [
    "if True:\n",
    "    ... # pass 대신 사용할 수 있음\n",
    "print(\"종료\")"
   ]
  },
  {
   "cell_type": "markdown",
   "id": "09c79c35",
   "metadata": {
    "slideshow": {
     "slide_type": "subslide"
    }
   },
   "source": [
    "- 조건이 True일때 실행할 구문과 False일때 실행하는 조건문.\n",
    "```python\n",
    "if 조건:     \n",
    "    명령문1_1 # 조건이 True일 경우 실행할 구문들\n",
    "    명령문1_2\n",
    "    ...\n",
    "else:\n",
    "    명령문2_1 # 조건이 False일 경우 실행할 구문들\n",
    "    명령문2_2\n",
    "    ...\n",
    "```"
   ]
  },
  {
   "cell_type": "code",
   "execution_count": 14,
   "id": "87b51956",
   "metadata": {
    "slideshow": {
     "slide_type": "fragment"
    }
   },
   "outputs": [
    {
     "name": "stdout",
     "output_type": "stream",
     "text": [
      "정수:2\n",
      "0이 아닙니다.\n",
      "종료\n"
     ]
    }
   ],
   "source": [
    "#1\n",
    "num=input(\"정수:\")\n",
    "#2\n",
    "if num == '0':\n",
    "    print('0입니다.') # 2-1\n",
    "else:\n",
    "    print('0이 아닙니다.') #2-2\n",
    "#3\n",
    "print('종료')"
   ]
  },
  {
   "cell_type": "code",
   "execution_count": 16,
   "id": "9a94349d",
   "metadata": {},
   "outputs": [
    {
     "name": "stdout",
     "output_type": "stream",
     "text": [
      "정수:3\n",
      "0이 아닙니다.->3\n",
      "종료\n"
     ]
    }
   ],
   "source": [
    "#1\n",
    "num=input(\"정수:\")\n",
    "#2\n",
    "if num == '0':\n",
    "    print('0입니다.') # 2-1\n",
    "else:\n",
    "    print(f'0이 아닙니다.->{num}') #2-2\n",
    "#3\n",
    "print('종료')"
   ]
  },
  {
   "cell_type": "code",
   "execution_count": 1,
   "id": "a986a75c",
   "metadata": {},
   "outputs": [
    {
     "name": "stdout",
     "output_type": "stream",
     "text": [
      "ID:ppi\n",
      "5글자 미만은 등록할 수 없는 ID입니다\n"
     ]
    }
   ],
   "source": [
    "# id를 입력받아서 사용할 수 있는 id면 등록처리,\n",
    "# 사용할 수 없는 id면 등록거부\n",
    "# 사용가능한 경우: 5글자 이상\n",
    "\n",
    "id = input(\"ID:\")\n",
    "\n",
    "if len(id) >= 5:\n",
    "    print(\"등록가능한 ID입니다\")\n",
    "else:\n",
    "    print(\"5글자 미만은 등록할 수 없는 ID입니다\")\n"
   ]
  },
  {
   "cell_type": "code",
   "execution_count": 3,
   "id": "5152d393",
   "metadata": {},
   "outputs": [
    {
     "name": "stdout",
     "output_type": "stream",
     "text": [
      "a\n"
     ]
    }
   ],
   "source": [
    "if 10: # 논리값이 들어와야 하는 자리에 다른 타입값이 들어오면 자동으로 bool값으로 변환\n",
    "    print('a')\n",
    "else:\n",
    "    print('b')"
   ]
  },
  {
   "cell_type": "code",
   "execution_count": 6,
   "id": "892274a8",
   "metadata": {},
   "outputs": [
    {
     "name": "stdout",
     "output_type": "stream",
     "text": [
      "글을 입력하세요네\n",
      "입력한 글:네\n"
     ]
    }
   ],
   "source": [
    "txt = input(\"글을 입력하세요\")\n",
    "# txt가 0글자면 '입력하세요'를 출력\n",
    "\n",
    "if len(txt) == 0:\n",
    "    print(\"입력하세요\")\n",
    "else:\n",
    "    print(f'입력한 글:{txt}')"
   ]
  },
  {
   "cell_type": "code",
   "execution_count": 9,
   "id": "8a894ab0",
   "metadata": {},
   "outputs": [
    {
     "name": "stdout",
     "output_type": "stream",
     "text": [
      "글 입력\n",
      "입력하세요\n"
     ]
    }
   ],
   "source": [
    "txt2 = input('글 입력')\n",
    "if not txt2: # 빈문자열, 0, None, 원소가 0개인 자료구도 -> False로 변환. 나머지는 True\n",
    "    print(\"입력하세요\")\n",
    "else:\n",
    "    print(f'입력한 글:{txt2}')"
   ]
  },
  {
   "cell_type": "code",
   "execution_count": 10,
   "id": "9f921155",
   "metadata": {},
   "outputs": [
    {
     "data": {
      "text/plain": [
       "(False, True)"
      ]
     },
     "execution_count": 10,
     "metadata": {},
     "output_type": "execute_result"
    }
   ],
   "source": [
    "bool(\"\"), bool('b')"
   ]
  },
  {
   "cell_type": "code",
   "execution_count": 11,
   "id": "f5336ba0",
   "metadata": {},
   "outputs": [
    {
     "data": {
      "text/plain": [
       "(False, False, True)"
      ]
     },
     "execution_count": 11,
     "metadata": {},
     "output_type": "execute_result"
    }
   ],
   "source": [
    "bool({}), bool([]), bool([1, 3, 5])"
   ]
  },
  {
   "cell_type": "markdown",
   "id": "621eae9a",
   "metadata": {
    "slideshow": {
     "slide_type": "subslide"
    }
   },
   "source": [
    "- 조건이 여러개인 조건문.\n",
    "```python\n",
    "if 조건1:\n",
    "    명령문1_1  # 조건1이 True일 경우 실행할 코드블록. \n",
    "    명령문1_2\n",
    "    ...\n",
    "elif 조건2:    # 다음 조건으로 앞의 조건들이 모드 False일 경우 비교한다.\n",
    "    명령문2_1  # 조건2가 True일 경우 실행할 코드블록.\n",
    "    명령문2_2\n",
    "    ...\n",
    "elif 조건3 :\n",
    "    명령문3_1\n",
    "    명령문3_2\n",
    "    ...\n",
    "else:         # 위의 모든 조건이 False일 경우 실행하는 코드블록. 생략 가능하다.\n",
    "    명령문4\n",
    "```"
   ]
  },
  {
   "cell_type": "code",
   "execution_count": 16,
   "id": "4c6a532d",
   "metadata": {
    "slideshow": {
     "slide_type": "fragment"
    }
   },
   "outputs": [
    {
     "name": "stdout",
     "output_type": "stream",
     "text": [
      "정수:3\n",
      "양수입니다\n"
     ]
    }
   ],
   "source": [
    "num = int(input(\"정수:\"))\n",
    "if num > 0:\n",
    "    print(\"양수입니다\")\n",
    "elif num == 0:\n",
    "    print(\"0입니다\")\n",
    "elif num < 0:\n",
    "    print(\"음수입니다\")"
   ]
  },
  {
   "cell_type": "code",
   "execution_count": 18,
   "id": "36509d81",
   "metadata": {},
   "outputs": [
    {
     "name": "stdout",
     "output_type": "stream",
     "text": [
      "정수:500\n",
      "양수입니다\n"
     ]
    }
   ],
   "source": [
    "num2 = int(input(\"정수:\"))\n",
    "if num2 > 0:\n",
    "    print('양수입니다')\n",
    "elif num >= 100: # 실행X\n",
    "    print('100이상')"
   ]
  },
  {
   "cell_type": "code",
   "execution_count": 19,
   "id": "a26c7908",
   "metadata": {},
   "outputs": [
    {
     "name": "stdout",
     "output_type": "stream",
     "text": [
      "정수:150\n",
      "양수\n",
      "100이상\n"
     ]
    }
   ],
   "source": [
    "num3 = int(input('정수:'))\n",
    "if num3 > 0:\n",
    "    print('양수')\n",
    "    if num3 >= 100:\n",
    "        print('100이상')"
   ]
  },
  {
   "cell_type": "code",
   "execution_count": 21,
   "id": "e102f721",
   "metadata": {},
   "outputs": [
    {
     "name": "stdout",
     "output_type": "stream",
     "text": [
      "정수:150\n",
      "양수\n",
      "100이상\n"
     ]
    }
   ],
   "source": [
    "num3 = int(input('정수:'))\n",
    "if num3 > 0:\n",
    "    print('양수')\n",
    "if num3 >= 100:\n",
    "    print('100이상')\n",
    "    \n",
    "# 위의 구문과 결과는 같지만 좋은 구문은 아니다"
   ]
  },
  {
   "cell_type": "markdown",
   "id": "2149b728",
   "metadata": {
    "slideshow": {
     "slide_type": "slide"
    }
   },
   "source": [
    "# 반복문 (Loop statement)\n",
    "\n",
    "특정 구문들을 반복해서 실행할 때 사용한다. 동일한 코드를 여러번 반복하거나 값이 일정하게 변하는 코드를 반복할 경우 사용한다.  \n",
    "단순 반복을 처리하는 **while문**과 iterable객체가 제공하는 값들을 반복 조회하는 **for in문** 두가지 문법이 있다.\n",
    "\n",
    "![반복문](images/ch03_02.png)\n",
    "<center>count의 값이 limit의 값보다 크거나 같을때 까지 count의 값을 1증가 후 출력하는 구문을 반복한다. </center>"
   ]
  },
  {
   "cell_type": "markdown",
   "id": "b4740a36",
   "metadata": {
    "slideshow": {
     "slide_type": "subslide"
    }
   },
   "source": [
    "## while문\n",
    "- 조건이 True인 동안 구문을 반복해서 실행한다.\n",
    "\n",
    "### 구문\n",
    "```python\n",
    "while 조건:       # 조건은 bool 표현식을 기술한다. 조건선언 다음에 : 으로 선언해서 코드블록을 구분한다\n",
    "    반복할 구문1  # 반복할 구문을 코드블록으로 작성한다.  \n",
    "    반복할 구문2\n",
    "    ...\n",
    "```"
   ]
  },
  {
   "cell_type": "code",
   "execution_count": 24,
   "id": "6b11bde6",
   "metadata": {
    "slideshow": {
     "slide_type": "fragment"
    }
   },
   "outputs": [
    {
     "name": "stdout",
     "output_type": "stream",
     "text": [
      "반복할 횟수:6\n",
      "1\n",
      "2\n",
      "3\n",
      "4\n",
      "5\n",
      "6\n"
     ]
    }
   ],
   "source": [
    "limit = int(input(\"반복할 횟수:\"))\n",
    "count = 0 # 몇 번째 반복인지 저장할 변수\n",
    "while count < limit:\n",
    "    count += 1\n",
    "    print(count)"
   ]
  },
  {
   "cell_type": "markdown",
   "id": "04f12e55",
   "metadata": {
    "slideshow": {
     "slide_type": "subslide"
    }
   },
   "source": [
    "## for  in 문\n",
    "- Iterable 객체를 순환조회하는 구문\n",
    "    - for in문은 Iterable 타입의 객체가 가지고 있는 값들을 각각 조회하여 처리하는 구문을 작성할 때 사용한다.\n",
    "\n",
    "> - Iterable\n",
    ">    - 반복가능한 객체. 반복문(for in)을 이용해 일련의 값들을 반복적으로 각각 제공하는 객체를 말한다. \n",
    ">    - 대표적으로 List, Tuple, Dictionary, Set, 문자열 등이 있다.\n",
    "\n",
    "### 구문\n",
    "```python\n",
    "for 변수 in Iterable: # for in 선언후 : 으로 선언부와 구현부를 나눈다.\n",
    "    반복구문          # Iterable이 반복시 제공하는 값을 가지는 \"변수\"를 이용해 값들을 처리하는 구문을 코드블록으로 작성한다.\n",
    "    반복구문\n",
    "```"
   ]
  },
  {
   "cell_type": "code",
   "execution_count": null,
   "id": "da0ce0f6",
   "metadata": {
    "slideshow": {
     "slide_type": "fragment"
    }
   },
   "outputs": [],
   "source": [
    "# for i in I\n",
    "# print(i+20)\n",
    "# Iterable 1, 10, 100 첫번째에 1 넣고 그 다음 10, 100,, 순으로"
   ]
  },
  {
   "cell_type": "code",
   "execution_count": 14,
   "id": "934035a5",
   "metadata": {},
   "outputs": [
    {
     "data": {
      "text/plain": [
       "list_iterator"
      ]
     },
     "execution_count": 14,
     "metadata": {},
     "output_type": "execute_result"
    }
   ],
   "source": [
    "l = [1, 2, 3, 4, 5] # 리스트 -> iterable 타입\n",
    "l_iter = iter(l) # 값을 갖고 있는 애와 값을 나눠주는 애를 나눔\n",
    "type(l_iter)"
   ]
  },
  {
   "cell_type": "code",
   "execution_count": 8,
   "id": "dc85d3f3",
   "metadata": {},
   "outputs": [
    {
     "name": "stdout",
     "output_type": "stream",
     "text": [
      "1 11\n"
     ]
    }
   ],
   "source": [
    "# 다음 값 요청\n",
    "i = next(l_iter)\n",
    "print(i, i+10)"
   ]
  },
  {
   "cell_type": "code",
   "execution_count": 9,
   "id": "29406899",
   "metadata": {},
   "outputs": [
    {
     "name": "stdout",
     "output_type": "stream",
     "text": [
      "2 12\n"
     ]
    }
   ],
   "source": [
    "i = next(l_iter)\n",
    "print(i, i+10)"
   ]
  },
  {
   "cell_type": "code",
   "execution_count": 10,
   "id": "c088616e",
   "metadata": {},
   "outputs": [
    {
     "name": "stdout",
     "output_type": "stream",
     "text": [
      "3 13\n"
     ]
    }
   ],
   "source": [
    "i = next(l_iter)\n",
    "print(i, i+10)"
   ]
  },
  {
   "cell_type": "code",
   "execution_count": 11,
   "id": "08ff08eb",
   "metadata": {},
   "outputs": [
    {
     "name": "stdout",
     "output_type": "stream",
     "text": [
      "4 14\n"
     ]
    }
   ],
   "source": [
    "i = next(l_iter)\n",
    "print(i, i+10)"
   ]
  },
  {
   "cell_type": "code",
   "execution_count": 12,
   "id": "62b9fd2f",
   "metadata": {},
   "outputs": [
    {
     "name": "stdout",
     "output_type": "stream",
     "text": [
      "5 15\n"
     ]
    }
   ],
   "source": [
    "i = next(l_iter)\n",
    "print(i, i+10)"
   ]
  },
  {
   "cell_type": "code",
   "execution_count": 13,
   "id": "c9c08d03",
   "metadata": {},
   "outputs": [
    {
     "ename": "StopIteration",
     "evalue": "",
     "output_type": "error",
     "traceback": [
      "\u001b[1;31m---------------------------------------------------------------------------\u001b[0m",
      "\u001b[1;31mStopIteration\u001b[0m                             Traceback (most recent call last)",
      "Cell \u001b[1;32mIn[13], line 1\u001b[0m\n\u001b[1;32m----> 1\u001b[0m i \u001b[38;5;241m=\u001b[39m \u001b[38;5;28;43mnext\u001b[39;49m\u001b[43m(\u001b[49m\u001b[43ml_iter\u001b[49m\u001b[43m)\u001b[49m\n\u001b[0;32m      2\u001b[0m \u001b[38;5;28mprint\u001b[39m(i, i\u001b[38;5;241m+\u001b[39m\u001b[38;5;241m10\u001b[39m)\n",
      "\u001b[1;31mStopIteration\u001b[0m: "
     ]
    }
   ],
   "source": [
    "i = next(l_iter) # stopiteration 이름의 에러가 발생 -> 더 줄 값이 없다\n",
    "print(i, i+10)"
   ]
  },
  {
   "cell_type": "code",
   "execution_count": 15,
   "id": "91bb1934",
   "metadata": {},
   "outputs": [
    {
     "name": "stdout",
     "output_type": "stream",
     "text": [
      "1 11\n",
      "2 12\n",
      "3 13\n",
      "4 14\n",
      "5 15\n"
     ]
    },
    {
     "ename": "StopIteration",
     "evalue": "",
     "output_type": "error",
     "traceback": [
      "\u001b[1;31m---------------------------------------------------------------------------\u001b[0m",
      "\u001b[1;31mStopIteration\u001b[0m                             Traceback (most recent call last)",
      "Cell \u001b[1;32mIn[15], line 3\u001b[0m\n\u001b[0;32m      1\u001b[0m l_iter2 \u001b[38;5;241m=\u001b[39m \u001b[38;5;28miter\u001b[39m(l)\n\u001b[0;32m      2\u001b[0m \u001b[38;5;28;01mwhile\u001b[39;00m \u001b[38;5;28;01mTrue\u001b[39;00m:\n\u001b[1;32m----> 3\u001b[0m     i \u001b[38;5;241m=\u001b[39m \u001b[38;5;28;43mnext\u001b[39;49m\u001b[43m(\u001b[49m\u001b[43ml_iter2\u001b[49m\u001b[43m)\u001b[49m \u001b[38;5;66;03m# 다음값 요청\u001b[39;00m\n\u001b[0;32m      4\u001b[0m     \u001b[38;5;28mprint\u001b[39m(i, i \u001b[38;5;241m+\u001b[39m \u001b[38;5;241m10\u001b[39m)\n",
      "\u001b[1;31mStopIteration\u001b[0m: "
     ]
    }
   ],
   "source": [
    "l_iter2 = iter(l)\n",
    "while True:\n",
    "    i = next(l_iter2) # 다음값 요청\n",
    "    print(i, i + 10) # 다음값 처리"
   ]
  },
  {
   "cell_type": "code",
   "execution_count": 23,
   "id": "ede18975",
   "metadata": {},
   "outputs": [
    {
     "name": "stdout",
     "output_type": "stream",
     "text": [
      "다음 값: 1\n",
      "다음 값 처리한 결과: 11\n",
      "==================================================\n",
      "다음 값: 2\n",
      "다음 값 처리한 결과: 12\n",
      "==================================================\n",
      "다음 값: 3\n",
      "다음 값 처리한 결과: 13\n",
      "==================================================\n",
      "다음 값: 4\n",
      "다음 값 처리한 결과: 14\n",
      "==================================================\n",
      "다음 값: 5\n",
      "다음 값 처리한 결과: 15\n",
      "==================================================\n",
      "종료\n"
     ]
    }
   ],
   "source": [
    "# 일괄처리 => mapping(map)\n",
    "for i in l:    # for 다음값을저장할변수 in iteralbe(리스트)\n",
    "    # 다음값을 처리할 코드\n",
    "    print(f\"다음 값: {i}\")\n",
    "    print(f\"다음 값 처리한 결과: {i+10}\")\n",
    "    print(\"=\"*50)\n",
    "    \n",
    "print(\"종료\")"
   ]
  },
  {
   "cell_type": "code",
   "execution_count": 18,
   "id": "282785c3",
   "metadata": {},
   "outputs": [
    {
     "name": "stdout",
     "output_type": "stream",
     "text": [
      "출력: 1\n",
      "출력: 2\n",
      "출력: 3\n",
      "출력: 4\n",
      "출력: 5\n",
      "출력: 6\n",
      "출력: 7\n",
      "출력: 8\n",
      "출력: 9\n",
      "출력: 10\n",
      "종료\n"
     ]
    }
   ],
   "source": [
    "t = (1, 2, 3, 4, 5, 6, 7, 8, 9, 10)\n",
    "# 다 출력 => for in\n",
    "\n",
    "for y in t:\n",
    "    print(f'출력: {y}')\n",
    "\n",
    "print(\"종료\")"
   ]
  },
  {
   "cell_type": "code",
   "execution_count": 22,
   "id": "330dce76",
   "metadata": {},
   "outputs": [
    {
     "name": "stdout",
     "output_type": "stream",
     "text": [
      "출력: 2\n",
      "출력: 4\n",
      "출력: 6\n",
      "출력: 8\n",
      "출력: 10\n",
      "종료\n"
     ]
    }
   ],
   "source": [
    "t = (1, 2, 3, 4, 5, 6, 7, 8, 9, 10)\n",
    "# 다 출력 => for in\n",
    "# 짝수만 출력 => 만약에 원소가 짝수이면 출력\n",
    "# 특정 조건의 값들을 추출 => filtering(filter)\n",
    "\n",
    "for y in t:\n",
    "    if y % 2 == 0:\n",
    "        print(f'출력: {y}')\n",
    "\n",
    "\n",
    "print(\"종료\")"
   ]
  },
  {
   "cell_type": "code",
   "execution_count": 26,
   "id": "96372df2",
   "metadata": {},
   "outputs": [
    {
     "name": "stdout",
     "output_type": "stream",
     "text": [
      "b 2\n"
     ]
    }
   ],
   "source": [
    "d = {\"a\":1, \"b\":2, \"c\":3}\n",
    "for i in d: # dict -> key값을 제공\n",
    "    if i == \"b\":\n",
    "        print(i, d[i]) # 오른쪽같이 넣으면 value값 확인 가능\n",
    "    "
   ]
  },
  {
   "cell_type": "code",
   "execution_count": 27,
   "id": "4a33fe52",
   "metadata": {},
   "outputs": [
    {
     "name": "stdout",
     "output_type": "stream",
     "text": [
      "1\n",
      "2\n",
      "3\n"
     ]
    }
   ],
   "source": [
    "# dictionary 에서 value 들을 순환 조회\n",
    "for v in d.values():\n",
    "    print(v)"
   ]
  },
  {
   "cell_type": "code",
   "execution_count": 30,
   "id": "9229206e",
   "metadata": {},
   "outputs": [
    {
     "name": "stdout",
     "output_type": "stream",
     "text": [
      "<class 'tuple'> ('a', 1) a 1\n",
      "<class 'tuple'> ('b', 2) b 2\n",
      "<class 'tuple'> ('c', 3) c 3\n"
     ]
    }
   ],
   "source": [
    "# dictionary에서 key-value를 묶어서 순환 조회\n",
    "for v in d.items():\n",
    "    print(type(v), v, v[0], v[1])"
   ]
  },
  {
   "cell_type": "code",
   "execution_count": 31,
   "id": "f4dedcd9",
   "metadata": {},
   "outputs": [],
   "source": [
    "k, v = ('a', 1)"
   ]
  },
  {
   "cell_type": "code",
   "execution_count": 32,
   "id": "5ea78979",
   "metadata": {},
   "outputs": [
    {
     "name": "stdout",
     "output_type": "stream",
     "text": [
      "key: a, value: ('a', 1)\n",
      "key: a, value: ('b', 2)\n",
      "key: a, value: ('c', 3)\n"
     ]
    }
   ],
   "source": [
    "# dictionary에서 key-value를 묶어서 순환 조회\n",
    "for v in d.items():\n",
    "#     print(type(v), v, v[0], v[1])\n",
    "    print(f'key: {k}, value: {v}')\n",
    "    \n",
    "# 이렇게 쓰는 방식이 위의 방식보다 더 많이 쓰임임"
   ]
  },
  {
   "cell_type": "code",
   "execution_count": 34,
   "id": "518a7f6e",
   "metadata": {},
   "outputs": [
    {
     "name": "stdout",
     "output_type": "stream",
     "text": [
      "1 2 3\n",
      "10 20 30\n"
     ]
    }
   ],
   "source": [
    "for i, j, k in [[1, 2, 3], [10, 20, 30]]:\n",
    "    print(i, j, k)"
   ]
  },
  {
   "cell_type": "code",
   "execution_count": 35,
   "id": "401e0422",
   "metadata": {},
   "outputs": [
    {
     "name": "stdout",
     "output_type": "stream",
     "text": [
      "1\n",
      "2\n",
      "3\n"
     ]
    }
   ],
   "source": [
    "s = {1, 2, 3, 3, 3, 2, 2, 2, 1}  # set -> iterable -> for in  이용해서 원소 조회\n",
    "for v in s:\n",
    "    print(v)"
   ]
  },
  {
   "cell_type": "markdown",
   "id": "1f30cd6f",
   "metadata": {
    "slideshow": {
     "slide_type": "subslide"
    }
   },
   "source": [
    "## continue와 break를 이용한 반복문 제어\n",
    "- **continue**\n",
    "    - 현재 반복을 중단하고 다음 반복을 진행한다.\n",
    "    - 특정 조건에서 처리를 멈추고 다음 처리를 반복할 때 사용한다.\n",
    "- **break**\n",
    "    - 반복을 중단한다.\n",
    "    - 특정 조건에서 반복문을 중간에 중지할때 사용한다.\n",
    "- continue와 break는 특정 조건에서 실행되야 하는 경우가 대부분이므로 if문 안에 작성한다.    "
   ]
  },
  {
   "cell_type": "code",
   "execution_count": 38,
   "id": "90c41e9f",
   "metadata": {
    "slideshow": {
     "slide_type": "fragment"
    }
   },
   "outputs": [
    {
     "name": "stdout",
     "output_type": "stream",
     "text": [
      "True 10이 있다\n"
     ]
    }
   ],
   "source": [
    "l = [1, 34, 2, 4e5, 3, 10, 6, 70]\n",
    "# 리스트 l이 원소로 10이 있는지 여부를 확인\n",
    "result = False # True: 10이 있다. False: 10이 없다\n",
    "for v in l:\n",
    "    if v == 10:\n",
    "        result = True\n",
    "        \n",
    "\n",
    "print(result, \"10이 있다\" if result else \"10이 없다\")"
   ]
  },
  {
   "cell_type": "code",
   "execution_count": 39,
   "id": "47d147c5",
   "metadata": {},
   "outputs": [
    {
     "name": "stdout",
     "output_type": "stream",
     "text": [
      "1\n",
      "34\n",
      "2\n",
      "400000.0\n",
      "3\n",
      "10\n",
      "True 10이 있다\n"
     ]
    }
   ],
   "source": [
    "for v in l:\n",
    "    print(v)\n",
    "    if v == 10:\n",
    "        \n",
    "        result = True\n",
    "        break # 반복문을 멈춰라\n",
    "\n",
    "print(result, \"10이 있다\" if result else \"10이 없다\")"
   ]
  },
  {
   "cell_type": "code",
   "execution_count": 40,
   "id": "cdd3f49f",
   "metadata": {},
   "outputs": [
    {
     "data": {
      "text/plain": [
       "27"
      ]
     },
     "execution_count": 40,
     "metadata": {},
     "output_type": "execute_result"
    }
   ],
   "source": [
    "import random\n",
    "random.randint(10, 50) # 10~50사이의 임의의 정수를 1개 생성해준다. (난수)"
   ]
  },
  {
   "cell_type": "code",
   "execution_count": 43,
   "id": "6fc34dc5",
   "metadata": {},
   "outputs": [
    {
     "name": "stdout",
     "output_type": "stream",
     "text": [
      "[40, 24, 38, 45, 14, 11, 38, 35, 18, 49, 23, 50, 30]\n"
     ]
    }
   ],
   "source": [
    "result_list = []\n",
    "# 10~50사이의 난수를 생성해서 result_list에 담는다\n",
    "# 만약에 난수로 30이 나오면 멈춘다\n",
    "\n",
    "\n",
    "while True:\n",
    "    m = random.randint(10, 50) # 난수 생성\n",
    "    result_list.append(m) # 리스트에 추가\n",
    "    if m == 30:\n",
    "            break\n",
    "            \n",
    "print(result_list)\n",
    "        "
   ]
  },
  {
   "cell_type": "code",
   "execution_count": 1,
   "id": "b7120c13",
   "metadata": {},
   "outputs": [
    {
     "name": "stdout",
     "output_type": "stream",
     "text": [
      "3\n",
      ">>> 3\n",
      "j\n",
      ">>> j\n",
      "!q\n"
     ]
    }
   ],
   "source": [
    "# 사용자로부터 글을 입력받아서 !q(종료시그널)를 입력받기 전까지 출력\n",
    "\n",
    "\n",
    "while True:\n",
    "    k=input()\n",
    "    if k == '!q':\n",
    "        break\n",
    "    print(\">>>\", k)"
   ]
  },
  {
   "cell_type": "code",
   "execution_count": 7,
   "id": "0427546d",
   "metadata": {},
   "outputs": [
    {
     "name": "stdout",
     "output_type": "stream",
     "text": [
      "1\n",
      "2\n",
      "3\n",
      "10\n",
      "100\n",
      "200\n",
      "300\n",
      "400\n"
     ]
    }
   ],
   "source": [
    "# 1개의 값들을 각각 출력\n",
    "# 만약에 값이 20이라면 전체 반복을 멈춤\n",
    "# break: 현재 반복을 빠져나온다. => break 구문을 포함한 반복문만 빠져 나온다.\n",
    "l = [\n",
    "    [1, 2, 3],\n",
    "    [10, 20 ,30],\n",
    "    [100, 200, 300, 400]\n",
    "]\n",
    "\n",
    "for x in l:\n",
    "    for y in x:\n",
    "        if y == 20:\n",
    "            break\n",
    "        print(y)"
   ]
  },
  {
   "cell_type": "code",
   "execution_count": 8,
   "id": "1bae58b9",
   "metadata": {},
   "outputs": [
    {
     "name": "stdout",
     "output_type": "stream",
     "text": [
      "1\n",
      "2\n",
      "3\n",
      "10\n"
     ]
    }
   ],
   "source": [
    "is_finish = False # True가 되면 전체 반복문을 빠져나옴\n",
    "for x in l:\n",
    "    for y in x:\n",
    "        if y == 20:\n",
    "            is_finish = True\n",
    "            break\n",
    "        print(y)\n",
    "    \n",
    "    \n",
    "    if is_finish:\n",
    "        break"
   ]
  },
  {
   "cell_type": "code",
   "execution_count": 9,
   "id": "243f7bb9",
   "metadata": {},
   "outputs": [
    {
     "name": "stdout",
     "output_type": "stream",
     "text": [
      "3\n",
      "6\n",
      "9\n"
     ]
    }
   ],
   "source": [
    "l = [1, 2, 3, 4, 5, 6, 7, 8, 9]\n",
    "# 3의 배수만 출력\n",
    "for v in l:\n",
    "    if v % 3 == 0:\n",
    "        print(v)"
   ]
  },
  {
   "cell_type": "code",
   "execution_count": 11,
   "id": "e6635039",
   "metadata": {},
   "outputs": [
    {
     "name": "stdout",
     "output_type": "stream",
     "text": [
      "3\n",
      "6\n",
      "9\n"
     ]
    }
   ],
   "source": [
    "for v in l:\n",
    "    if v % 3 != 0: # 3의 배수가 아니라면 다음 원소를 처리\n",
    "        continue\n",
    "    print(v)"
   ]
  },
  {
   "cell_type": "markdown",
   "id": "dc6099c5",
   "metadata": {
    "slideshow": {
     "slide_type": "slide"
    }
   },
   "source": [
    "## for in 문 연관 내장 함수\n",
    "\n",
    "### range()\n",
    "- 일정한 간격의 연속된 정수를 제공하는 반복가능 객체 생성한다.\n",
    "- 구문\n",
    "    - `range([시작값], 멈춤값, [증감값])`\n",
    "        - 시작값, 멈춤값, 증감값 모두 정수만 가능하다.\n",
    "        - 시작값 > 멈춤값 이고 증감값이 음수이면 내림차순으로 값을 제공한다.\n",
    "        1. 전달값이 **1개: 멈춤값**. \n",
    "            - 0 ~ (멈춤값-1)까지 1씩 증가하는 정수를 제공\n",
    "        2. 전달값이 **2개: 시작값, 멈춤값**. \n",
    "            - 시작값 ~ (멈춤값-1) 까지 1씩 증가하는 정수 제공\n",
    "        3. 전달값이 **3개: 시작값, 멈춤값, 증감값(간격)**. \n",
    "            - 시작값 ~ (멈춤값-1)까지 증감값만큼 증가하는 정수를 제공.\n"
   ]
  },
  {
   "cell_type": "code",
   "execution_count": 12,
   "id": "352d937b",
   "metadata": {
    "slideshow": {
     "slide_type": "fragment"
    }
   },
   "outputs": [],
   "source": [
    "# 보통은 for in 뒤에 쓰이고 range, enumerate, zip 모두 중요"
   ]
  },
  {
   "cell_type": "code",
   "execution_count": null,
   "id": "89cfe00e",
   "metadata": {},
   "outputs": [],
   "source": [
    "for i in range(10): # 0(시작) ~ 10-1,, 1씩 증가하는 정수를 제공\n",
    "    print(i)"
   ]
  },
  {
   "cell_type": "code",
   "execution_count": 13,
   "id": "a8aa778b",
   "metadata": {
    "collapsed": true
   },
   "outputs": [
    {
     "name": "stdout",
     "output_type": "stream",
     "text": [
      "10\n",
      "11\n",
      "12\n",
      "13\n",
      "14\n",
      "15\n",
      "16\n",
      "17\n",
      "18\n",
      "19\n"
     ]
    }
   ],
   "source": [
    "for i in range(10, 20): # 10 ~ 20-1 범위에서 1씩 증가하는 정수 제공\n",
    "    print(i)"
   ]
  },
  {
   "cell_type": "code",
   "execution_count": 15,
   "id": "510ec694",
   "metadata": {
    "collapsed": true
   },
   "outputs": [
    {
     "name": "stdout",
     "output_type": "stream",
     "text": [
      "10\n",
      "20\n",
      "30\n",
      "40\n",
      "50\n",
      "60\n",
      "70\n",
      "80\n",
      "90\n",
      "100\n",
      "110\n",
      "120\n",
      "130\n",
      "140\n",
      "150\n",
      "160\n",
      "170\n",
      "180\n",
      "190\n"
     ]
    }
   ],
   "source": [
    "for i in range(10, 200, 10): # 10 ~ 200-1 범위에서 10씩 증가하는 정수를 제공\n",
    "    print(i)"
   ]
  },
  {
   "cell_type": "code",
   "execution_count": 16,
   "id": "b9c7d5f0",
   "metadata": {
    "collapsed": true
   },
   "outputs": [
    {
     "name": "stdout",
     "output_type": "stream",
     "text": [
      "100\n",
      "80\n",
      "60\n",
      "40\n",
      "20\n",
      "0\n",
      "-20\n",
      "-40\n",
      "-60\n",
      "-80\n"
     ]
    }
   ],
   "source": [
    "for i in range(100, -100, -20): # 100 ~ -100+1 범위에서 -20씩 증가(감소)하는 정수를 제공\n",
    "    print(i)"
   ]
  },
  {
   "cell_type": "code",
   "execution_count": 17,
   "id": "194594d2",
   "metadata": {
    "collapsed": true
   },
   "outputs": [
    {
     "name": "stdout",
     "output_type": "stream",
     "text": [
      "안녕\n",
      "안녕\n",
      "안녕\n",
      "안녕\n",
      "안녕\n",
      "안녕\n",
      "안녕\n",
      "안녕\n",
      "안녕\n",
      "안녕\n"
     ]
    }
   ],
   "source": [
    "# 안녕을 10번 출력\n",
    "i = 0\n",
    "while i < 10:\n",
    "    print(\"안녕\")\n",
    "    i += 1"
   ]
  },
  {
   "cell_type": "code",
   "execution_count": 18,
   "id": "6194467e",
   "metadata": {
    "collapsed": true
   },
   "outputs": [
    {
     "name": "stdout",
     "output_type": "stream",
     "text": [
      "안녕\n",
      "안녕\n",
      "안녕\n",
      "안녕\n",
      "안녕\n",
      "안녕\n",
      "안녕\n",
      "안녕\n",
      "안녕\n",
      "안녕\n"
     ]
    }
   ],
   "source": [
    "for i in range(10):\n",
    "    print(\"안녕\")"
   ]
  },
  {
   "cell_type": "code",
   "execution_count": null,
   "id": "49d01b07",
   "metadata": {},
   "outputs": [],
   "source": [
    "for _ in range(10): # 변수명'_': 관례적으로 '이 변수는 사용하지 않겠다'\n",
    "    print(\"안녕\")"
   ]
  },
  {
   "cell_type": "code",
   "execution_count": 20,
   "id": "b58ec16c",
   "metadata": {},
   "outputs": [
    {
     "data": {
      "text/plain": [
       "{-100,\n",
       " -90,\n",
       " -80,\n",
       " -70,\n",
       " -60,\n",
       " -50,\n",
       " -40,\n",
       " -30,\n",
       " -20,\n",
       " -10,\n",
       " 0,\n",
       " 10,\n",
       " 20,\n",
       " 30,\n",
       " 40,\n",
       " 50,\n",
       " 60,\n",
       " 70,\n",
       " 80,\n",
       " 90,\n",
       " 100}"
      ]
     },
     "execution_count": 20,
     "metadata": {},
     "output_type": "execute_result"
    }
   ],
   "source": [
    "list(range(10))\n",
    "tuple(range(0, 1001, 100))\n",
    "# set()\n",
    "set(range(100, -101, -10))"
   ]
  },
  {
   "cell_type": "code",
   "execution_count": 21,
   "id": "4ec6c227",
   "metadata": {},
   "outputs": [
    {
     "ename": "TypeError",
     "evalue": "'float' object cannot be interpreted as an integer",
     "output_type": "error",
     "traceback": [
      "\u001b[1;31m---------------------------------------------------------------------------\u001b[0m",
      "\u001b[1;31mTypeError\u001b[0m                                 Traceback (most recent call last)",
      "Cell \u001b[1;32mIn[21], line 1\u001b[0m\n\u001b[1;32m----> 1\u001b[0m \u001b[38;5;28;43mrange\u001b[39;49m\u001b[43m(\u001b[49m\u001b[38;5;241;43m0\u001b[39;49m\u001b[43m,\u001b[49m\u001b[43m \u001b[49m\u001b[38;5;241;43m1.1\u001b[39;49m\u001b[43m,\u001b[49m\u001b[43m \u001b[49m\u001b[38;5;241;43m0.1\u001b[39;49m\u001b[43m)\u001b[49m\n",
      "\u001b[1;31mTypeError\u001b[0m: 'float' object cannot be interpreted as an integer"
     ]
    }
   ],
   "source": [
    "range(0, 1.1, 0.1) # range()는 정수만 사용"
   ]
  },
  {
   "cell_type": "code",
   "execution_count": 23,
   "id": "fb2cc62f",
   "metadata": {},
   "outputs": [
    {
     "data": {
      "text/plain": [
       "array([0. , 0.1, 0.2, 0.3, 0.4, 0.5, 0.6, 0.7, 0.8, 0.9, 1. ])"
      ]
     },
     "execution_count": 23,
     "metadata": {},
     "output_type": "execute_result"
    }
   ],
   "source": [
    "import numpy as np\n",
    "np.arange(0, 1.1, 0.1)"
   ]
  },
  {
   "cell_type": "markdown",
   "id": "5de9d74e",
   "metadata": {
    "slideshow": {
     "slide_type": "subslide"
    }
   },
   "source": [
    "## enumerate()\n",
    "\n",
    "- 구문\n",
    "    - `enumerate(Iterable,  [, start=정수])`\n",
    "        - 현재 몇번째 값을 제공하는 지(현재 몇번째 반복인지)를 나타내는 **index**와 제공하는 **원소**를 tuple로 묶어서 반환\n",
    "        - Iterable\n",
    "            - 값을 제공할 Iterable객체\n",
    "        - start: 정수\n",
    "            - index 시작 값. 생략하면 0부터 시작한다."
   ]
  },
  {
   "cell_type": "code",
   "execution_count": 25,
   "id": "33dd96c5",
   "metadata": {
    "slideshow": {
     "slide_type": "fragment"
    }
   },
   "outputs": [
    {
     "name": "stdout",
     "output_type": "stream",
     "text": [
      "(0, 'a') 0 a\n",
      "(1, 'b') 1 b\n",
      "(2, 'c') 2 c\n",
      "(3, 'd') 3 d\n"
     ]
    }
   ],
   "source": [
    "l = [\"a\", \"b\", \"c\", \"d\"]\n",
    "for v in enumerate(l):\n",
    "    print(v, v[0], v[1])"
   ]
  },
  {
   "cell_type": "code",
   "execution_count": 26,
   "id": "c6b8c7cf",
   "metadata": {},
   "outputs": [
    {
     "name": "stdout",
     "output_type": "stream",
     "text": [
      "0 a\n",
      "1 b\n",
      "2 c\n",
      "3 d\n"
     ]
    }
   ],
   "source": [
    "for i, v in enumerate(l):\n",
    "    print(i, v)"
   ]
  },
  {
   "cell_type": "code",
   "execution_count": 32,
   "id": "5c4923ae",
   "metadata": {},
   "outputs": [
    {
     "name": "stdout",
     "output_type": "stream",
     "text": [
      "0번째 중간결과: 0\n",
      "1000000번째 중간결과: 500,000,500,000\n",
      "2000000번째 중간결과: 2,000,001,000,000\n",
      "3000000번째 중간결과: 4,500,001,500,000\n",
      "4000000번째 중간결과: 8,000,002,000,000\n",
      "5000000번째 중간결과: 12,500,002,500,000\n",
      "6000000번째 중간결과: 18,000,003,000,000\n",
      "7000000번째 중간결과: 24,500,003,500,000\n",
      "8000000번째 중간결과: 32,000,004,000,000\n",
      "9000000번째 중간결과: 40,500,004,500,000\n"
     ]
    }
   ],
   "source": [
    "# 0 ~ 10000000 누적 합계\n",
    "result = 0 # 누적합계를 저장할 변수\n",
    "\n",
    "# 100만번에 한번씩 중간 결과를 확인\n",
    "\n",
    "for idx, v in enumerate(range(10_000_000)):\n",
    "\n",
    "# result = result + i\n",
    "    result += v\n",
    "    if idx % 1000000 == 0:\n",
    "        print(f'{idx}번째 중간결과: {format(result, \",\")}')"
   ]
  },
  {
   "cell_type": "code",
   "execution_count": 27,
   "id": "f805f5aa",
   "metadata": {},
   "outputs": [
    {
     "data": {
      "text/plain": [
       "100000000000"
      ]
     },
     "execution_count": 27,
     "metadata": {},
     "output_type": "execute_result"
    }
   ],
   "source": [
    "100_000_000_000 # 큰 숫자는 _로 끊어서"
   ]
  },
  {
   "cell_type": "markdown",
   "id": "f5a5540f",
   "metadata": {
    "slideshow": {
     "slide_type": "subslide"
    }
   },
   "source": [
    "## zip()\n",
    "- 여러 개의 Iterable 객체를 받아 반복시 같은 index의 값끼리 튜플로 묶어 반환한다.\n",
    "- 구문\n",
    "    - `zip(Iterable1, Iterable2, Iterable3 [, .......])`\n",
    "        - Iterable 2개이상.전달한다.\n",
    "- 각 자료구조 객체의 크기가 다를 경우 크기가 작은 것의 개수에 맞춰 반복한다."
   ]
  },
  {
   "cell_type": "code",
   "execution_count": 38,
   "id": "1b99057f",
   "metadata": {
    "slideshow": {
     "slide_type": "fragment"
    }
   },
   "outputs": [],
   "source": [
    "# 4명의 정보를 이름, 나이, 주소별로 따로 저장\n",
    "names = [\"홍길동\", \"이순신\", \"유관순\", \"강감찬\"]\n",
    "ages = [35, 55, 65, 25]\n",
    "addresses = [\"서울\", \"부산\", \"광주\", \"대구\", \"인천\", \"경기\"]"
   ]
  },
  {
   "cell_type": "code",
   "execution_count": 35,
   "id": "7232e55a",
   "metadata": {},
   "outputs": [
    {
     "name": "stdout",
     "output_type": "stream",
     "text": [
      "홍길동 35 서울\n",
      "이순신 55 부산\n"
     ]
    }
   ],
   "source": [
    "print(names[0], ages[0], addresses[0])\n",
    "print(names[1], ages[1], addresses[1])"
   ]
  },
  {
   "cell_type": "code",
   "execution_count": 36,
   "id": "09f1b26e",
   "metadata": {},
   "outputs": [
    {
     "name": "stdout",
     "output_type": "stream",
     "text": [
      "('홍길동', 35, '서울')\n",
      "('이순신', 55, '부산')\n",
      "('유관순', 65, '광주')\n",
      "('강감찬', 25, '대구')\n"
     ]
    }
   ],
   "source": [
    "for values in zip(names, ages, addresses):\n",
    "    print(values)"
   ]
  },
  {
   "cell_type": "code",
   "execution_count": 39,
   "id": "478224fe",
   "metadata": {},
   "outputs": [
    {
     "name": "stdout",
     "output_type": "stream",
     "text": [
      "홍길동 - 35 - 서울\n",
      "이순신 - 55 - 부산\n",
      "유관순 - 65 - 광주\n",
      "강감찬 - 25 - 대구\n"
     ]
    }
   ],
   "source": [
    "for name, age, address in zip(names, ages, addresses):\n",
    "    print(name, age, address, sep=' - ')"
   ]
  },
  {
   "cell_type": "markdown",
   "id": "2df89dae",
   "metadata": {
    "slideshow": {
     "slide_type": "subslide"
    }
   },
   "source": [
    "# 컴프리헨션(Comprehension)\n",
    "\n",
    "- 기존 Iterable의 원소들을 이용해서 새로운 자료구조(List, Dictionary, Set)를 생성하는 구문.\n",
    "    - 기존 Iterable의 **원소들을 처리한 결과**나  **특정 조건이 True인 값들을** 새로운 자료구조에 넣을때 사용.\n",
    "    - 결과를 넣을 새로운 자료구조에 따라 다음 세가지 구문이 있다.\n",
    "        - 리스트 컴프리헨션\n",
    "        - 딕셔너리  컴프리헨션\n",
    "        - 셋  컴프리헨션\n",
    "- 튜플 컴프리헨션은 없다.\n",
    "- 딕셔너리 컴프리헨션과 셋 컴프리헨션은 파이썬 3 에 새로 추가되었다."
   ]
  },
  {
   "cell_type": "code",
   "execution_count": 40,
   "id": "e04827d9",
   "metadata": {
    "slideshow": {
     "slide_type": "fragment"
    }
   },
   "outputs": [
    {
     "data": {
      "text/plain": [
       "[1, 2, 3, 4, 5, 6, 7, 8, 9, 10]"
      ]
     },
     "execution_count": 40,
     "metadata": {},
     "output_type": "execute_result"
    }
   ],
   "source": [
    "l = list(range(1, 11))\n",
    "# l이 가지는 원소들을 10배한 결과를 모아놓은 리스트를 생성\n",
    "\n"
   ]
  },
  {
   "cell_type": "code",
   "execution_count": 41,
   "id": "67d1c138",
   "metadata": {},
   "outputs": [
    {
     "name": "stdout",
     "output_type": "stream",
     "text": [
      "결과: [10, 20, 30, 40, 50, 60, 70, 80, 90, 100]\n"
     ]
    }
   ],
   "source": [
    "result = [] # 10배한 결과를 담을 리스트\n",
    "\n",
    "for v in l:\n",
    "    result.append(v * 10)\n",
    "print(\"결과:\", result)"
   ]
  },
  {
   "cell_type": "code",
   "execution_count": 43,
   "id": "5dca9c28",
   "metadata": {},
   "outputs": [
    {
     "data": {
      "text/plain": [
       "[10, 20, 30, 40, 50, 60, 70, 80, 90, 100]"
      ]
     },
     "execution_count": 43,
     "metadata": {},
     "output_type": "execute_result"
    }
   ],
   "source": [
    "# 리스트 컴프리헨션\n",
    "result2=[v*10 for v in l] # for 앞의 v*10 = append(v*10)이랑 같은 기능\n",
    "result2"
   ]
  },
  {
   "cell_type": "code",
   "execution_count": 44,
   "id": "e2f91962",
   "metadata": {},
   "outputs": [
    {
     "name": "stdout",
     "output_type": "stream",
     "text": [
      "{10, 20, 30}\n"
     ]
    }
   ],
   "source": [
    "# 셋 컴프리헨션\n",
    "e = [1, 1, 2, 2, 2, 3, 3, 3, 3]\n",
    "result3 = {v*10 for v in e}\n",
    "print(result3)"
   ]
  },
  {
   "cell_type": "code",
   "execution_count": 48,
   "id": "555dbbaa",
   "metadata": {},
   "outputs": [
    {
     "name": "stdout",
     "output_type": "stream",
     "text": [
      "{'aaaaa': 5, 'dd': 2, 'video': 5, '가나다라': 4, 'jupyter': 7}\n"
     ]
    }
   ],
   "source": [
    "#\n",
    "t = 'aaaaa', 'dd', 'video', '가나다라', 'jupyter'\n",
    "result4 = {}\n",
    "for s in t:\n",
    "#     print(s, len(s))\n",
    "    result4[s] = len(s)\n",
    "print(result4)"
   ]
  },
  {
   "cell_type": "code",
   "execution_count": 51,
   "id": "7d1386dd",
   "metadata": {},
   "outputs": [
    {
     "name": "stdout",
     "output_type": "stream",
     "text": [
      "{'aaaaa': 5, 'dd': 2, 'video': 5, '가나다라': 4, 'jupyter': 7}\n"
     ]
    }
   ],
   "source": [
    "# 딕셔너리 컴프리헨션\n",
    "result5 = {s:len(s) for s in t}\n",
    "print(result5)"
   ]
  },
  {
   "cell_type": "code",
   "execution_count": 53,
   "id": "6b494edb",
   "metadata": {},
   "outputs": [
    {
     "name": "stdout",
     "output_type": "stream",
     "text": [
      "[10, 20, 30, 40, 50, 60, 70, 80, 90]\n"
     ]
    }
   ],
   "source": [
    "l = list(range(1, 100))\n",
    "# l의 원소 중 10의 배수만 가지는 리스트를 생성 - filter\n",
    "\n",
    "result10 = []\n",
    "for v in l:\n",
    "    if v % 10 == 0:\n",
    "        result10.append(v)\n",
    "print(result10)\n",
    "\n"
   ]
  },
  {
   "cell_type": "code",
   "execution_count": 54,
   "id": "730c714b",
   "metadata": {},
   "outputs": [
    {
     "name": "stdout",
     "output_type": "stream",
     "text": [
      "[10, 20, 30, 40, 50, 60, 70, 80, 90]\n"
     ]
    }
   ],
   "source": [
    "result11 = [v for v in l if v % 10 == 0] % #l에서 1부터 빼와서 if 구문으로 이동해 True이면 그 값을 v라는 리스트에 담는다\n",
    "print(result11)\n",
    "\n",
    "# 가능하다면 컴프리헨션 위주로"
   ]
  },
  {
   "cell_type": "code",
   "execution_count": 55,
   "id": "b2530891",
   "metadata": {},
   "outputs": [
    {
     "name": "stdout",
     "output_type": "stream",
     "text": [
      "[5, 15, 25, 35, 45, 55, 65, 75, 85]\n"
     ]
    }
   ],
   "source": [
    "result12 = [v-5 for v in l if v % 10 == 0] # filter + map\n",
    "print(result12)"
   ]
  },
  {
   "cell_type": "code",
   "execution_count": 56,
   "id": "fa17fd1f",
   "metadata": {},
   "outputs": [
    {
     "name": "stdout",
     "output_type": "stream",
     "text": [
      "[-99, -98, -97, -90, -80, 0, 100, 200, 300]\n"
     ]
    }
   ],
   "source": [
    "l2 = [[1, 2, 3],\n",
    "      [10, 20],\n",
    "      [100, 200, 300, 400]\n",
    "     ]\n",
    "# l2 모든 값들에서 100을 뺀 결과를 가지는 리스트\n",
    "\n",
    "result13 = []\n",
    "for w in l2:\n",
    "    for q in w:\n",
    "        result13.append(q-100)\n",
    "print(result13)"
   ]
  },
  {
   "cell_type": "code",
   "execution_count": 58,
   "id": "dacbde83",
   "metadata": {},
   "outputs": [
    {
     "name": "stdout",
     "output_type": "stream",
     "text": [
      "[-99, -98, -97, -90, -80, 0, 100, 200, 300]\n"
     ]
    }
   ],
   "source": [
    "result14 = [t-100 for r in l2 for t in r ]\n",
    "print(result14)\n"
   ]
  },
  {
   "cell_type": "code",
   "execution_count": 59,
   "id": "6152eb54",
   "metadata": {},
   "outputs": [
    {
     "name": "stdout",
     "output_type": "stream",
     "text": [
      "[0, 100, 200, 300]\n"
     ]
    }
   ],
   "source": [
    "# l2의 모든 값들에서(중에 50이상인 값들에서만) 100뺀 것을 리스트화\n",
    "result15 = [t-100 for r in l2 for t in r if t >= 50]\n",
    "print(result15)"
   ]
  },
  {
   "cell_type": "markdown",
   "id": "092288d7",
   "metadata": {
    "slideshow": {
     "slide_type": "skip"
    }
   },
   "source": [
    "# TODO"
   ]
  },
  {
   "cell_type": "code",
   "execution_count": 29,
   "id": "85da95c2",
   "metadata": {
    "slideshow": {
     "slide_type": "skip"
    }
   },
   "outputs": [
    {
     "name": "stdout",
     "output_type": "stream",
     "text": [
      "점수:77\n",
      "C학점\n"
     ]
    }
   ],
   "source": [
    "#(1) 다음 점수 구간에 맞게 학점을 출력하세요.\n",
    "# 91 ~ 100 : A학점\n",
    "# 81 ~ 90 :  B학점\n",
    "# 71 ~ 80 :  C학점\n",
    "# 61 ~ 70 :  D학점\n",
    "# 60이하   :  F학점\n",
    "n = int(input(\"점수:\"))\n",
    "if 91 <= n <= 100:\n",
    "    print(\"A학점\")\n",
    "elif 81 <= n <= 90:\n",
    "    print(\"B학점\")\n",
    "elif 71 <= n <= 80:\n",
    "    print(\"C학점\")\n",
    "elif 61 <= n <= 70:\n",
    "    print(\"D학점\")\n",
    "else:\n",
    "    print(\"F학점\")"
   ]
  },
  {
   "cell_type": "code",
   "execution_count": 31,
   "id": "86b27c24",
   "metadata": {},
   "outputs": [
    {
     "name": "stdout",
     "output_type": "stream",
     "text": [
      "잘못된 점수입니다\n"
     ]
    }
   ],
   "source": [
    "jumsu= -35#int(input(\"점수:\"))\n",
    "\n",
    "if jumsu <= 100 and jumsu >= 91:\n",
    "    print(\"A학점\")\n",
    "elif jumsu <=90 and jumsu >=81:\n",
    "    print(\"B학점\")\n",
    "elif jumsu <=80 and jumsu >= 71:\n",
    "    print(\"C학점\")\n",
    "elif jumsu <=70 and jumsu >= 61:\n",
    "    print(\"D학점\")\n",
    "elif jumsu <= 60 and jumsu >= 0:\n",
    "    print(\"F학점\")\n",
    "else:\n",
    "    print(\"잘못된 점수입니다\")"
   ]
  },
  {
   "cell_type": "code",
   "execution_count": 33,
   "id": "70125d9c",
   "metadata": {},
   "outputs": [
    {
     "name": "stdout",
     "output_type": "stream",
     "text": [
      "C학점\n"
     ]
    }
   ],
   "source": [
    "jumsu= 77#int(input(\"점수:\"))\n",
    "if jumsu < 0 or jumsu > 100:\n",
    "    print(f\"{jumsu}는 잘못된 점수입니다\")\n",
    "elif jumsu >= 91:\n",
    "    print('A학점')\n",
    "elif jumsu >= 81:\n",
    "    print('B학점')\n",
    "elif jumsu >= 71:\n",
    "    print('C학점')\n",
    "elif jumsu >= 61:\n",
    "    print('D학점')\n",
    "else:\n",
    "    print('F학점')"
   ]
  },
  {
   "cell_type": "code",
   "execution_count": 62,
   "id": "569ecf04",
   "metadata": {
    "slideshow": {
     "slide_type": "skip"
    }
   },
   "outputs": [
    {
     "name": "stdout",
     "output_type": "stream",
     "text": [
      "ID를 입력하세요-rooooop\n",
      "사용할 수 있습니다.\n"
     ]
    }
   ],
   "source": [
    "#(2) 사용자로 부터 ID를 입력 받은 뒤 입력받은 ID가 5글자 이상이면 \"사용할 수 있습니다.\"를 \n",
    "# 5글자 미만이면 \"사용할 수 없는 ID입니다.\"를 출력하세요.\n",
    "\n",
    "xxxxx = input(\"ID를 입력하세요-\")\n",
    "if len(xxxxx) >= 5:\n",
    "    print(\"사용할 수 있습니다.\")\n",
    "else: \n",
    "    print(\"사용할 수 없습니다.\")"
   ]
  },
  {
   "cell_type": "code",
   "execution_count": null,
   "id": "d70c4ddd",
   "metadata": {},
   "outputs": [],
   "source": [
    "id = input(\"등록할 ID:\")\n",
    "if len(id) >= 5:\n",
    "    print(f'{id}는 사용할 수 없습니다')\n",
    "else:\n",
    "    print(f'{id}는 사용할 수 없는 id입니다. 5글자 이상 입력하세요)\n"
   ]
  },
  {
   "cell_type": "code",
   "execution_count": 1,
   "id": "551368eb",
   "metadata": {
    "slideshow": {
     "slide_type": "skip"
    }
   },
   "outputs": [
    {
     "name": "stdout",
     "output_type": "stream",
     "text": [
      "도시명:인천\n",
      "광역시\n"
     ]
    }
   ],
   "source": [
    "#(3) 사용자로부터 우리나라 도시명을 입력 받은 뒤 \n",
    "# 입력받은 도시명이 서울이면 \"특별시\"를 인천,부산,광주,대구,대전,울산 이면 \"광역시\"를 나머지는 \"특별시나 광역시가 아닙니다.\"를 출력하세요.\n",
    "\n",
    "xx = input(\"도시명:\")\n",
    "if xx == '서울':\n",
    "    print('특별시')\n",
    "elif xx == '인천':\n",
    "    print('광역시')\n",
    "else:\n",
    "    print('특별시나 광역시가 아닙니다')"
   ]
  },
  {
   "cell_type": "code",
   "execution_count": null,
   "id": "5a412579",
   "metadata": {},
   "outputs": [],
   "source": [
    "city = input(\"도시명:\")\n",
    "if city=='서울' or city=='세종':\n",
    "    print(f'{city}: 특별시')\n",
    "# 이런 식이거나"
   ]
  },
  {
   "cell_type": "code",
   "execution_count": 35,
   "id": "a4913aea",
   "metadata": {},
   "outputs": [
    {
     "name": "stdout",
     "output_type": "stream",
     "text": [
      "도시명:대구\n",
      "광역시\n"
     ]
    }
   ],
   "source": [
    "city = input(\"도시명:\")\n",
    "if city in ['서울', '세종']:\n",
    "    print(\"특별시\")\n",
    "elif city in ['인천', '부산', '광주', '대전', '울산', '대구']:\n",
    "    print(\"광역시\")\n",
    "else:\n",
    "    print(\"특별시나 광역시가 아닙니다\")"
   ]
  },
  {
   "cell_type": "code",
   "execution_count": 4,
   "id": "47b5a0b5",
   "metadata": {
    "slideshow": {
     "slide_type": "skip"
    }
   },
   "outputs": [
    {
     "name": "stdout",
     "output_type": "stream",
     "text": [
      "100 200\n"
     ]
    }
   ],
   "source": [
    "#(4) 아래 리스트의 평균을 구하시오. \n",
    "jumsu = [100, 90, 100, 80, 70, 100, 80, 90, 95, 85]\n",
    "\n",
    "result = []\n",
    "\n",
    "for v in jumsu:\n",
    "    result.append(v * 10)\n",
    "print(\"결과:\", result)\n"
   ]
  },
  {
   "cell_type": "code",
   "execution_count": 40,
   "id": "1661f026",
   "metadata": {},
   "outputs": [
    {
     "name": "stdout",
     "output_type": "stream",
     "text": [
      "890\n",
      "89.0\n"
     ]
    }
   ],
   "source": [
    "jumsu = [100, 90, 100, 80, 70, 100, 80, 90, 95, 85]\n",
    "sum_result = 0\n",
    "\n",
    "for c in jumsu:\n",
    "    sum_result += c # sum_result = sum_result + v\n",
    "print(sum_result)\n",
    "avg = (sum_result) / len(jumsu)\n",
    "print(avg)"
   ]
  },
  {
   "cell_type": "code",
   "execution_count": 41,
   "id": "662dbbaa",
   "metadata": {
    "slideshow": {
     "slide_type": "skip"
    }
   },
   "outputs": [
    {
     "name": "stdout",
     "output_type": "stream",
     "text": [
      "0=pass\n",
      "1=pass\n",
      "2=pass\n",
      "3=fail\n",
      "4=fail\n",
      "5=pass\n",
      "6=fail\n",
      "7=pass\n",
      "8=pass\n",
      "9=fail\n"
     ]
    }
   ],
   "source": [
    "#(5) 위 jumsu리스트에서 평균점수이상은 pass, 미만은 fail을 index번호와 함께 출력하시오. (ex: 0-pass, 1-pass, 2-fail)\n",
    "for idx, value in enumerate(jumsu):\n",
    "    if value >= avg:\n",
    "        print(f'{idx}=pass')\n",
    "    else:\n",
    "        print(f'{idx}=fail')"
   ]
  },
  {
   "cell_type": "code",
   "execution_count": 30,
   "id": "5b2bbf8b",
   "metadata": {
    "slideshow": {
     "slide_type": "skip"
    }
   },
   "outputs": [
    {
     "name": "stdout",
     "output_type": "stream",
     "text": [
      "Maximum value: 95\n"
     ]
    }
   ],
   "source": [
    "#(6) 아래 리스트 값들 중 최대값을 조회해 출력\n",
    "jumsu = [60, 90, 80, 80, 70, 55, 80, 90, 95, 85]\n",
    "\n",
    "max_value = None\n",
    "\n",
    "for num in jumsu:\n",
    "    if (max_value is None or num > max_value):\n",
    "        max_value = num\n",
    "\n",
    "print('Maximum value:', max_value)"
   ]
  },
  {
   "cell_type": "code",
   "execution_count": null,
   "id": "6165749f",
   "metadata": {},
   "outputs": [],
   "source": [
    "jumsu = [60, 90, 80, 80, 70, 55, 80, 90, 95, 85]\n",
    "max_value = -1000 # 최대값을 저장할 변수\n",
    "for v in jumsu:\n",
    "    if v > max_value:\n",
    "        max_value=v\n",
    "print(max_value)"
   ]
  },
  {
   "cell_type": "code",
   "execution_count": null,
   "id": "e0b991fd",
   "metadata": {},
   "outputs": [],
   "source": [
    "jumsu.sort()\n",
    "jumsu[-1]"
   ]
  },
  {
   "cell_type": "code",
   "execution_count": 43,
   "id": "f11f225d",
   "metadata": {},
   "outputs": [
    {
     "data": {
      "text/plain": [
       "(55, 95)"
      ]
     },
     "execution_count": 43,
     "metadata": {},
     "output_type": "execute_result"
    }
   ],
   "source": [
    "jumsu = [60, 90, 80, 80, 70, 55, 80, 90, 95, 85]\n",
    "min(jumsu), max(jumsu)"
   ]
  },
  {
   "cell_type": "code",
   "execution_count": 9,
   "id": "7c053c01",
   "metadata": {
    "slideshow": {
     "slide_type": "skip"
    }
   },
   "outputs": [
    {
     "name": "stdout",
     "output_type": "stream",
     "text": [
      "['소', '호랑이', '용', '뱀']\n"
     ]
    }
   ],
   "source": [
    "#(7) 다음 리스트 중에서 \"쥐\"와 \"토끼\" 제외한 나머지를 출력하세요.\n",
    "str_list = [\"쥐\", \"소\", \"호랑이\", \"토끼\", \"용\", \"뱀\"]\n",
    "\n",
    "del str_list[0]\n",
    "del str_list[2]\n",
    "print(str_list)"
   ]
  },
  {
   "cell_type": "code",
   "execution_count": 45,
   "id": "13e3dbf1",
   "metadata": {},
   "outputs": [
    {
     "name": "stdout",
     "output_type": "stream",
     "text": [
      "소\n",
      "호랑이\n",
      "용\n",
      "뱀\n"
     ]
    }
   ],
   "source": [
    "str_list = [\"쥐\", \"소\", \"호랑이\", \"토끼\", \"용\", \"뱀\"]\n",
    "for s in str_list:\n",
    "    if s != '쥐' and s != '토끼':\n",
    "        print(s)"
   ]
  },
  {
   "cell_type": "code",
   "execution_count": 46,
   "id": "da8499d6",
   "metadata": {},
   "outputs": [
    {
     "name": "stdout",
     "output_type": "stream",
     "text": [
      "소\n",
      "호랑이\n",
      "용\n",
      "뱀\n"
     ]
    }
   ],
   "source": [
    "str_list = [\"쥐\", \"소\", \"호랑이\", \"토끼\", \"용\", \"뱀\"]\n",
    "for s in str_list:\n",
    "    if s not in [\"쥐\", \"토끼\"]:\n",
    "        print(s)"
   ]
  },
  {
   "cell_type": "code",
   "execution_count": 47,
   "id": "8f7040b3",
   "metadata": {},
   "outputs": [
    {
     "name": "stdout",
     "output_type": "stream",
     "text": [
      "소\n",
      "호랑이\n",
      "용\n",
      "뱀\n"
     ]
    }
   ],
   "source": [
    "for s in str_list:\n",
    "    if s in [\"토끼\", \"쥐\"]:\n",
    "        continue\n",
    "    print(s)"
   ]
  },
  {
   "cell_type": "code",
   "execution_count": 50,
   "id": "c1c43da3",
   "metadata": {
    "slideshow": {
     "slide_type": "skip"
    }
   },
   "outputs": [
    {
     "name": "stdout",
     "output_type": "stream",
     "text": [
      "정수:8\n",
      "8 * 1 = 8\n",
      "8 * 2 = 8\n",
      "8 * 3 = 8\n",
      "8 * 4 = 8\n",
      "8 * 5 = 8\n",
      "8 * 6 = 8\n",
      "8 * 7 = 8\n",
      "8 * 8 = 8\n",
      "8 * 9 = 8\n"
     ]
    }
   ],
   "source": [
    "#(8) 사용자로부터 정수를 입력받아 그 단의 구구단을 출력하시오. \n",
    "# ex) 단을 입력하시오 : 2  \n",
    "# 2 x 1 = 2\n",
    "# 2 x 2 = 4\n",
    "#..\n",
    "# 2 x 9 = 18\n",
    "\n",
    "#컴프리헨션\n",
    "\n",
    "dan = int(input(\"정수:\"))\n",
    "for i in range(1, 10):\n",
    "    print(f'{dan} * {i} = {dan*1}')\n",
    "\n",
    "\n"
   ]
  },
  {
   "cell_type": "code",
   "execution_count": 11,
   "id": "c955b94b",
   "metadata": {
    "slideshow": {
     "slide_type": "skip"
    }
   },
   "outputs": [
    {
     "name": "stdout",
     "output_type": "stream",
     "text": [
      "[20, 60, 140, 10, 240, 1400, 2, 70]\n"
     ]
    }
   ],
   "source": [
    "#(9) 다음 리스트가 가진 값에 두배(* 2)를 가지는 새로운 리스트를 만드시오. (리스트 컴프리헨션 이용)\n",
    "lst = [10, 30, 70, 5, 120, 700, 1, 35]\n",
    "\n",
    "result99 = [] \n",
    "\n",
    "for v99 in lst:\n",
    "    result99.append(v99 * 2)\n",
    "print(result99)"
   ]
  },
  {
   "cell_type": "code",
   "execution_count": 51,
   "id": "8f3da896",
   "metadata": {},
   "outputs": [
    {
     "name": "stdout",
     "output_type": "stream",
     "text": [
      "[20, 60, 140, 10, 240, 1400, 2, 70]\n"
     ]
    }
   ],
   "source": [
    "lst = [10, 30, 70, 5, 120, 700, 1, 35]\n",
    "result = [v*2 for v in lst]\n",
    "print(result)"
   ]
  },
  {
   "cell_type": "code",
   "execution_count": 52,
   "id": "5cf7d3a0",
   "metadata": {
    "slideshow": {
     "slide_type": "skip"
    }
   },
   "outputs": [
    {
     "name": "stdout",
     "output_type": "stream",
     "text": [
      "[(10, 100), (30, 300), (70, 700), (5, 50), (5, 50), (120, 1200), (700, 7000), (1, 10), (35, 350), (35, 350)]\n"
     ]
    }
   ],
   "source": [
    "#(10) 다음 리스트가 가진 값에 10배의 값을 가지는 값을 (원래값, 10배값) 의 튜플 묶음으로 가지는 리스트를 만드시오 (리스트 컴프리헨션 이용)\n",
    "# Ex) [(10,100), (30,300), .., (35, 350)]\n",
    "lst = [10, 30, 70, 5, 5, 120, 700, 1, 35, 35]\n",
    "\n",
    "result = [(v,v*10) for v in lst]\n",
    "print(result)"
   ]
  },
  {
   "cell_type": "code",
   "execution_count": 12,
   "id": "1e8bb734",
   "metadata": {
    "slideshow": {
     "slide_type": "skip"
    }
   },
   "outputs": [
    {
     "name": "stdout",
     "output_type": "stream",
     "text": [
      "[3, 33, 21, 33, 60, 120]\n"
     ]
    }
   ],
   "source": [
    "#(11) 다음 리스트가 가진 값들 중 3의 배수만 가지는 리스트를 만드시오. (리스트 컴프리헨션 이용)\n",
    "lst2 = [ 3, 20, 33, 21, 33, 8, 11, 10, 7, 17, 60, 120, 2]\n",
    "\n",
    "result1111 = []\n",
    "for v1111 in lst2:\n",
    "    if v1111 % 3 == 0:\n",
    "        result1111.append(v1111)\n",
    "print(result1111)"
   ]
  },
  {
   "cell_type": "code",
   "execution_count": 53,
   "id": "96d52a30",
   "metadata": {},
   "outputs": [
    {
     "data": {
      "text/plain": [
       "[3, 33, 21, 33, 60, 120]"
      ]
     },
     "execution_count": 53,
     "metadata": {},
     "output_type": "execute_result"
    }
   ],
   "source": [
    "lst2 = [ 3, 20, 33, 21, 33, 8, 11, 10, 7, 17, 60, 120, 2]\n",
    "[v for v in lst2 if v % 3 == 0]"
   ]
  },
  {
   "cell_type": "code",
   "execution_count": 29,
   "id": "91f65750",
   "metadata": {
    "slideshow": {
     "slide_type": "skip"
    }
   },
   "outputs": [
    {
     "name": "stdout",
     "output_type": "stream",
     "text": [
      "['a.exe', 'function.exe', 'b.exe', 'run.exe']\n"
     ]
    }
   ],
   "source": [
    "#(12) 다음 파일이름들을 담은 리스트에서 확장자가 exe인 파일만 골라서 새로운 리스트에 담으시오.(string의 endswith()함수 이용)\n",
    "file_name=[\"test.txt\", \"a.exe\", \"jupyter.bat\", \"function.exe\", \"b.exe\", \"cat.jpg\", \"dog.png\", \"run.exe\", \"i.dll\"]\n",
    "\n",
    "result1212 = []\n",
    "for b in file_name:\n",
    "    if b.endswith(\"exe\"):\n",
    "        result1212.append(b)\n",
    "print(result1212)"
   ]
  },
  {
   "cell_type": "code",
   "execution_count": 54,
   "id": "86913adc",
   "metadata": {},
   "outputs": [
    {
     "data": {
      "text/plain": [
       "['a.exe', 'function.exe', 'b.exe', 'run.exe']"
      ]
     },
     "execution_count": 54,
     "metadata": {},
     "output_type": "execute_result"
    }
   ],
   "source": [
    "file_name=[\"test.txt\", \"a.exe\", \"jupyter.bat\", \"function.exe\", \"b.exe\", \"cat.jpg\", \"dog.png\", \"run.exe\", \"i.dll\"]\n",
    "[fn for fn in file_name if fn.endswith('.exe')]"
   ]
  },
  {
   "cell_type": "code",
   "execution_count": 30,
   "id": "caf2755d",
   "metadata": {
    "slideshow": {
     "slide_type": "skip"
    }
   },
   "outputs": [
    {
     "name": "stdout",
     "output_type": "stream",
     "text": [
      "['mystroy.txt', 'jupyter.bat', 'function.exe']\n"
     ]
    }
   ],
   "source": [
    "#(13) 다음 중 10글자 이상인 파일명(확장자포함)만 가지는 리스트를 만드시오.\n",
    "file_name=[\"mystroy.txt\", \"a.exe\", \"jupyter.bat\", \"function.exe\", \"b.exe\", \"cat.jpg\", \"dog.png\", \"run.exe\", \"i.dll\"]\n",
    "\n",
    "result = []\n",
    "for n in file_name:\n",
    "    if len(n) >= 10:\n",
    "        result.append(n)\n",
    "print(result)"
   ]
  },
  {
   "cell_type": "code",
   "execution_count": 56,
   "id": "d2829b41",
   "metadata": {},
   "outputs": [
    {
     "data": {
      "text/plain": [
       "['mystroy.txt', 'jupyter.bat', 'function.exe']"
      ]
     },
     "execution_count": 56,
     "metadata": {},
     "output_type": "execute_result"
    }
   ],
   "source": [
    "file_name=[\"mystroy.txt\", \"a.exe\", \"jupyter.bat\", \"function.exe\", \"b.exe\", \"cat.jpg\", \"dog.png\", \"run.exe\", \"i.dll\"]\n",
    "[fn2 for fn2 in file_name if len(fn2) >= 10]\n",
    "{(fn:len(fn)) for fn2 in file_name if len(fn2) >= 10}"
   ]
  },
  {
   "cell_type": "code",
   "execution_count": 57,
   "id": "a0cc04fa",
   "metadata": {
    "slideshow": {
     "slide_type": "skip"
    }
   },
   "outputs": [
    {
     "data": {
      "text/plain": [
       "['c', 'g', 'h', 'k']"
      ]
     },
     "execution_count": 57,
     "metadata": {},
     "output_type": "execute_result"
    }
   ],
   "source": [
    "#(14) 다음 리스트에서 소문자만 가지는 새로운 리스트를 만드시오.\n",
    "str_list = [\"A\", \"B\", \"c\", \"D\", \"E\", \"F\", \"g\", \"h\", \"I\", \"J\", \"k\"]\n",
    "[s for s in str_list if s.islower()]"
   ]
  }
 ],
 "metadata": {
  "kernelspec": {
   "display_name": "Python 3 (ipykernel)",
   "language": "python",
   "name": "python3"
  },
  "language_info": {
   "codemirror_mode": {
    "name": "ipython",
    "version": 3
   },
   "file_extension": ".py",
   "mimetype": "text/x-python",
   "name": "python",
   "nbconvert_exporter": "python",
   "pygments_lexer": "ipython3",
   "version": "3.10.9"
  },
  "toc": {
   "base_numbering": 1,
   "nav_menu": {},
   "number_sections": true,
   "sideBar": true,
   "skip_h1_title": false,
   "title_cell": "Table of Contents",
   "title_sidebar": "Contents",
   "toc_cell": false,
   "toc_position": {},
   "toc_section_display": true,
   "toc_window_display": false
  },
  "varInspector": {
   "cols": {
    "lenName": 16,
    "lenType": 16,
    "lenVar": 40
   },
   "kernels_config": {
    "python": {
     "delete_cmd_postfix": "",
     "delete_cmd_prefix": "del ",
     "library": "var_list.py",
     "varRefreshCmd": "print(var_dic_list())"
    },
    "r": {
     "delete_cmd_postfix": ") ",
     "delete_cmd_prefix": "rm(",
     "library": "var_list.r",
     "varRefreshCmd": "cat(var_dic_list()) "
    }
   },
   "types_to_exclude": [
    "module",
    "function",
    "builtin_function_or_method",
    "instance",
    "_Feature"
   ],
   "window_display": false
  }
 },
 "nbformat": 4,
 "nbformat_minor": 5
}
