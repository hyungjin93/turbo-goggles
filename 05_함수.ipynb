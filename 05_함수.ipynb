{
 "cells": [
  {
   "cell_type": "markdown",
   "metadata": {
    "slideshow": {
     "slide_type": "slide"
    }
   },
   "source": [
    "# 함수란\n",
    "- 함수란 입력변수와 출력변수간의 대응 관계를 정의한 것을 말한다.\n",
    "- 프로그램에서 함수란 하나의 작업, 기능, 동작을 처리하기 위한 사용자 정의 연산자라고 할 수 있다.\n",
    "    - 함수는 값을 입력(Input)을 받아서 처리후 처리결과를 출력(Output)하는 일련의 과정을 정의한 것을 말한다.\n",
    "    - 만들어진 함수는 동일한 작업이 필요할 때 마다 재사용될 수 있다.\n",
    "    - 함수를 구현해 파이썬 실행환경에 등록하는 것을 **함수를 정의(define)한다** 라고 한다.\n",
    "    - 정의된 함수를 사용하는 것을 **함수를 호출(call)한다** 라고 한다.\n",
    "    - 파이썬에서 함수는 일급 시민(First Class Citizen)이다.\n",
    "    \n",
    "> - **일급 시민 이란**   \n",
    ">    – 변수에 할당할 수 있고, 함수의 입력값으로 전달할 수 있고, 함수의 반환 값으로 반환할 수 있는 객체를 말한다."
   ]
  },
  {
   "cell_type": "code",
   "execution_count": null,
   "metadata": {},
   "outputs": [],
   "source": [
    "# 함수 자체도 하나의 값처럼 사용할 수 있음"
   ]
  },
  {
   "cell_type": "code",
   "execution_count": 2,
   "metadata": {},
   "outputs": [
    {
     "name": "stdout",
     "output_type": "stream",
     "text": [
      "안녕하세요\n",
      "나이:30\n"
     ]
    }
   ],
   "source": [
    "print(\"안녕하세요\")\n",
    "age = 30\n",
    "print(\"나이:{}\".format(age))"
   ]
  },
  {
   "cell_type": "code",
   "execution_count": null,
   "metadata": {},
   "outputs": [],
   "source": [
    "# 언어 처리에서 간단한 것들은 연산자로 하지만 함수로도 처리가능하다.\n",
    "# A라는 프로그램에서 1, 2, 3 순서처리하는 코드를 만들었을 때, B에서도 새로 짤 필요 없이 함수를 이용하면 상호 적용 가능하다."
   ]
  },
  {
   "cell_type": "code",
   "execution_count": null,
   "metadata": {},
   "outputs": [],
   "source": [
    "# 8 = 5 + 3 에서 5, 3은 파라미터(parameter), 8은 리턴값(return).\n",
    "# 입력받아서 처리하도록 주는 방식은 연산자나 함수나 같다"
   ]
  },
  {
   "cell_type": "code",
   "execution_count": null,
   "metadata": {},
   "outputs": [],
   "source": [
    "# 예를 들어 test함수라는 걸 만들었을 때 실행하는 것은 파이썬 실행환경이다.\n",
    "# 따라서 test 함수를 파이썬 실행환경에 등록하는 과정이 필요하다. 그것까지가 함수를 정의하는 것"
   ]
  },
  {
   "cell_type": "code",
   "execution_count": 3,
   "metadata": {},
   "outputs": [
    {
     "ename": "NameError",
     "evalue": "name 'random' is not defined",
     "output_type": "error",
     "traceback": [
      "\u001b[1;31m---------------------------------------------------------------------------\u001b[0m",
      "\u001b[1;31mNameError\u001b[0m                                 Traceback (most recent call last)",
      "Cell \u001b[1;32mIn[3], line 1\u001b[0m\n\u001b[1;32m----> 1\u001b[0m \u001b[43mrandom\u001b[49m\u001b[38;5;241m.\u001b[39mrandint(\u001b[38;5;241m1\u001b[39m, \u001b[38;5;241m10\u001b[39m)\n",
      "\u001b[1;31mNameError\u001b[0m: name 'random' is not defined"
     ]
    }
   ],
   "source": [
    "random.randint(1, 10) # 이렇게 random처럼 마구잡이로 실행하면 에러가 난다"
   ]
  },
  {
   "cell_type": "code",
   "execution_count": 4,
   "metadata": {},
   "outputs": [
    {
     "data": {
      "text/plain": [
       "2"
      ]
     },
     "execution_count": 4,
     "metadata": {},
     "output_type": "execute_result"
    }
   ],
   "source": [
    "import random\n",
    "random.randint(1, 10)"
   ]
  },
  {
   "cell_type": "markdown",
   "metadata": {
    "slideshow": {
     "slide_type": "slide"
    }
   },
   "source": [
    "## 함수 만들기\n",
    "- 함수의 정의\n",
    "    - 새로운 함수를 만드는 것을 함수의 정의라고 한다.\n",
    "    - 함수를 구현하고 그것을 파이썬 실행환경에 새로운 기능으로 등록하는 과정을 말한다."
   ]
  },
  {
   "cell_type": "markdown",
   "metadata": {
    "slideshow": {
     "slide_type": "fragment"
    }
   },
   "source": [
    "- 함수 구현\n",
    "    - 함수의 선언부와 구현부로 나누어진다\n",
    "        - 함수의 선언부(Header) : 함수의 이름과 입력값을 받을 변수(Parameter, 매개변수)를 지정한다.\n",
    "        - 함수의 구현부(Body) : 함수가 호출 되었을 때 실행할 실행문들을 순서대로 작성한다."
   ]
  },
  {
   "cell_type": "markdown",
   "metadata": {
    "slideshow": {
     "slide_type": "fragment"
    }
   },
   "source": [
    "   \n",
    "``` python\n",
    "def 함수이름( [변수, 변수, ..]):  # 선언 부(Header)\n",
    "    # 구현 부(body)\n",
    "    실행구문1\n",
    "    실행구문2\n",
    "    실행구문3\n",
    "    …\n",
    "    [return [결과값]]\n",
    "```\n",
    "- 함수 선언 마지막에는 `:` 을 넣어 구현부와 구분한다.\n",
    "- Parameter(매개변수)는 argument(호출하는 곳에서 전달하는 함수의 입력값)를 받기 위한 변수로 0개 이상 선언할 수 있다.\n",
    "- 함수의 실행구문은 코드블록으로 들여쓰기로 블록을 묶어준다. \n",
    "    - 들여쓰기는 보통 공백 4칸을 사용한다.\n",
    "- 함수의 처리 결과값이 있을 경우 **return 구문**을 넣고 없을 경우 return은 생략할 수 있다. 생략하게 되면 그 때는 None\n",
    "- **함수이름 관례**\n",
    "    - 함수이름은 보통 동사형으로 만든다.\n",
    "    - 모두 소문자로 하고 여러단어로 구성할 경우 각 단어들을 `_`로 연결한다. (변수와 동일)"
   ]
  },
  {
   "cell_type": "code",
   "execution_count": 6,
   "metadata": {
    "slideshow": {
     "slide_type": "fragment"
    }
   },
   "outputs": [],
   "source": [
    "# 함수 정의: 1. 함수 구현 2. 구현된 함수를 실행=> 파이썬 실행환경에 등록(Loading)\n",
    "def greeting(): # 함수 선언부(header) - 이름: greeting, parameter: 없음\n",
    "    # 구현부(body) => 들여쓰기로 블럭설정.\n",
    "    print(\"안녕하세요\")\n",
    "    print(\"반갑습니다.\")\n",
    "    # return이 없음 => 마지막에 return None이 생략\n",
    "    # 이것을 실행하면 파이썬 실행환경에 등록이 된다"
   ]
  },
  {
   "cell_type": "code",
   "execution_count": 7,
   "metadata": {
    "slideshow": {
     "slide_type": "fragment"
    }
   },
   "outputs": [
    {
     "name": "stdout",
     "output_type": "stream",
     "text": [
      "안녕하세요\n",
      "반갑습니다.\n"
     ]
    }
   ],
   "source": [
    "# 함수 호출 - []: 선택사항.\n",
    "# [함수반환값을 저장할 변수 = ] 함수이름([argument들])\n",
    "\n",
    "greeting()"
   ]
  },
  {
   "cell_type": "code",
   "execution_count": 8,
   "metadata": {},
   "outputs": [
    {
     "name": "stdout",
     "output_type": "stream",
     "text": [
      "이름: 홍길동\n",
      "안녕하세요\n",
      "반갑습니다.\n"
     ]
    }
   ],
   "source": [
    "print(\"이름: 홍길동\")\n",
    "greeting()"
   ]
  },
  {
   "cell_type": "code",
   "execution_count": 9,
   "metadata": {},
   "outputs": [],
   "source": [
    "# parameter가 있는 함수, 위에서 했던 예제보다 일반화해주는 것.\n",
    "def greeting2(name): # worker, 이름을 받아서 일하는 애\n",
    "    print(f\"{name}님 안녕하세요\")\n",
    "    print('반갑습니다')"
   ]
  },
  {
   "cell_type": "code",
   "execution_count": 10,
   "metadata": {},
   "outputs": [
    {
     "ename": "TypeError",
     "evalue": "greeting2() missing 1 required positional argument: 'name'",
     "output_type": "error",
     "traceback": [
      "\u001b[1;31m---------------------------------------------------------------------------\u001b[0m",
      "\u001b[1;31mTypeError\u001b[0m                                 Traceback (most recent call last)",
      "Cell \u001b[1;32mIn[10], line 2\u001b[0m\n\u001b[0;32m      1\u001b[0m \u001b[38;5;66;03m# greeting2() 호출\u001b[39;00m\n\u001b[1;32m----> 2\u001b[0m \u001b[43mgreeting2\u001b[49m\u001b[43m(\u001b[49m\u001b[43m)\u001b[49m\n",
      "\u001b[1;31mTypeError\u001b[0m: greeting2() missing 1 required positional argument: 'name'"
     ]
    }
   ],
   "source": [
    "# greeting2() 호출\n",
    "greeting2() # 선언되었던 name이 없으면 실행 불가"
   ]
  },
  {
   "cell_type": "code",
   "execution_count": 11,
   "metadata": {},
   "outputs": [
    {
     "name": "stdout",
     "output_type": "stream",
     "text": [
      "박영희님 안녕하세요\n",
      "반갑습니다\n"
     ]
    }
   ],
   "source": [
    "# greeting2() 호출\n",
    "greeting2(\"박영희\") # caller\n",
    "# \"박영희\" = 대입=> name\n",
    "# \"박영희\": argument\n",
    "# name: parameter"
   ]
  },
  {
   "cell_type": "code",
   "execution_count": 12,
   "metadata": {},
   "outputs": [
    {
     "name": "stdout",
     "output_type": "stream",
     "text": [
      "홍길동님 안녕하세요\n",
      "반갑습니다\n"
     ]
    }
   ],
   "source": [
    "greeting2(\"홍길동\")"
   ]
  },
  {
   "cell_type": "code",
   "execution_count": 13,
   "metadata": {},
   "outputs": [],
   "source": [
    "# greeting3() 함수 정의. 이름, 나이, 주소를 받아서 \"주소에 사는 나이세의 이름님 안녕하세요,\" \"반갑습니다\"\n",
    "\n",
    "def greeting3(name, age, address):\n",
    "    print(f'{address}에 사는 {age}세의 {name}님 안녕하세요')\n",
    "    print(\"반갑습니다\")\n",
    "# return None"
   ]
  },
  {
   "cell_type": "code",
   "execution_count": 14,
   "metadata": {},
   "outputs": [
    {
     "name": "stdout",
     "output_type": "stream",
     "text": [
      "경기에 사는 30세의 홍길동님 안녕하세요\n",
      "반갑습니다\n"
     ]
    }
   ],
   "source": [
    "greeting3(\"홍길동\", 30, \"경기\")"
   ]
  },
  {
   "cell_type": "code",
   "execution_count": 15,
   "metadata": {},
   "outputs": [
    {
     "name": "stdout",
     "output_type": "stream",
     "text": [
      "수원에 사는 38세의 유관순님 안녕하세요\n",
      "반갑습니다\n"
     ]
    }
   ],
   "source": [
    "greeting3(\"유관순\", 38, \"수원\")"
   ]
  },
  {
   "cell_type": "code",
   "execution_count": 20,
   "metadata": {},
   "outputs": [],
   "source": [
    "# 같은 이름으로 함수를 정의하면 덮어쓴다\n",
    "def greeting3():\n",
    "    print('안녕')\n",
    "    return"
   ]
  },
  {
   "cell_type": "code",
   "execution_count": 19,
   "metadata": {},
   "outputs": [
    {
     "name": "stdout",
     "output_type": "stream",
     "text": [
      "안녕\n"
     ]
    }
   ],
   "source": [
    "greeting3()"
   ]
  },
  {
   "cell_type": "markdown",
   "metadata": {
    "slideshow": {
     "slide_type": "subslide"
    }
   },
   "source": [
    "### return value(반환값)\n",
    "- 함수가 호출받아 처리한 결과값으로 호출한 곳으로 반환하는 값이다.\n",
    "- 함수 구현부에 return \\[값\\] 구문을 사용해 반환한다.\n",
    "    - **return**\n",
    "        - 함수가 정상적으로 끝났고 호출한곳으로 돌아간다.\n",
    "        - 보통은 함수 구현의 마지막에 넣지만 경우에 따라 중간에 올 수 있다.\n",
    "    - return 반환값\n",
    "        - 호출한 곳으로 값을 가지고 돌아간다. (반환한다)\n",
    "        - 반환값이 없을 경우 None을 반환한다.\n",
    "        - 함수에 return 구문이 없을 경우 마지막에 return None이 실행된다.\n",
    "- 여러개의 값을 return 하는 경우 자료구조로 묶어서 전달해야한다.\n",
    "    - 함수는 한개의 값만 반환할 수 있다. "
   ]
  },
  {
   "cell_type": "code",
   "execution_count": 21,
   "metadata": {
    "slideshow": {
     "slide_type": "fragment"
    }
   },
   "outputs": [
    {
     "name": "stdout",
     "output_type": "stream",
     "text": [
      "10\n"
     ]
    }
   ],
   "source": [
    "print(10)"
   ]
  },
  {
   "cell_type": "code",
   "execution_count": 23,
   "metadata": {
    "slideshow": {
     "slide_type": "fragment"
    }
   },
   "outputs": [
    {
     "name": "stdout",
     "output_type": "stream",
     "text": [
      "10\n",
      "None\n"
     ]
    }
   ],
   "source": [
    "v = print(10) # print10은 10을 찍으라는거니까 찍었고, 그 다음 print(v)는 반환할 게 없으니 none\n",
    "print(v)"
   ]
  },
  {
   "cell_type": "code",
   "execution_count": 24,
   "metadata": {},
   "outputs": [
    {
     "ename": "NameError",
     "evalue": "name 'abc' is not defined",
     "output_type": "error",
     "traceback": [
      "\u001b[1;31m---------------------------------------------------------------------------\u001b[0m",
      "\u001b[1;31mNameError\u001b[0m                                 Traceback (most recent call last)",
      "Cell \u001b[1;32mIn[24], line 1\u001b[0m\n\u001b[1;32m----> 1\u001b[0m v \u001b[38;5;241m=\u001b[39m \u001b[43mabc\u001b[49m()\n",
      "\u001b[1;31mNameError\u001b[0m: name 'abc' is not defined"
     ]
    }
   ],
   "source": [
    "v = abc()\n",
    "# 이 함수가 return이 있는지 없는지 확인해야 된다면 if와 elif, else 등을 이용해 확인"
   ]
  },
  {
   "cell_type": "code",
   "execution_count": null,
   "metadata": {},
   "outputs": [],
   "source": [
    "def f(x):\n",
    "    ...\n",
    "    ...\n",
    "    ...\n",
    "    if 끝낼조건:\n",
    "        return v\n",
    "    ...\n",
    "    ...\n",
    "    return None"
   ]
  },
  {
   "cell_type": "code",
   "execution_count": 37,
   "metadata": {},
   "outputs": [],
   "source": [
    "def greeting4(name):\n",
    "    # 인사말을 생성\n",
    "    txt = f'{name}님 안녕하세요. \\n 반갑습니다'\n",
    "    return txt # caller(호출한 곳)로 변수 txt의 값을 가지고 돌아가라."
   ]
  },
  {
   "cell_type": "code",
   "execution_count": 38,
   "metadata": {},
   "outputs": [
    {
     "name": "stdout",
     "output_type": "stream",
     "text": [
      "홍진호님 안녕하세요. \n",
      " 반갑습니다\n",
      "홍진호님 안녕하세요. \n",
      " 반갑습니다 파일에 저장한다\n"
     ]
    }
   ],
   "source": [
    "value = greeting4(\"홍진호\")\n",
    "print(value)\n",
    "print(value, \"파일에 저장한다\")"
   ]
  },
  {
   "cell_type": "code",
   "execution_count": 39,
   "metadata": {},
   "outputs": [],
   "source": [
    "# 2개의 피연산자를 받아서 +, -, *, / 한 결과를 반환 (반환값이 4개)\n",
    "def calculate(num1, num2):\n",
    "    r1 = num1 + num2\n",
    "    r2 = num1 - num2\n",
    "    r3 = num1 * num2\n",
    "    r4 = num1 // num2\n",
    "    \n",
    "    return r1, r2, r3, r4 # Tuple로 묶어서 반환\n",
    "\n",
    "# 반환값이 여러개일 때 자료구조들을 이용해 묶어서 반환\n",
    "# 반환값은 한개 값만 가능"
   ]
  },
  {
   "cell_type": "code",
   "execution_count": 40,
   "metadata": {},
   "outputs": [
    {
     "name": "stdout",
     "output_type": "stream",
     "text": [
      "<class 'tuple'>\n"
     ]
    },
    {
     "data": {
      "text/plain": [
       "(12, 8, 20, 5)"
      ]
     },
     "execution_count": 40,
     "metadata": {},
     "output_type": "execute_result"
    }
   ],
   "source": [
    "result = calculate(10, 2)\n",
    "print(type(result))\n",
    "result"
   ]
  },
  {
   "cell_type": "code",
   "execution_count": 45,
   "metadata": {},
   "outputs": [
    {
     "name": "stdout",
     "output_type": "stream",
     "text": [
      "150 50 5000 2\n"
     ]
    }
   ],
   "source": [
    "rs1, rs2, rs3, rs4 = calculate(100, 50) # 사칙연산의 결과를 튜플대입으로 개별변수에 따로 저장\n",
    "print(rs1, rs2, rs3, rs4)"
   ]
  },
  {
   "cell_type": "markdown",
   "metadata": {
    "slideshow": {
     "slide_type": "slide"
    }
   },
   "source": [
    "## Parameter (매개변수)\n",
    " \n",
    "### 기본값이 있는 Parameter\n",
    "- 매개변수에 값을 대입하는 구문을 작성하면 호출할 때 argument 가 넘어오지 않으면 대입해놓은 기본값을 사용한다.\n",
    "- 함수 정의시 기본값 없는 매개변수, 있는 매개변수를 같이 선언할 수 있다.\n",
    "    - **이때 기본값 없는 매개변수들을 선언하고 그 다음에 기본값 있는 매개변수들을 선언한다.** "
   ]
  },
  {
   "cell_type": "code",
   "execution_count": 46,
   "metadata": {
    "slideshow": {
     "slide_type": "fragment"
    }
   },
   "outputs": [],
   "source": [
    "def print_info(name):\n",
    "    print(f'이름: {name}')"
   ]
  },
  {
   "cell_type": "code",
   "execution_count": 48,
   "metadata": {},
   "outputs": [
    {
     "name": "stdout",
     "output_type": "stream",
     "text": [
      "이름: 김춘추\n"
     ]
    }
   ],
   "source": [
    "print_info(\"김춘추\")"
   ]
  },
  {
   "cell_type": "code",
   "execution_count": 49,
   "metadata": {},
   "outputs": [
    {
     "ename": "TypeError",
     "evalue": "print_info() missing 1 required positional argument: 'name'",
     "output_type": "error",
     "traceback": [
      "\u001b[1;31m---------------------------------------------------------------------------\u001b[0m",
      "\u001b[1;31mTypeError\u001b[0m                                 Traceback (most recent call last)",
      "Cell \u001b[1;32mIn[49], line 1\u001b[0m\n\u001b[1;32m----> 1\u001b[0m \u001b[43mprint_info\u001b[49m\u001b[43m(\u001b[49m\u001b[43m)\u001b[49m\n",
      "\u001b[1;31mTypeError\u001b[0m: print_info() missing 1 required positional argument: 'name'"
     ]
    }
   ],
   "source": [
    "print_info()"
   ]
  },
  {
   "cell_type": "code",
   "execution_count": 50,
   "metadata": {},
   "outputs": [],
   "source": [
    "def print_info2(name=None):\n",
    "    print(f'Name: {name}')"
   ]
  },
  {
   "cell_type": "code",
   "execution_count": 51,
   "metadata": {},
   "outputs": [
    {
     "name": "stdout",
     "output_type": "stream",
     "text": [
      "이름: 이순신\n"
     ]
    }
   ],
   "source": [
    "print_info(\"이순신\")"
   ]
  },
  {
   "cell_type": "code",
   "execution_count": 53,
   "metadata": {},
   "outputs": [
    {
     "name": "stdout",
     "output_type": "stream",
     "text": [
      "Name: None\n"
     ]
    }
   ],
   "source": [
    "print_info2()"
   ]
  },
  {
   "cell_type": "code",
   "execution_count": 57,
   "metadata": {},
   "outputs": [],
   "source": [
    "def print_info2(name=None):\n",
    "    if name:\n",
    "        print(f'Name: {name}')\n",
    "    else:\n",
    "        print('이름을 입력하여 주세요')"
   ]
  },
  {
   "cell_type": "code",
   "execution_count": 58,
   "metadata": {},
   "outputs": [
    {
     "name": "stdout",
     "output_type": "stream",
     "text": [
      "이름을 입력하여 주세요\n"
     ]
    }
   ],
   "source": [
    "print_info2()"
   ]
  },
  {
   "cell_type": "code",
   "execution_count": null,
   "metadata": {},
   "outputs": [],
   "source": [
    "# 기본값 없는 애들은 앞쪽으로, 기본값 있는 애들은 뒤쪽으로"
   ]
  },
  {
   "cell_type": "code",
   "execution_count": 59,
   "metadata": {},
   "outputs": [],
   "source": [
    "# name, age, address: 기본값이 없는 parameter => 호출하는 곳에서 반드시 값을 전달 받아야한다.\n",
    "# email: 기본값이 있는 parameter => 호출하는 곳에서 전달받은 값이 없으면 대입한 None을 함수 내에서 값으로 사용\n",
    "def print_info3(name, age, address, email=None):\n",
    "    print(name, age, address, email)"
   ]
  },
  {
   "cell_type": "code",
   "execution_count": 60,
   "metadata": {},
   "outputs": [
    {
     "name": "stdout",
     "output_type": "stream",
     "text": [
      "김영희 28 안양 None\n"
     ]
    }
   ],
   "source": [
    "print_info3(\"김영희\", 28, \"안양\")"
   ]
  },
  {
   "cell_type": "code",
   "execution_count": 62,
   "metadata": {},
   "outputs": [
    {
     "name": "stdout",
     "output_type": "stream",
     "text": [
      "이승기 35 양양 wim@gamil.com\n"
     ]
    }
   ],
   "source": [
    "print_info3(\"이승기\", 35, \"양양\", \"wim@gamil.com\")"
   ]
  },
  {
   "cell_type": "code",
   "execution_count": 63,
   "metadata": {},
   "outputs": [
    {
     "ename": "TypeError",
     "evalue": "print_info3() missing 2 required positional arguments: 'age' and 'address'",
     "output_type": "error",
     "traceback": [
      "\u001b[1;31m---------------------------------------------------------------------------\u001b[0m",
      "\u001b[1;31mTypeError\u001b[0m                                 Traceback (most recent call last)",
      "Cell \u001b[1;32mIn[63], line 1\u001b[0m\n\u001b[1;32m----> 1\u001b[0m \u001b[43mprint_info3\u001b[49m\u001b[43m(\u001b[49m\u001b[38;5;124;43m\"\u001b[39;49m\u001b[38;5;124;43m최호선\u001b[39;49m\u001b[38;5;124;43m\"\u001b[39;49m\u001b[43m)\u001b[49m\n",
      "\u001b[1;31mTypeError\u001b[0m: print_info3() missing 2 required positional arguments: 'age' and 'address'"
     ]
    }
   ],
   "source": [
    "print_info3(\"최호선\") # 기본값없는 paramter에 전달받는 값도 없으면 에러"
   ]
  },
  {
   "cell_type": "code",
   "execution_count": null,
   "metadata": {},
   "outputs": [],
   "source": [
    "# def print_info4(name, age=18, address, email=None): => 이대로 실행하면 에러, 기본값 있으면 뒤쪽으로\n",
    "def print_info4(name, address, age=18, email=None):\n",
    "    print(name, age, address, email)"
   ]
  },
  {
   "cell_type": "markdown",
   "metadata": {
    "slideshow": {
     "slide_type": "subslide"
    }
   },
   "source": [
    "### Positional argument와 Keyword argument \n",
    "- Argument는 함수/메소드를 호출할 때 전달하는 입력값을 말한다.\n",
    "    - Argument는 전달하는 값이고 Parameter는 그 값을 저장하는 변수\n",
    "- Positional argument\n",
    "    -  함수 호출 할때 argument(전달인자)를 Parameter  순서에 맞춰 값을 넣어서 호출.\n",
    "- keyword  argument \n",
    "    - 함수 호출할 때 argument를 `Parameter변수명 = 전달할값` 형식으로 선언해서 어떤 parameter에 어떤 값을 전달할 것인지 지정해서 호출.\n",
    "    - 순서와 상관없이 호출하는 것이 가능.\n",
    "    - parameter가 많고 대부분 기본값이 있는 함수 호출 할 때 뒤 쪽에 선언된 parameter에만 값을 전달하고 싶을 경우 유용하다."
   ]
  },
  {
   "cell_type": "code",
   "execution_count": 64,
   "metadata": {
    "slideshow": {
     "slide_type": "fragment"
    }
   },
   "outputs": [],
   "source": [
    "def print_info3(name, age, address, email=None):\n",
    "    print(name, age, address, email)"
   ]
  },
  {
   "cell_type": "code",
   "execution_count": 65,
   "metadata": {},
   "outputs": [
    {
     "name": "stdout",
     "output_type": "stream",
     "text": [
      "노근호 33 천안 you@local.net\n"
     ]
    }
   ],
   "source": [
    "# postional argument\n",
    "print_info3(\"노근호\", 33, \"천안\", \"you@local.net\")"
   ]
  },
  {
   "cell_type": "code",
   "execution_count": 66,
   "metadata": {},
   "outputs": [
    {
     "name": "stdout",
     "output_type": "stream",
     "text": [
      "이윤희 30 인천 youth@local.net\n"
     ]
    }
   ],
   "source": [
    "# keyword argument (파라미터 변수명=argument값)\n",
    "# 순서를 맞추지 않아도 결과가 나오기는 하지만 가급적이면 순서를 맞추는 것이 좋다\n",
    "print_info3(age=30, email='youth@local.net', name=\"이윤희\", address=\"인천\")"
   ]
  },
  {
   "cell_type": "code",
   "execution_count": 67,
   "metadata": {},
   "outputs": [
    {
     "name": "stdout",
     "output_type": "stream",
     "text": [
      "송민경 41 강북 abb@abc.com\n"
     ]
    }
   ],
   "source": [
    "print_info3(\"송민경\", 41, address=\"강북\", email='abb@abc.com')"
   ]
  },
  {
   "cell_type": "code",
   "execution_count": 68,
   "metadata": {},
   "outputs": [],
   "source": [
    "# 모든 파라미터가 기본값이 있는 함수\n",
    "def print_info5(name=None, age=22, address=None, email=None, tel=None, weight=0.0, tall=0.1):\n",
    "    pass"
   ]
  },
  {
   "cell_type": "code",
   "execution_count": 69,
   "metadata": {},
   "outputs": [],
   "source": [
    "# print_info5(182.4) # 이렇게만 치면 괄호 안의 값은 name으로 들어간다\n",
    "\n",
    "# 따라서 print_info5(None, 22, None, None, None, 0.0, 182.4) 이런식으로 쳐야 함"
   ]
  },
  {
   "cell_type": "code",
   "execution_count": null,
   "metadata": {},
   "outputs": [],
   "source": [
    "# 위의 방식은 너무 불편하니까 콕 찝어서 넣어준다\n",
    "# print_info5(tall=182.4)\n",
    "# print_info5(age=22, tall=188.2)"
   ]
  },
  {
   "cell_type": "code",
   "execution_count": 70,
   "metadata": {},
   "outputs": [],
   "source": [
    "import pandas"
   ]
  },
  {
   "cell_type": "code",
   "execution_count": 71,
   "metadata": {
    "collapsed": true
   },
   "outputs": [
    {
     "name": "stdout",
     "output_type": "stream",
     "text": [
      "Help on function read_csv in module pandas.io.parsers.readers:\n",
      "\n",
      "read_csv(filepath_or_buffer: 'FilePath | ReadCsvBuffer[bytes] | ReadCsvBuffer[str]', *, sep: 'str | None | lib.NoDefault' = <no_default>, delimiter: 'str | None | lib.NoDefault' = None, header: \"int | Sequence[int] | None | Literal['infer']\" = 'infer', names: 'Sequence[Hashable] | None | lib.NoDefault' = <no_default>, index_col: 'IndexLabel | Literal[False] | None' = None, usecols=None, squeeze: 'bool | None' = None, prefix: 'str | lib.NoDefault' = <no_default>, mangle_dupe_cols: 'bool' = True, dtype: 'DtypeArg | None' = None, engine: 'CSVEngine | None' = None, converters=None, true_values=None, false_values=None, skipinitialspace: 'bool' = False, skiprows=None, skipfooter: 'int' = 0, nrows: 'int | None' = None, na_values=None, keep_default_na: 'bool' = True, na_filter: 'bool' = True, verbose: 'bool' = False, skip_blank_lines: 'bool' = True, parse_dates=None, infer_datetime_format: 'bool' = False, keep_date_col: 'bool' = False, date_parser=None, dayfirst: 'bool' = False, cache_dates: 'bool' = True, iterator: 'bool' = False, chunksize: 'int | None' = None, compression: 'CompressionOptions' = 'infer', thousands: 'str | None' = None, decimal: 'str' = '.', lineterminator: 'str | None' = None, quotechar: 'str' = '\"', quoting: 'int' = 0, doublequote: 'bool' = True, escapechar: 'str | None' = None, comment: 'str | None' = None, encoding: 'str | None' = None, encoding_errors: 'str | None' = 'strict', dialect: 'str | csv.Dialect | None' = None, error_bad_lines: 'bool | None' = None, warn_bad_lines: 'bool | None' = None, on_bad_lines=None, delim_whitespace: 'bool' = False, low_memory=True, memory_map: 'bool' = False, float_precision: \"Literal['high', 'legacy'] | None\" = None, storage_options: 'StorageOptions' = None) -> 'DataFrame | TextFileReader'\n",
      "    Read a comma-separated values (csv) file into DataFrame.\n",
      "    \n",
      "    Also supports optionally iterating or breaking of the file\n",
      "    into chunks.\n",
      "    \n",
      "    Additional help can be found in the online docs for\n",
      "    `IO Tools <https://pandas.pydata.org/pandas-docs/stable/user_guide/io.html>`_.\n",
      "    \n",
      "    Parameters\n",
      "    ----------\n",
      "    filepath_or_buffer : str, path object or file-like object\n",
      "        Any valid string path is acceptable. The string could be a URL. Valid\n",
      "        URL schemes include http, ftp, s3, gs, and file. For file URLs, a host is\n",
      "        expected. A local file could be: file://localhost/path/to/table.csv.\n",
      "    \n",
      "        If you want to pass in a path object, pandas accepts any ``os.PathLike``.\n",
      "    \n",
      "        By file-like object, we refer to objects with a ``read()`` method, such as\n",
      "        a file handle (e.g. via builtin ``open`` function) or ``StringIO``.\n",
      "    sep : str, default ','\n",
      "        Delimiter to use. If sep is None, the C engine cannot automatically detect\n",
      "        the separator, but the Python parsing engine can, meaning the latter will\n",
      "        be used and automatically detect the separator by Python's builtin sniffer\n",
      "        tool, ``csv.Sniffer``. In addition, separators longer than 1 character and\n",
      "        different from ``'\\s+'`` will be interpreted as regular expressions and\n",
      "        will also force the use of the Python parsing engine. Note that regex\n",
      "        delimiters are prone to ignoring quoted data. Regex example: ``'\\r\\t'``.\n",
      "    delimiter : str, default ``None``\n",
      "        Alias for sep.\n",
      "    header : int, list of int, None, default 'infer'\n",
      "        Row number(s) to use as the column names, and the start of the\n",
      "        data.  Default behavior is to infer the column names: if no names\n",
      "        are passed the behavior is identical to ``header=0`` and column\n",
      "        names are inferred from the first line of the file, if column\n",
      "        names are passed explicitly then the behavior is identical to\n",
      "        ``header=None``. Explicitly pass ``header=0`` to be able to\n",
      "        replace existing names. The header can be a list of integers that\n",
      "        specify row locations for a multi-index on the columns\n",
      "        e.g. [0,1,3]. Intervening rows that are not specified will be\n",
      "        skipped (e.g. 2 in this example is skipped). Note that this\n",
      "        parameter ignores commented lines and empty lines if\n",
      "        ``skip_blank_lines=True``, so ``header=0`` denotes the first line of\n",
      "        data rather than the first line of the file.\n",
      "    names : array-like, optional\n",
      "        List of column names to use. If the file contains a header row,\n",
      "        then you should explicitly pass ``header=0`` to override the column names.\n",
      "        Duplicates in this list are not allowed.\n",
      "    index_col : int, str, sequence of int / str, or False, optional, default ``None``\n",
      "      Column(s) to use as the row labels of the ``DataFrame``, either given as\n",
      "      string name or column index. If a sequence of int / str is given, a\n",
      "      MultiIndex is used.\n",
      "    \n",
      "      Note: ``index_col=False`` can be used to force pandas to *not* use the first\n",
      "      column as the index, e.g. when you have a malformed file with delimiters at\n",
      "      the end of each line.\n",
      "    usecols : list-like or callable, optional\n",
      "        Return a subset of the columns. If list-like, all elements must either\n",
      "        be positional (i.e. integer indices into the document columns) or strings\n",
      "        that correspond to column names provided either by the user in `names` or\n",
      "        inferred from the document header row(s). If ``names`` are given, the document\n",
      "        header row(s) are not taken into account. For example, a valid list-like\n",
      "        `usecols` parameter would be ``[0, 1, 2]`` or ``['foo', 'bar', 'baz']``.\n",
      "        Element order is ignored, so ``usecols=[0, 1]`` is the same as ``[1, 0]``.\n",
      "        To instantiate a DataFrame from ``data`` with element order preserved use\n",
      "        ``pd.read_csv(data, usecols=['foo', 'bar'])[['foo', 'bar']]`` for columns\n",
      "        in ``['foo', 'bar']`` order or\n",
      "        ``pd.read_csv(data, usecols=['foo', 'bar'])[['bar', 'foo']]``\n",
      "        for ``['bar', 'foo']`` order.\n",
      "    \n",
      "        If callable, the callable function will be evaluated against the column\n",
      "        names, returning names where the callable function evaluates to True. An\n",
      "        example of a valid callable argument would be ``lambda x: x.upper() in\n",
      "        ['AAA', 'BBB', 'DDD']``. Using this parameter results in much faster\n",
      "        parsing time and lower memory usage.\n",
      "    squeeze : bool, default False\n",
      "        If the parsed data only contains one column then return a Series.\n",
      "    \n",
      "        .. deprecated:: 1.4.0\n",
      "            Append ``.squeeze(\"columns\")`` to the call to ``read_csv`` to squeeze\n",
      "            the data.\n",
      "    prefix : str, optional\n",
      "        Prefix to add to column numbers when no header, e.g. 'X' for X0, X1, ...\n",
      "    \n",
      "        .. deprecated:: 1.4.0\n",
      "           Use a list comprehension on the DataFrame's columns after calling ``read_csv``.\n",
      "    mangle_dupe_cols : bool, default True\n",
      "        Duplicate columns will be specified as 'X', 'X.1', ...'X.N', rather than\n",
      "        'X'...'X'. Passing in False will cause data to be overwritten if there\n",
      "        are duplicate names in the columns.\n",
      "    \n",
      "        .. deprecated:: 1.5.0\n",
      "            Not implemented, and a new argument to specify the pattern for the\n",
      "            names of duplicated columns will be added instead\n",
      "    dtype : Type name or dict of column -> type, optional\n",
      "        Data type for data or columns. E.g. {'a': np.float64, 'b': np.int32,\n",
      "        'c': 'Int64'}\n",
      "        Use `str` or `object` together with suitable `na_values` settings\n",
      "        to preserve and not interpret dtype.\n",
      "        If converters are specified, they will be applied INSTEAD\n",
      "        of dtype conversion.\n",
      "    \n",
      "        .. versionadded:: 1.5.0\n",
      "    \n",
      "            Support for defaultdict was added. Specify a defaultdict as input where\n",
      "            the default determines the dtype of the columns which are not explicitly\n",
      "            listed.\n",
      "    engine : {'c', 'python', 'pyarrow'}, optional\n",
      "        Parser engine to use. The C and pyarrow engines are faster, while the python engine\n",
      "        is currently more feature-complete. Multithreading is currently only supported by\n",
      "        the pyarrow engine.\n",
      "    \n",
      "        .. versionadded:: 1.4.0\n",
      "    \n",
      "            The \"pyarrow\" engine was added as an *experimental* engine, and some features\n",
      "            are unsupported, or may not work correctly, with this engine.\n",
      "    converters : dict, optional\n",
      "        Dict of functions for converting values in certain columns. Keys can either\n",
      "        be integers or column labels.\n",
      "    true_values : list, optional\n",
      "        Values to consider as True.\n",
      "    false_values : list, optional\n",
      "        Values to consider as False.\n",
      "    skipinitialspace : bool, default False\n",
      "        Skip spaces after delimiter.\n",
      "    skiprows : list-like, int or callable, optional\n",
      "        Line numbers to skip (0-indexed) or number of lines to skip (int)\n",
      "        at the start of the file.\n",
      "    \n",
      "        If callable, the callable function will be evaluated against the row\n",
      "        indices, returning True if the row should be skipped and False otherwise.\n",
      "        An example of a valid callable argument would be ``lambda x: x in [0, 2]``.\n",
      "    skipfooter : int, default 0\n",
      "        Number of lines at bottom of file to skip (Unsupported with engine='c').\n",
      "    nrows : int, optional\n",
      "        Number of rows of file to read. Useful for reading pieces of large files.\n",
      "    na_values : scalar, str, list-like, or dict, optional\n",
      "        Additional strings to recognize as NA/NaN. If dict passed, specific\n",
      "        per-column NA values.  By default the following values are interpreted as\n",
      "        NaN: '', '#N/A', '#N/A N/A', '#NA', '-1.#IND', '-1.#QNAN', '-NaN', '-nan',\n",
      "        '1.#IND', '1.#QNAN', '<NA>', 'N/A', 'NA', 'NULL', 'NaN', 'n/a',\n",
      "        'nan', 'null'.\n",
      "    keep_default_na : bool, default True\n",
      "        Whether or not to include the default NaN values when parsing the data.\n",
      "        Depending on whether `na_values` is passed in, the behavior is as follows:\n",
      "    \n",
      "        * If `keep_default_na` is True, and `na_values` are specified, `na_values`\n",
      "          is appended to the default NaN values used for parsing.\n",
      "        * If `keep_default_na` is True, and `na_values` are not specified, only\n",
      "          the default NaN values are used for parsing.\n",
      "        * If `keep_default_na` is False, and `na_values` are specified, only\n",
      "          the NaN values specified `na_values` are used for parsing.\n",
      "        * If `keep_default_na` is False, and `na_values` are not specified, no\n",
      "          strings will be parsed as NaN.\n",
      "    \n",
      "        Note that if `na_filter` is passed in as False, the `keep_default_na` and\n",
      "        `na_values` parameters will be ignored.\n",
      "    na_filter : bool, default True\n",
      "        Detect missing value markers (empty strings and the value of na_values). In\n",
      "        data without any NAs, passing na_filter=False can improve the performance\n",
      "        of reading a large file.\n",
      "    verbose : bool, default False\n",
      "        Indicate number of NA values placed in non-numeric columns.\n",
      "    skip_blank_lines : bool, default True\n",
      "        If True, skip over blank lines rather than interpreting as NaN values.\n",
      "    parse_dates : bool or list of int or names or list of lists or dict, default False\n",
      "        The behavior is as follows:\n",
      "    \n",
      "        * boolean. If True -> try parsing the index.\n",
      "        * list of int or names. e.g. If [1, 2, 3] -> try parsing columns 1, 2, 3\n",
      "          each as a separate date column.\n",
      "        * list of lists. e.g.  If [[1, 3]] -> combine columns 1 and 3 and parse as\n",
      "          a single date column.\n",
      "        * dict, e.g. {'foo' : [1, 3]} -> parse columns 1, 3 as date and call\n",
      "          result 'foo'\n",
      "    \n",
      "        If a column or index cannot be represented as an array of datetimes,\n",
      "        say because of an unparsable value or a mixture of timezones, the column\n",
      "        or index will be returned unaltered as an object data type. For\n",
      "        non-standard datetime parsing, use ``pd.to_datetime`` after\n",
      "        ``pd.read_csv``. To parse an index or column with a mixture of timezones,\n",
      "        specify ``date_parser`` to be a partially-applied\n",
      "        :func:`pandas.to_datetime` with ``utc=True``. See\n",
      "        :ref:`io.csv.mixed_timezones` for more.\n",
      "    \n",
      "        Note: A fast-path exists for iso8601-formatted dates.\n",
      "    infer_datetime_format : bool, default False\n",
      "        If True and `parse_dates` is enabled, pandas will attempt to infer the\n",
      "        format of the datetime strings in the columns, and if it can be inferred,\n",
      "        switch to a faster method of parsing them. In some cases this can increase\n",
      "        the parsing speed by 5-10x.\n",
      "    keep_date_col : bool, default False\n",
      "        If True and `parse_dates` specifies combining multiple columns then\n",
      "        keep the original columns.\n",
      "    date_parser : function, optional\n",
      "        Function to use for converting a sequence of string columns to an array of\n",
      "        datetime instances. The default uses ``dateutil.parser.parser`` to do the\n",
      "        conversion. Pandas will try to call `date_parser` in three different ways,\n",
      "        advancing to the next if an exception occurs: 1) Pass one or more arrays\n",
      "        (as defined by `parse_dates`) as arguments; 2) concatenate (row-wise) the\n",
      "        string values from the columns defined by `parse_dates` into a single array\n",
      "        and pass that; and 3) call `date_parser` once for each row using one or\n",
      "        more strings (corresponding to the columns defined by `parse_dates`) as\n",
      "        arguments.\n",
      "    dayfirst : bool, default False\n",
      "        DD/MM format dates, international and European format.\n",
      "    cache_dates : bool, default True\n",
      "        If True, use a cache of unique, converted dates to apply the datetime\n",
      "        conversion. May produce significant speed-up when parsing duplicate\n",
      "        date strings, especially ones with timezone offsets.\n",
      "    \n",
      "        .. versionadded:: 0.25.0\n",
      "    iterator : bool, default False\n",
      "        Return TextFileReader object for iteration or getting chunks with\n",
      "        ``get_chunk()``.\n",
      "    \n",
      "        .. versionchanged:: 1.2\n",
      "    \n",
      "           ``TextFileReader`` is a context manager.\n",
      "    chunksize : int, optional\n",
      "        Return TextFileReader object for iteration.\n",
      "        See the `IO Tools docs\n",
      "        <https://pandas.pydata.org/pandas-docs/stable/io.html#io-chunking>`_\n",
      "        for more information on ``iterator`` and ``chunksize``.\n",
      "    \n",
      "        .. versionchanged:: 1.2\n",
      "    \n",
      "           ``TextFileReader`` is a context manager.\n",
      "    compression : str or dict, default 'infer'\n",
      "        For on-the-fly decompression of on-disk data. If 'infer' and 'filepath_or_buffer' is\n",
      "        path-like, then detect compression from the following extensions: '.gz',\n",
      "        '.bz2', '.zip', '.xz', '.zst', '.tar', '.tar.gz', '.tar.xz' or '.tar.bz2'\n",
      "        (otherwise no compression).\n",
      "        If using 'zip' or 'tar', the ZIP file must contain only one data file to be read in.\n",
      "        Set to ``None`` for no decompression.\n",
      "        Can also be a dict with key ``'method'`` set\n",
      "        to one of {``'zip'``, ``'gzip'``, ``'bz2'``, ``'zstd'``, ``'tar'``} and other\n",
      "        key-value pairs are forwarded to\n",
      "        ``zipfile.ZipFile``, ``gzip.GzipFile``,\n",
      "        ``bz2.BZ2File``, ``zstandard.ZstdDecompressor`` or\n",
      "        ``tarfile.TarFile``, respectively.\n",
      "        As an example, the following could be passed for Zstandard decompression using a\n",
      "        custom compression dictionary:\n",
      "        ``compression={'method': 'zstd', 'dict_data': my_compression_dict}``.\n",
      "    \n",
      "            .. versionadded:: 1.5.0\n",
      "                Added support for `.tar` files.\n",
      "    \n",
      "        .. versionchanged:: 1.4.0 Zstandard support.\n",
      "    \n",
      "    thousands : str, optional\n",
      "        Thousands separator.\n",
      "    decimal : str, default '.'\n",
      "        Character to recognize as decimal point (e.g. use ',' for European data).\n",
      "    lineterminator : str (length 1), optional\n",
      "        Character to break file into lines. Only valid with C parser.\n",
      "    quotechar : str (length 1), optional\n",
      "        The character used to denote the start and end of a quoted item. Quoted\n",
      "        items can include the delimiter and it will be ignored.\n",
      "    quoting : int or csv.QUOTE_* instance, default 0\n",
      "        Control field quoting behavior per ``csv.QUOTE_*`` constants. Use one of\n",
      "        QUOTE_MINIMAL (0), QUOTE_ALL (1), QUOTE_NONNUMERIC (2) or QUOTE_NONE (3).\n",
      "    doublequote : bool, default ``True``\n",
      "       When quotechar is specified and quoting is not ``QUOTE_NONE``, indicate\n",
      "       whether or not to interpret two consecutive quotechar elements INSIDE a\n",
      "       field as a single ``quotechar`` element.\n",
      "    escapechar : str (length 1), optional\n",
      "        One-character string used to escape other characters.\n",
      "    comment : str, optional\n",
      "        Indicates remainder of line should not be parsed. If found at the beginning\n",
      "        of a line, the line will be ignored altogether. This parameter must be a\n",
      "        single character. Like empty lines (as long as ``skip_blank_lines=True``),\n",
      "        fully commented lines are ignored by the parameter `header` but not by\n",
      "        `skiprows`. For example, if ``comment='#'``, parsing\n",
      "        ``#empty\\na,b,c\\n1,2,3`` with ``header=0`` will result in 'a,b,c' being\n",
      "        treated as the header.\n",
      "    encoding : str, optional\n",
      "        Encoding to use for UTF when reading/writing (ex. 'utf-8'). `List of Python\n",
      "        standard encodings\n",
      "        <https://docs.python.org/3/library/codecs.html#standard-encodings>`_ .\n",
      "    \n",
      "        .. versionchanged:: 1.2\n",
      "    \n",
      "           When ``encoding`` is ``None``, ``errors=\"replace\"`` is passed to\n",
      "           ``open()``. Otherwise, ``errors=\"strict\"`` is passed to ``open()``.\n",
      "           This behavior was previously only the case for ``engine=\"python\"``.\n",
      "    \n",
      "        .. versionchanged:: 1.3.0\n",
      "    \n",
      "           ``encoding_errors`` is a new argument. ``encoding`` has no longer an\n",
      "           influence on how encoding errors are handled.\n",
      "    \n",
      "    encoding_errors : str, optional, default \"strict\"\n",
      "        How encoding errors are treated. `List of possible values\n",
      "        <https://docs.python.org/3/library/codecs.html#error-handlers>`_ .\n",
      "    \n",
      "        .. versionadded:: 1.3.0\n",
      "    \n",
      "    dialect : str or csv.Dialect, optional\n",
      "        If provided, this parameter will override values (default or not) for the\n",
      "        following parameters: `delimiter`, `doublequote`, `escapechar`,\n",
      "        `skipinitialspace`, `quotechar`, and `quoting`. If it is necessary to\n",
      "        override values, a ParserWarning will be issued. See csv.Dialect\n",
      "        documentation for more details.\n",
      "    error_bad_lines : bool, optional, default ``None``\n",
      "        Lines with too many fields (e.g. a csv line with too many commas) will by\n",
      "        default cause an exception to be raised, and no DataFrame will be returned.\n",
      "        If False, then these \"bad lines\" will be dropped from the DataFrame that is\n",
      "        returned.\n",
      "    \n",
      "        .. deprecated:: 1.3.0\n",
      "           The ``on_bad_lines`` parameter should be used instead to specify behavior upon\n",
      "           encountering a bad line instead.\n",
      "    warn_bad_lines : bool, optional, default ``None``\n",
      "        If error_bad_lines is False, and warn_bad_lines is True, a warning for each\n",
      "        \"bad line\" will be output.\n",
      "    \n",
      "        .. deprecated:: 1.3.0\n",
      "           The ``on_bad_lines`` parameter should be used instead to specify behavior upon\n",
      "           encountering a bad line instead.\n",
      "    on_bad_lines : {'error', 'warn', 'skip'} or callable, default 'error'\n",
      "        Specifies what to do upon encountering a bad line (a line with too many fields).\n",
      "        Allowed values are :\n",
      "    \n",
      "            - 'error', raise an Exception when a bad line is encountered.\n",
      "            - 'warn', raise a warning when a bad line is encountered and skip that line.\n",
      "            - 'skip', skip bad lines without raising or warning when they are encountered.\n",
      "    \n",
      "        .. versionadded:: 1.3.0\n",
      "    \n",
      "        .. versionadded:: 1.4.0\n",
      "    \n",
      "            - callable, function with signature\n",
      "              ``(bad_line: list[str]) -> list[str] | None`` that will process a single\n",
      "              bad line. ``bad_line`` is a list of strings split by the ``sep``.\n",
      "              If the function returns ``None``, the bad line will be ignored.\n",
      "              If the function returns a new list of strings with more elements than\n",
      "              expected, a ``ParserWarning`` will be emitted while dropping extra elements.\n",
      "              Only supported when ``engine=\"python\"``\n",
      "    \n",
      "    delim_whitespace : bool, default False\n",
      "        Specifies whether or not whitespace (e.g. ``' '`` or ``'    '``) will be\n",
      "        used as the sep. Equivalent to setting ``sep='\\s+'``. If this option\n",
      "        is set to True, nothing should be passed in for the ``delimiter``\n",
      "        parameter.\n",
      "    low_memory : bool, default True\n",
      "        Internally process the file in chunks, resulting in lower memory use\n",
      "        while parsing, but possibly mixed type inference.  To ensure no mixed\n",
      "        types either set False, or specify the type with the `dtype` parameter.\n",
      "        Note that the entire file is read into a single DataFrame regardless,\n",
      "        use the `chunksize` or `iterator` parameter to return the data in chunks.\n",
      "        (Only valid with C parser).\n",
      "    memory_map : bool, default False\n",
      "        If a filepath is provided for `filepath_or_buffer`, map the file object\n",
      "        directly onto memory and access the data directly from there. Using this\n",
      "        option can improve performance because there is no longer any I/O overhead.\n",
      "    float_precision : str, optional\n",
      "        Specifies which converter the C engine should use for floating-point\n",
      "        values. The options are ``None`` or 'high' for the ordinary converter,\n",
      "        'legacy' for the original lower precision pandas converter, and\n",
      "        'round_trip' for the round-trip converter.\n",
      "    \n",
      "        .. versionchanged:: 1.2\n",
      "    \n",
      "    storage_options : dict, optional\n",
      "        Extra options that make sense for a particular storage connection, e.g.\n",
      "        host, port, username, password, etc. For HTTP(S) URLs the key-value pairs\n",
      "        are forwarded to ``urllib.request.Request`` as header options. For other\n",
      "        URLs (e.g. starting with \"s3://\", and \"gcs://\") the key-value pairs are\n",
      "        forwarded to ``fsspec.open``. Please see ``fsspec`` and ``urllib`` for more\n",
      "        details, and for more examples on storage options refer `here\n",
      "        <https://pandas.pydata.org/docs/user_guide/io.html?\n",
      "        highlight=storage_options#reading-writing-remote-files>`_.\n",
      "    \n",
      "        .. versionadded:: 1.2\n",
      "    \n",
      "    Returns\n",
      "    -------\n",
      "    DataFrame or TextParser\n",
      "        A comma-separated values (csv) file is returned as two-dimensional\n",
      "        data structure with labeled axes.\n",
      "    \n",
      "    See Also\n",
      "    --------\n",
      "    DataFrame.to_csv : Write DataFrame to a comma-separated values (csv) file.\n",
      "    read_csv : Read a comma-separated values (csv) file into DataFrame.\n",
      "    read_fwf : Read a table of fixed-width formatted lines into DataFrame.\n",
      "    \n",
      "    Examples\n",
      "    --------\n",
      "    >>> pd.read_csv('data.csv')  # doctest: +SKIP\n",
      "\n"
     ]
    }
   ],
   "source": [
    "help(pandas.read_csv)"
   ]
  },
  {
   "cell_type": "code",
   "execution_count": 72,
   "metadata": {},
   "outputs": [],
   "source": [
    "pandas.read_csv?"
   ]
  },
  {
   "cell_type": "markdown",
   "metadata": {
    "slideshow": {
     "slide_type": "subslide"
    }
   },
   "source": [
    "### 가변인자 (Var args) 파라미터\n",
    "- 호출하는 쪽에서 argument로 0 ~ n개의 값을 나열해서 여러개의 값들을 전달하면 **tuple이나 dictionary로 묶어서** 받을 수있도록 선언하는 parameter\n",
    "    - positial argument로 전달하는 것과 keyword argument로 전달되는 값을 받는 두가지 방식이 있다.\n",
    "- \\*변수명: **positional argument**를 개수와 상관없이 하나의 변수로 받을 수 있도록 선언하는 가변인자.\n",
    "    - 전달된 값들은 tuple로 받아서 처리한다.\n",
    "    - 관례적으로 변수명은 \\*args 를 사용한다.\n",
    "- \\*\\*변수명: **keyword argument**를 개수와 상관없이 하나의 변수로 받을 수 있도록 선언하는 가변인자.\n",
    "    - 전달된 값들은 dictionary로 받아서 처리한다.\n",
    "    - 관례적으로 변수명은 \\*\\*kwargs 를 사용한다.\n",
    "- 하나의 함수에 가변인자는 \\* 하나, \\*\\* 두개짜리 각각 한개씩만 선언할 수 있다.\n",
    "- 파라미터 선언순서\n",
    "    1. 기본값이 없는 파라미터\n",
    "    2. 기본값이 있는 파라미터\n",
    "    3. `*args`\n",
    "    4. `**args`"
   ]
  },
  {
   "cell_type": "code",
   "execution_count": 73,
   "metadata": {
    "slideshow": {
     "slide_type": "fragment"
    }
   },
   "outputs": [],
   "source": [
    "def summation(nums): # nums를 리스트, 튜플로 받겠다\n",
    "    # 여러개의 숫자(개수가 정해져 있지 않다)를 받아서 그 숫자들의 총합을 계산 => 반환하는 함수\n",
    "    result = 0\n",
    "    for v in nums:\n",
    "        result += v\n",
    "    return result"
   ]
  },
  {
   "cell_type": "code",
   "execution_count": 74,
   "metadata": {},
   "outputs": [
    {
     "name": "stdout",
     "output_type": "stream",
     "text": [
      "6 106\n"
     ]
    }
   ],
   "source": [
    "v1 = summation([1, 2, 3])\n",
    "v2 = summation([1, 2, 3, 10, 20, 30, 40])\n",
    "print(v1, v2)"
   ]
  },
  {
   "cell_type": "code",
   "execution_count": 78,
   "metadata": {},
   "outputs": [],
   "source": [
    "def summation_2(*nums): # *변수명 -> 가변인자 // 튜플은 어차피 값을 1개로 받기 때문에 개수랑 상관없이 쭉 묶어서 전달해줌\n",
    "    print(type(nums))\n",
    "    result = 0\n",
    "    for v in nums:\n",
    "        result += v\n",
    "    return result"
   ]
  },
  {
   "cell_type": "code",
   "execution_count": 79,
   "metadata": {},
   "outputs": [
    {
     "name": "stdout",
     "output_type": "stream",
     "text": [
      "<class 'tuple'>\n",
      "<class 'tuple'>\n",
      "<class 'tuple'>\n",
      "<class 'tuple'>\n",
      "0 6 28 78\n"
     ]
    }
   ],
   "source": [
    "v1 = summation_2()\n",
    "v2 = summation_2(1, 2, 3)\n",
    "v3 = summation_2(1, 2, 3, 4, 5, 6, 7)\n",
    "v4 = summation_2(1, 2, 3, 4, 5, 6, 7, 8, 9, 10, 11, 12)\n",
    "\n",
    "print(v1, v2, v3, v4)"
   ]
  },
  {
   "cell_type": "code",
   "execution_count": 80,
   "metadata": {},
   "outputs": [
    {
     "name": "stdout",
     "output_type": "stream",
     "text": [
      "<class 'tuple'>\n"
     ]
    },
    {
     "ename": "TypeError",
     "evalue": "unsupported operand type(s) for +=: 'int' and 'list'",
     "output_type": "error",
     "traceback": [
      "\u001b[1;31m---------------------------------------------------------------------------\u001b[0m",
      "\u001b[1;31mTypeError\u001b[0m                                 Traceback (most recent call last)",
      "Cell \u001b[1;32mIn[80], line 2\u001b[0m\n\u001b[0;32m      1\u001b[0m lst \u001b[38;5;241m=\u001b[39m [\u001b[38;5;241m1\u001b[39m, \u001b[38;5;241m2\u001b[39m, \u001b[38;5;241m3\u001b[39m, \u001b[38;5;241m4\u001b[39m, \u001b[38;5;241m5\u001b[39m] \u001b[38;5;66;03m# 원래 튜플로 값을 받아서 전달해야 하는데 lst는 리스트라서 에러 발생\u001b[39;00m\n\u001b[1;32m----> 2\u001b[0m \u001b[43msummation_2\u001b[49m\u001b[43m(\u001b[49m\u001b[43mlst\u001b[49m\u001b[43m)\u001b[49m\n",
      "Cell \u001b[1;32mIn[78], line 5\u001b[0m, in \u001b[0;36msummation_2\u001b[1;34m(*nums)\u001b[0m\n\u001b[0;32m      3\u001b[0m result \u001b[38;5;241m=\u001b[39m \u001b[38;5;241m0\u001b[39m\n\u001b[0;32m      4\u001b[0m \u001b[38;5;28;01mfor\u001b[39;00m v \u001b[38;5;129;01min\u001b[39;00m nums:\n\u001b[1;32m----> 5\u001b[0m     result \u001b[38;5;241m+\u001b[39m\u001b[38;5;241m=\u001b[39m v\n\u001b[0;32m      6\u001b[0m \u001b[38;5;28;01mreturn\u001b[39;00m result\n",
      "\u001b[1;31mTypeError\u001b[0m: unsupported operand type(s) for +=: 'int' and 'list'"
     ]
    }
   ],
   "source": [
    "lst = [1, 2, 3, 4, 5] # 원래 튜플로 값을 받아서 전달해야 하는데 lst는 리스트라서 에러 발생\n",
    "summation_2(lst)"
   ]
  },
  {
   "cell_type": "code",
   "execution_count": 81,
   "metadata": {},
   "outputs": [
    {
     "name": "stdout",
     "output_type": "stream",
     "text": [
      "<class 'tuple'>\n"
     ]
    },
    {
     "data": {
      "text/plain": [
       "15"
      ]
     },
     "execution_count": 81,
     "metadata": {},
     "output_type": "execute_result"
    }
   ],
   "source": [
    "lst = [1, 2, 3, 4, 5]\n",
    "summation_2(*lst) # 리스트/튜플의 원소값들을 풀어서 가변인자에 전달해라\n",
    "# *리스트, *튜플, *set => 가변인자 파라미터에 리스트/튜플/set의 원소들을 풀어서 전달할 때만 사용가능함"
   ]
  },
  {
   "cell_type": "code",
   "execution_count": 82,
   "metadata": {},
   "outputs": [],
   "source": [
    "def print_info(**info): # keyword 인자를 가변인자로 선언 => dictionary로 받는다\n",
    "    print(type(info))\n",
    "    print(info)\n",
    "    \n",
    "# info를 처리하고 싶은데 사람마다 info가 제각각이라면?\n",
    "# 예를 들어 A라는 사람은 이름하고 나이만 나타내고, B라는 사람은 이름, 나이, 취미를 뽑고 싶을 때\n",
    "# **를 붙여서 key인자를 가변인자로 만든다"
   ]
  },
  {
   "cell_type": "code",
   "execution_count": 83,
   "metadata": {},
   "outputs": [
    {
     "ename": "TypeError",
     "evalue": "print_info() takes 0 positional arguments but 1 was given",
     "output_type": "error",
     "traceback": [
      "\u001b[1;31m---------------------------------------------------------------------------\u001b[0m",
      "\u001b[1;31mTypeError\u001b[0m                                 Traceback (most recent call last)",
      "Cell \u001b[1;32mIn[83], line 1\u001b[0m\n\u001b[1;32m----> 1\u001b[0m \u001b[43mprint_info\u001b[49m\u001b[43m(\u001b[49m\u001b[38;5;124;43m'\u001b[39;49m\u001b[38;5;124;43m홍길동\u001b[39;49m\u001b[38;5;124;43m'\u001b[39;49m\u001b[43m)\u001b[49m\n",
      "\u001b[1;31mTypeError\u001b[0m: print_info() takes 0 positional arguments but 1 was given"
     ]
    }
   ],
   "source": [
    "print_info('홍길동') # key를 가변인자로 선언했기 때문에 key가 빠져있으면 에러"
   ]
  },
  {
   "cell_type": "code",
   "execution_count": 84,
   "metadata": {},
   "outputs": [
    {
     "name": "stdout",
     "output_type": "stream",
     "text": [
      "<class 'dict'>\n",
      "{'name': '홍길동'}\n"
     ]
    }
   ],
   "source": [
    "print_info(name=\"홍길동\")"
   ]
  },
  {
   "cell_type": "code",
   "execution_count": 85,
   "metadata": {},
   "outputs": [
    {
     "name": "stdout",
     "output_type": "stream",
     "text": [
      "<class 'dict'>\n",
      "{'name': '이순신', 'age': 34, 'hobby': ['축구', '야구']}\n"
     ]
    }
   ],
   "source": [
    "print_info(name=\"이순신\", age=34, hobby=[\"축구\", \"야구\"])"
   ]
  },
  {
   "cell_type": "code",
   "execution_count": null,
   "metadata": {},
   "outputs": [],
   "source": [
    "# 우리는 이렇게 선언했지만 파이썬 내에서는\n",
    "# {name=\"이순신\", age=34, hobby=[\"\",\"\"]} 이런 식으로 받아들여서 **info로 보낸다"
   ]
  },
  {
   "cell_type": "code",
   "execution_count": 87,
   "metadata": {},
   "outputs": [
    {
     "ename": "TypeError",
     "evalue": "print_info() takes 0 positional arguments but 1 was given",
     "output_type": "error",
     "traceback": [
      "\u001b[1;31m---------------------------------------------------------------------------\u001b[0m",
      "\u001b[1;31mTypeError\u001b[0m                                 Traceback (most recent call last)",
      "Cell \u001b[1;32mIn[87], line 2\u001b[0m\n\u001b[0;32m      1\u001b[0m info \u001b[38;5;241m=\u001b[39m {\u001b[38;5;124m\"\u001b[39m\u001b[38;5;124mname\u001b[39m\u001b[38;5;124m\"\u001b[39m:\u001b[38;5;124m\"\u001b[39m\u001b[38;5;124m이순신\u001b[39m\u001b[38;5;124m\"\u001b[39m, \u001b[38;5;124m'\u001b[39m\u001b[38;5;124mage\u001b[39m\u001b[38;5;124m'\u001b[39m:\u001b[38;5;241m34\u001b[39m, \u001b[38;5;124m'\u001b[39m\u001b[38;5;124mtall\u001b[39m\u001b[38;5;124m'\u001b[39m:\u001b[38;5;241m192.2\u001b[39m}\n\u001b[1;32m----> 2\u001b[0m \u001b[43mprint_info\u001b[49m\u001b[43m(\u001b[49m\u001b[43minfo\u001b[49m\u001b[43m)\u001b[49m\n",
      "\u001b[1;31mTypeError\u001b[0m: print_info() takes 0 positional arguments but 1 was given"
     ]
    }
   ],
   "source": [
    "info = {\"name\":\"이순신\", 'age':34, 'tall':192.2}\n",
    "print_info(info)"
   ]
  },
  {
   "cell_type": "code",
   "execution_count": 88,
   "metadata": {},
   "outputs": [
    {
     "name": "stdout",
     "output_type": "stream",
     "text": [
      "<class 'dict'>\n",
      "{'name': '이순신', 'age': 34, 'tall': 192.2}\n"
     ]
    }
   ],
   "source": [
    "info = {\"name\":\"이순신\", 'age':34, 'tall':192.2}\n",
    "print_info(**info)\n",
    "\n",
    "# **가변인자에 dictionary의 원소들을 전달할 경우 변수 앞에 ** 두개를 붙여서 전달한다\n",
    "# ==> dictionary 원소들을 key=value, key=value의 keyword argument 로 풀어서 전달해준다"
   ]
  },
  {
   "cell_type": "code",
   "execution_count": 89,
   "metadata": {},
   "outputs": [
    {
     "ename": "SyntaxError",
     "evalue": "invalid syntax (819732067.py, line 1)",
     "output_type": "error",
     "traceback": [
      "\u001b[1;36m  Cell \u001b[1;32mIn[89], line 1\u001b[1;36m\u001b[0m\n\u001b[1;33m    def test2(**kwargs1, **kwargs2): # 함수 하나에는 가변인자 한개만 넣을 수 있다\u001b[0m\n\u001b[1;37m                         ^\u001b[0m\n\u001b[1;31mSyntaxError\u001b[0m\u001b[1;31m:\u001b[0m invalid syntax\n"
     ]
    }
   ],
   "source": [
    "def test2(**kwargs1, **kwargs2): # 함수 하나에는 가변인자 한개만 넣을 수 있다\n",
    "    pass"
   ]
  },
  {
   "cell_type": "code",
   "execution_count": 90,
   "metadata": {},
   "outputs": [],
   "source": [
    "def test3(*args, **kwargs): # 호출할 때 받는 형식이 다르기 때문에 이경우에는 사용 가능\n",
    "    print(args)\n",
    "    print(kwargs)"
   ]
  },
  {
   "cell_type": "code",
   "execution_count": 91,
   "metadata": {},
   "outputs": [
    {
     "name": "stdout",
     "output_type": "stream",
     "text": [
      "(1, 2, 3, 4, 5)\n",
      "{'a': 10, 'b': 20, 'c': 30}\n"
     ]
    }
   ],
   "source": [
    "test3(1, 2, 3, 4, 5, a=10, b=20, c=30)"
   ]
  },
  {
   "cell_type": "code",
   "execution_count": 92,
   "metadata": {},
   "outputs": [],
   "source": [
    "# 일반 파라미터들과 가변인자를 같이 선언할 수 있다\n",
    "# 일반 파라미터들(기본값 없는 것들, 기본값 있는 것들, *args, **kwargs 순서로 선언한다.\n",
    "def test4(var1, var2, var3=None, *args, **kwargs):\n",
    "    print(var1, var2, var3, args, kwargs)\n",
    "    "
   ]
  },
  {
   "cell_type": "code",
   "execution_count": 94,
   "metadata": {},
   "outputs": [
    {
     "name": "stdout",
     "output_type": "stream",
     "text": [
      "1 2 3 (100, 300) {'a': 10, 'b': 20}\n"
     ]
    }
   ],
   "source": [
    "test4(1, 2, 3, 100, 300, a=10, b=20)\n",
    "\n",
    "# *args, **kwargs는 실제로 안쓰더라도 넣어두는 경우가 많다\n",
    "# 위의 경우가 가능한건 1, 2, 3은 var1, var2에 차례로 넣고\n",
    "# None은 var3에 넣고 100, 300은 args에 넣으면 되고 key+value 한쌍은 kwargs에 딱 떨어진다"
   ]
  },
  {
   "cell_type": "markdown",
   "metadata": {
    "slideshow": {
     "slide_type": "slide"
    }
   },
   "source": [
    "# 변수의 유효범위\n",
    "\n",
    "- **지역변수 (local variable)**\n",
    "    - 함수안에 선언된 변수\n",
    "    - 선언된 그 함수 안에서만 사용할 수 있다.\n",
    "- **전역변수 (global variable)**\n",
    "    - 함수 밖에 선언 된 변수\n",
    "    - 모든 함수들이 공통적으로 사용할 수 있다.\n",
    "    - 하나의 함수에서 값을 변경하면 그 변한 값이 모든 함수에 영향을 주기 때문에 함부로 변경하지 않는다.\n",
    "    - 함수내에서 전역변수에 값을 대입하기 위해서는 global 키워드를 이용해 사용할 것을 미리 선언해야 한다.\n",
    "        - global로 선언하지 않고 함수안에서 전역변수와 이름이 같은 변수에 값을 대입하면 그 변수와 동일한 지역변수을 생성한다.\n",
    "        - 조회할 경우에는 상관없다.\n",
    "            - 함수에서 변수를 조회할 경우 **먼저 지역변수를 찾고 없으면 전역변수를 찾는다.**\n",
    "            \n"
   ]
  },
  {
   "cell_type": "code",
   "execution_count": 95,
   "metadata": {
    "slideshow": {
     "slide_type": "fragment"
    }
   },
   "outputs": [],
   "source": [
    "def func1():\n",
    "    age = 10  # 변수 age: func1()함수 안에서 선언된 것 ==> 지역변수(local variable)\n",
    "    print(age)# 선언된 함수 안에서만 호출 가능\n",
    "    age = 30\n",
    "    print(age1)"
   ]
  },
  {
   "cell_type": "code",
   "execution_count": 97,
   "metadata": {},
   "outputs": [
    {
     "name": "stdout",
     "output_type": "stream",
     "text": [
      "10\n",
      "30\n"
     ]
    },
    {
     "ename": "NameError",
     "evalue": "name 'age1' is not defined",
     "output_type": "error",
     "traceback": [
      "\u001b[1;31m---------------------------------------------------------------------------\u001b[0m",
      "\u001b[1;31mNameError\u001b[0m                                 Traceback (most recent call last)",
      "Cell \u001b[1;32mIn[97], line 2\u001b[0m\n\u001b[0;32m      1\u001b[0m func1() \u001b[38;5;66;03m# 함수가 호출되었을 때 실행하는 동안에만 써먹을 수 있다\u001b[39;00m\n\u001b[1;32m----> 2\u001b[0m \u001b[38;5;28mprint\u001b[39m(\u001b[43mage1\u001b[49m)\n",
      "\u001b[1;31mNameError\u001b[0m: name 'age1' is not defined"
     ]
    }
   ],
   "source": [
    "func1() # 함수가 호출되었을 때 실행하는 동안에만 써먹을 수 있다\n",
    "print(age1)"
   ]
  },
  {
   "cell_type": "code",
   "execution_count": 101,
   "metadata": {},
   "outputs": [
    {
     "name": "stdout",
     "output_type": "stream",
     "text": [
      "홍길동\n"
     ]
    }
   ],
   "source": [
    "name = \"홍길동\" # 변수 name: 함수 밖에(실행블록에) 선언된 변수 => 전역변수(global variable)\n",
    "print(name)\n",
    "\n",
    "def func1():\n",
    "    age1 = 10  # 변수 age: func1()함수 안에서 선언된 것 ==> 지역변수(local variable)\n",
    "    print(age1)# 선언된 함수 안에서만 호출 가능\n",
    "    age1 = 30\n",
    "    print(age1)\n",
    "    print(\"global var name:\", name)\n",
    "    \n",
    "# name = \"홍길동\"은 del해서 삭제하기 전 까지는 살아 있는 변수\n",
    "\n",
    "def func2():\n",
    "    name = \"이순신\" # local 변수 (전역변수 name과 이름이 같은 지역변수)\n",
    "    print(\"name:\", name) # 제일 좋은 것은 global variable의 name과 안 겹치도록 name1로 쓰는 게 낫다\n",
    "\n"
   ]
  },
  {
   "cell_type": "code",
   "execution_count": 102,
   "metadata": {},
   "outputs": [
    {
     "name": "stdout",
     "output_type": "stream",
     "text": [
      "10\n",
      "30\n",
      "global var name: 홍길동\n"
     ]
    }
   ],
   "source": [
    "func1()"
   ]
  },
  {
   "cell_type": "code",
   "execution_count": 103,
   "metadata": {},
   "outputs": [
    {
     "name": "stdout",
     "output_type": "stream",
     "text": [
      "name: 이순신\n"
     ]
    }
   ],
   "source": [
    "func2()"
   ]
  },
  {
   "cell_type": "code",
   "execution_count": null,
   "metadata": {},
   "outputs": [],
   "source": [
    "# 메모리 안의 지역변수 공간\n",
    "# age1에서 10을 찾아서 찍고, 그 다음 10을 지우고 30을 찍는다\n",
    "# 그 다음엔 name 찍을 차례인데 func1()에는 name이 없기에 메모리 안의 전역변수에서 name=홍길동을 찾아서 그걸 찍는다\n",
    "\n",
    "# func2()를 찍는다고 했을 때, 젼역변수의 name=홍길동이 남아 있는데,\n",
    "# func2()를 실행함으로써, name에다가 이순신으로 덮어 씌운다는 느낌으로 name: 이순신이 찍힌다."
   ]
  },
  {
   "cell_type": "code",
   "execution_count": 104,
   "metadata": {},
   "outputs": [
    {
     "name": "stdout",
     "output_type": "stream",
     "text": [
      "홍길동\n"
     ]
    }
   ],
   "source": [
    "name = \"홍길동\" # 변수 name: 함수 밖에(실행블록에) 선언된 변수 => 전역변수(global variable)\n",
    "print(name)\n",
    "\n",
    "def func1():\n",
    "    age1 = 10  # 변수 age: func1()함수 안에서 선언된 것 ==> 지역변수(local variable)\n",
    "    print(age1)# 선언된 함수 안에서만 호출 가능\n",
    "    age1 = 30\n",
    "    print(age1)\n",
    "    print(\"global var name:\", name)\n",
    "    \n",
    "# name = \"홍길동\"은 del해서 삭제하기 전 까지는 살아 있는 변수\n",
    "\n",
    "def func2():\n",
    "    name = \"이순신\" # local 변수 (전역변수 name과 이름이 같은 지역변수)\n",
    "    print(\"name:\", name) # 제일 좋은 것은 global variable의 name과 안 겹치도록 name1로 쓰는 게 낫다\n",
    "\n",
    "\n",
    "def func3():\n",
    "    # 함수에서 global 변수의 값을 변경 처리 해야하는 경우\n",
    "    global name # name 변수를 사용할 경우 => 전역변수를 말한다\n",
    "    name = \"변경이름\"\n",
    "    print(name)\n",
    "    \n",
    "##### 함수에서 전역변수의 값을 변경하는 것은 안하는 것이 좋다 => 프로그램을 불안정하게 만들 수 있다."
   ]
  },
  {
   "cell_type": "code",
   "execution_count": 105,
   "metadata": {},
   "outputs": [
    {
     "name": "stdout",
     "output_type": "stream",
     "text": [
      "변경이름\n"
     ]
    }
   ],
   "source": [
    "func3()"
   ]
  },
  {
   "cell_type": "code",
   "execution_count": 106,
   "metadata": {},
   "outputs": [
    {
     "name": "stdout",
     "output_type": "stream",
     "text": [
      "변경이름\n"
     ]
    }
   ],
   "source": [
    "print(name) # global name 을 선언하고 name = 변경이름이라고 했기 때문에 name을 찍으면 변경이름으로 찍힌다"
   ]
  },
  {
   "cell_type": "markdown",
   "metadata": {
    "slideshow": {
     "slide_type": "slide"
    }
   },
   "source": [
    "# 함수는 일급시민(First class citizen) 이다. \n",
    "- 일급 시민\n",
    "    1. 변수에 대입 할 수 있다.\n",
    "    1. Argument로 사용할 수 있다.\n",
    "    1. 함수나 메소드의 반환값으로 사용 할 수 있다.\n",
    "- 일급\n",
    "    - 모든 권리를 다 가진다는 의미\n",
    "- 시민\n",
    "    - 프로그래밍 언어를 구성하는 객체를 의미\n",
    "- 즉 파이썬에서 함수는 일반 값(객체) 로 취급된다. "
   ]
  },
  {
   "cell_type": "code",
   "execution_count": 108,
   "metadata": {
    "slideshow": {
     "slide_type": "fragment"
    }
   },
   "outputs": [],
   "source": [
    "def hello():\n",
    "    print(\"hello world!\")"
   ]
  },
  {
   "cell_type": "code",
   "execution_count": null,
   "metadata": {},
   "outputs": [],
   "source": [
    "my_hello = hello() # 함수를 호출해서 그 결과를 my_hello에 저장"
   ]
  },
  {
   "cell_type": "code",
   "execution_count": 111,
   "metadata": {},
   "outputs": [],
   "source": [
    "my_hello = hello # hello는 print(hello world)를 표시하는 것인데 그걸 my_hello에게도 똑같이 참조하도록 한다"
   ]
  },
  {
   "cell_type": "code",
   "execution_count": 112,
   "metadata": {},
   "outputs": [],
   "source": [
    "your_hello = my_hello # print(hello)를 부르는게 원래 hello 1개인데, 대입을 계속함으로써, my_hello와 your_hello도\n",
    "# print(hello)를 부를 수 있게 끔 한다"
   ]
  },
  {
   "cell_type": "code",
   "execution_count": 113,
   "metadata": {},
   "outputs": [
    {
     "name": "stdout",
     "output_type": "stream",
     "text": [
      "hello world!\n"
     ]
    }
   ],
   "source": [
    "your_hello()"
   ]
  },
  {
   "cell_type": "code",
   "execution_count": 109,
   "metadata": {},
   "outputs": [
    {
     "name": "stdout",
     "output_type": "stream",
     "text": [
      "hello world!\n"
     ]
    }
   ],
   "source": [
    "hello()"
   ]
  },
  {
   "cell_type": "code",
   "execution_count": 114,
   "metadata": {},
   "outputs": [],
   "source": [
    "def hello2(name):\n",
    "    print(name, \"안녕\")"
   ]
  },
  {
   "cell_type": "code",
   "execution_count": 115,
   "metadata": {},
   "outputs": [
    {
     "name": "stdout",
     "output_type": "stream",
     "text": [
      "홍길동 안녕\n"
     ]
    }
   ],
   "source": [
    "hello2(\"홍길동\")"
   ]
  },
  {
   "cell_type": "code",
   "execution_count": 116,
   "metadata": {},
   "outputs": [],
   "source": [
    "my_hello2 = hello2"
   ]
  },
  {
   "cell_type": "code",
   "execution_count": 117,
   "metadata": {},
   "outputs": [
    {
     "name": "stdout",
     "output_type": "stream",
     "text": [
      "이순신 안녕\n"
     ]
    }
   ],
   "source": [
    "my_hello2(\"이순신\") # 함수도 값처럼 대입해서 사용할 수 있음"
   ]
  },
  {
   "cell_type": "code",
   "execution_count": null,
   "metadata": {},
   "outputs": [],
   "source": [
    "# a=10, b=a라고 했을 때 a에 지정된 10을 copy해서 b=10을 만든다\n",
    "# 함수에서는 10이라는 value를 a가 갖고 b가 그것을 참조한다"
   ]
  },
  {
   "cell_type": "code",
   "execution_count": 118,
   "metadata": {},
   "outputs": [],
   "source": [
    "def plus():\n",
    "    print(10 + 20)"
   ]
  },
  {
   "cell_type": "code",
   "execution_count": 119,
   "metadata": {},
   "outputs": [
    {
     "name": "stdout",
     "output_type": "stream",
     "text": [
      "30\n"
     ]
    }
   ],
   "source": [
    "plus()"
   ]
  },
  {
   "cell_type": "code",
   "execution_count": 120,
   "metadata": {},
   "outputs": [],
   "source": [
    "def plus(n1, n2):\n",
    "    print(n1 + n2)"
   ]
  },
  {
   "cell_type": "code",
   "execution_count": 121,
   "metadata": {},
   "outputs": [
    {
     "name": "stdout",
     "output_type": "stream",
     "text": [
      "250\n"
     ]
    }
   ],
   "source": [
    "plus(100, 150)"
   ]
  },
  {
   "cell_type": "code",
   "execution_count": 131,
   "metadata": {},
   "outputs": [],
   "source": [
    "# 계산할 값을 가지고 있는 함수, 무슨계산?할지는 모름 (값은 있는데 처리 방식이 없다. 따라서 parameter로 함수를 받는다)\n",
    "def calc(func):\n",
    "    num1 = 100\n",
    "    num2 = 200\n",
    "    value = func(num1, num2)\n",
    "    return f'계산결과: {value}'\n",
    "\n",
    "# 100개의 함수를 만들면 이런식으로 함수를 받게끔 하는 경우가 3~4개정도 있는데 빈도가 낮다고 볼 수는 없음 "
   ]
  },
  {
   "cell_type": "code",
   "execution_count": 124,
   "metadata": {},
   "outputs": [
    {
     "name": "stdout",
     "output_type": "stream",
     "text": [
      "300\n"
     ]
    }
   ],
   "source": [
    "# func = plus\n",
    "# func(100, 200)"
   ]
  },
  {
   "cell_type": "code",
   "execution_count": 125,
   "metadata": {},
   "outputs": [
    {
     "name": "stdout",
     "output_type": "stream",
     "text": [
      "300\n"
     ]
    }
   ],
   "source": [
    "# calc(plus(1, 2)) # 이렇게 하면 합성함수의 개념, 1과 2를 더하고 그 결과를 calc()에 대입\n",
    "\n",
    "calc(plus)"
   ]
  },
  {
   "cell_type": "code",
   "execution_count": 127,
   "metadata": {},
   "outputs": [],
   "source": [
    "def plus2(num1, num2): # 여기서 부가적으로 num3, num4를 넣는다면 타입에러가 발생할 것이다\n",
    "                        # calc()가 선언되어 있는 게 num1, num2로 되어있기 때문에 이외로 더 넣으려면 그건 key값으로 넣어야함\n",
    "                        # 이 함수를 사용하는 함수에 맞춰서 구현\n",
    "    return num1 + num2"
   ]
  },
  {
   "cell_type": "code",
   "execution_count": 128,
   "metadata": {},
   "outputs": [
    {
     "name": "stdout",
     "output_type": "stream",
     "text": [
      "None\n"
     ]
    }
   ],
   "source": [
    "r = calc(plus2)\n",
    "print(r)"
   ]
  },
  {
   "cell_type": "code",
   "execution_count": 129,
   "metadata": {},
   "outputs": [],
   "source": [
    "def minus(num1, num2):\n",
    "    return num1 - num2"
   ]
  },
  {
   "cell_type": "code",
   "execution_count": 132,
   "metadata": {},
   "outputs": [
    {
     "name": "stdout",
     "output_type": "stream",
     "text": [
      "계산결과: -100\n"
     ]
    }
   ],
   "source": [
    "r1 = calc(minus)\n",
    "print(r1)"
   ]
  },
  {
   "cell_type": "code",
   "execution_count": null,
   "metadata": {},
   "outputs": [],
   "source": []
  },
  {
   "cell_type": "markdown",
   "metadata": {
    "slideshow": {
     "slide_type": "slide"
    }
   },
   "source": [
    "## 람다식/람다표현식 (Lambda Expression)\n",
    "- 함수를 하나의 식을 이용해서 정의할때 사용하는 표현식(구문).\n",
    "- 값을 입력받아서 **간단한 처리한 결과**를 반환하는 간단한 함수를 표현식으로 정의할 수 있다.\n",
    "    - 처리결과를 return 하는 구문을 하나의 명령문으로 처리할 수 있을때 람다식을 사용할 수 있다. => return x + y\n",
    "- 구문\n",
    "```python\n",
    "lambda 매개변수[, 매개변수, ...] : 명령문(구문)\n",
    "```\n",
    "- 명령문(구문)은 하나의 실행문만 가능하다.\n",
    "- 명령문(구문)이 처리한 결과를 리턴해준다.\n",
    "- **람다식은 함수의 매개변수로 함수를 전달하는 일회성 함수를 만들때 주로 사용한다.**"
   ]
  },
  {
   "cell_type": "code",
   "execution_count": null,
   "metadata": {
    "slideshow": {
     "slide_type": "fragment"
    }
   },
   "outputs": [],
   "source": []
  },
  {
   "cell_type": "markdown",
   "metadata": {
    "slideshow": {
     "slide_type": "slide"
    }
   },
   "source": [
    "### iterable 관련 함수에서 함수를 매개변수로 받아 처리하는 함수들\n",
    "- sorted(iterable, reverse=False, key=None)\n",
    "    - 정렬처리\n",
    "    - 매개변수\n",
    "        - reverse: True - 내림차순, False - 오름차순(기본)\n",
    "        - key: 함수 \n",
    "            - Parameter로 iterable의 각 원소를 받는 함수.\n",
    "            - 정렬을 할 때 iterable의 원소기준으로 정렬하는 것이 아니라 이 함수가 반환하는 값을 기준으로 정렬\n",
    "- filter(함수, Iterable)\n",
    "    - Iterable의 원소들 중에서 특정 조건을 만족하는 원소들만 걸러주는 함수\n",
    "    - 함수\n",
    "        - 어떻게 걸러낼 것인지 조건을 정의. 매개변수 1개, 반환값 bool\n",
    "        - 원소 하나 하나를 함수에 전달해 True를 반환하는 것만 반환\n",
    "- map(함수, Iterable)\n",
    "    - Iterable의 원소들 하나 하나를 처리(변형)해서 그 결과를 반환\n",
    "    - 함수\n",
    "        - 원소들을 어떻게 처리할지 정의. 매개변수 1개. 반환값: 처리 결과\n",
    "- **filter/map 반환타입**: generator 형태로 반환 된다. (리스트가 아님)"
   ]
  },
  {
   "cell_type": "code",
   "execution_count": null,
   "metadata": {},
   "outputs": [],
   "source": []
  },
  {
   "cell_type": "markdown",
   "metadata": {
    "slideshow": {
     "slide_type": "subslide"
    }
   },
   "source": [
    "# docstring\n",
    "- 함수에 대한 설명\n",
    "- 함수의 구현부의 첫번째에 여러줄 문자열로 작성한다.\n",
    "- 함수 매개변수/리턴타입에 대한 힌트(주석)"
   ]
  },
  {
   "cell_type": "code",
   "execution_count": null,
   "metadata": {
    "slideshow": {
     "slide_type": "fragment"
    }
   },
   "outputs": [],
   "source": []
  },
  {
   "cell_type": "markdown",
   "metadata": {
    "slideshow": {
     "slide_type": "subslide"
    }
   },
   "source": [
    "### pass 키워드(예약어)\n",
    "- 빈 구현부를 만들때 사용\n",
    "    - 코드블럭을 하는 일 없이 채울 때 사용\n",
    "    - `...` 을 대신 사용할 수 있다."
   ]
  },
  {
   "cell_type": "markdown",
   "metadata": {
    "slideshow": {
     "slide_type": "skip"
    }
   },
   "source": [
    "# TODO"
   ]
  },
  {
   "cell_type": "code",
   "execution_count": 9,
   "metadata": {
    "slideshow": {
     "slide_type": "skip"
    }
   },
   "outputs": [
    {
     "name": "stdout",
     "output_type": "stream",
     "text": [
      "4 x 1 = 4\n",
      "4 x 2 = 8\n",
      "4 x 3 = 12\n",
      "4 x 4 = 16\n",
      "4 x 5 = 20\n",
      "4 x 6 = 24\n",
      "4 x 7 = 28\n",
      "4 x 8 = 32\n",
      "4 x 9 = 36\n"
     ]
    }
   ],
   "source": [
    "# 1. 사용자가 입력한 단의 구구단을 출력하는 함수를 구현(매개변수로 단을 받는다.)\n",
    "\n",
    "def table(y, limit):\n",
    "    for x in range(1, limit+1):\n",
    "        print(f'{y} x {x} = {y*x}')\n",
    "table(4, 9)"
   ]
  },
  {
   "cell_type": "code",
   "execution_count": 11,
   "metadata": {
    "slideshow": {
     "slide_type": "skip"
    }
   },
   "outputs": [
    {
     "name": "stdout",
     "output_type": "stream",
     "text": [
      "5050\n"
     ]
    }
   ],
   "source": [
    "# 2. 시작 정수, 끝 정수를 받아 그 사이의 모든 정수의 합을 구해서 반환하는 함수를 구현(ex: 1, 20 => 1에서 20 사이의 모든 정수의 합계)\n",
    "\n",
    "def sum_inte(start, end):\n",
    "    sum = 0\n",
    "    for i in range(start, end + 1):\n",
    "        sum = sum + i\n",
    "    return sum\n",
    "\n",
    "result = sum_inte(1, 100)\n",
    "print(result)"
   ]
  },
  {
   "cell_type": "code",
   "execution_count": 27,
   "metadata": {
    "slideshow": {
     "slide_type": "skip"
    }
   },
   "outputs": [
    {
     "name": "stdout",
     "output_type": "stream",
     "text": [
      "정상\n"
     ]
    }
   ],
   "source": [
    "# 3. 1번 문제에서 시작을 받지 않은 경우 0을, 끝 정수를 받지 않으면 10이 들어가도록 구현을 변경\n",
    "\n",
    "\n",
    "# 4. 체질량 지수는 비만도를 나타내는 지수로 키가 a미터 이고 몸무게가 b kg일때 b/(a**2) 로 구한다.\n",
    "# 체질량 지수가\n",
    "#- 18.5 미만이면 저체중\n",
    "#- 18.5이상 25미만이면 정상 \n",
    "#- 25이상이면 과체중\n",
    "#- 30이상이면 비만으로 하는데\n",
    "#몸무게와 키를 매개변수로 받아 비만인지 과체중인지 반환하는 함수를 구현하시오.\n",
    "def bmi(a, b):\n",
    "    bmi = b / (a**2)\n",
    "    if bmi < 18.5:\n",
    "        return \"저체중\"\n",
    "    elif 18.5 <= bmi < 25:\n",
    "        return \"정상\"\n",
    "    elif 25 <= bmi <30:\n",
    "        return \"과체중\"\n",
    "    else:\n",
    "        return \"비만\"\n",
    "q=bmi(1.8, 80)\n",
    "print(q)"
   ]
  },
  {
   "cell_type": "code",
   "execution_count": null,
   "metadata": {
    "slideshow": {
     "slide_type": "skip"
    }
   },
   "outputs": [],
   "source": [
    "# 람다식\n",
    "#5. filter()를 이용해 다음 리스트에서 양수만 추출히 리스트를 구현\n",
    "ex1 = [1, -10, -2, 20, 3, -5, -7, 21]\n",
    "\n",
    "\n",
    "#6. filter()와 map()을 이용해 다음 리스트에서 음수만 추출한 뒤 그 2 제곱한 값들을 가지는 리스트를 구현\n",
    "ex2 = [1, -10, -2, 20, 3, -5, -7, 21]"
   ]
  },
  {
   "cell_type": "code",
   "execution_count": 13,
   "metadata": {},
   "outputs": [
    {
     "name": "stdout",
     "output_type": "stream",
     "text": [
      "비트코인\n"
     ]
    }
   ],
   "source": [
    "def print_coin():\n",
    "    print('비트코인')\n",
    "print_coin()"
   ]
  },
  {
   "cell_type": "code",
   "execution_count": 15,
   "metadata": {},
   "outputs": [
    {
     "name": "stdout",
     "output_type": "stream",
     "text": [
      "비트코인\n",
      "비트코인\n",
      "비트코인\n",
      "비트코인\n",
      "비트코인\n",
      "비트코인\n",
      "비트코인\n",
      "비트코인\n",
      "비트코인\n",
      "비트코인\n",
      "비트코인\n",
      "비트코인\n",
      "비트코인\n",
      "비트코인\n",
      "비트코인\n"
     ]
    }
   ],
   "source": [
    "for i in range(15):\n",
    "    print_coin()"
   ]
  },
  {
   "cell_type": "code",
   "execution_count": 16,
   "metadata": {},
   "outputs": [],
   "source": [
    "def print_coins():\n",
    "    for i in range(10):\n",
    "        print(\"비트코인\")"
   ]
  },
  {
   "cell_type": "code",
   "execution_count": 19,
   "metadata": {},
   "outputs": [
    {
     "name": "stdout",
     "output_type": "stream",
     "text": [
      "하나의 문자:e\n",
      "e :D\n"
     ]
    }
   ],
   "source": [
    "def print_with_smile():\n",
    "    a = input('하나의 문자:')\n",
    "    print(a, \":D\")\n",
    "print_with_smile()"
   ]
  },
  {
   "cell_type": "code",
   "execution_count": 21,
   "metadata": {},
   "outputs": [
    {
     "name": "stdout",
     "output_type": "stream",
     "text": [
      "예제:D\n"
     ]
    }
   ],
   "source": [
    "def print_with_smile(string):\n",
    "    print(string + \":D\")\n",
    "print_with_smile('예제')"
   ]
  },
  {
   "cell_type": "code",
   "execution_count": 23,
   "metadata": {},
   "outputs": [
    {
     "name": "stdout",
     "output_type": "stream",
     "text": [
      "1950.0\n"
     ]
    }
   ],
   "source": [
    "def print_30(float):\n",
    "    print(float * 1.3)\n",
    "print_30(1500)"
   ]
  },
  {
   "cell_type": "code",
   "execution_count": 25,
   "metadata": {},
   "outputs": [],
   "source": [
    "def print_max(u, v, w):\n",
    "    max_val=0\n",
    "    if u > max_val:\n",
    "        max_val=u\n",
    "    if v > max_val:\n",
    "        max_val=v\n",
    "    if w > max_val:\n",
    "        max_val=w\n",
    "    print(max_val)"
   ]
  },
  {
   "cell_type": "code",
   "execution_count": 26,
   "metadata": {},
   "outputs": [
    {
     "name": "stdout",
     "output_type": "stream",
     "text": [
      "15\n"
     ]
    }
   ],
   "source": [
    "print_max(4, 15, 3)"
   ]
  },
  {
   "cell_type": "code",
   "execution_count": 30,
   "metadata": {},
   "outputs": [
    {
     "name": "stdout",
     "output_type": "stream",
     "text": [
      "nohtyp\n"
     ]
    }
   ],
   "source": [
    "def print_reverse(string):\n",
    "    print(string[::-1])\n",
    "\n",
    "print_reverse(\"python\")"
   ]
  },
  {
   "cell_type": "code",
   "execution_count": 33,
   "metadata": {},
   "outputs": [
    {
     "name": "stdout",
     "output_type": "stream",
     "text": [
      "13.0\n"
     ]
    }
   ],
   "source": [
    "def print_score(score_list):\n",
    "    print(sum(score_list)/len(score_list))\n",
    "print_score([4, 10, 25])"
   ]
  },
  {
   "cell_type": "code",
   "execution_count": 39,
   "metadata": {},
   "outputs": [
    {
     "name": "stdout",
     "output_type": "stream",
     "text": [
      "2\n",
      "10\n",
      "12\n"
     ]
    }
   ],
   "source": [
    "print_even([1, 3, 2, 10, 12, 11, 15])\n",
    "def print_even(list):\n",
    "    for v in list:\n",
    "        if v % 2 == 0:\n",
    "            print(v)\n",
    "    "
   ]
  },
  {
   "cell_type": "code",
   "execution_count": 41,
   "metadata": {},
   "outputs": [
    {
     "ename": "NameError",
     "evalue": "name 'print_mxn' is not defined",
     "output_type": "error",
     "traceback": [
      "\u001b[1;31m---------------------------------------------------------------------------\u001b[0m",
      "\u001b[1;31mNameError\u001b[0m                                 Traceback (most recent call last)",
      "Cell \u001b[1;32mIn[41], line 1\u001b[0m\n\u001b[1;32m----> 1\u001b[0m \u001b[43mprint_mxn\u001b[49m(\u001b[38;5;124m\"\u001b[39m\u001b[38;5;124m아이엠어보이유알어걸\u001b[39m\u001b[38;5;124m\"\u001b[39m, \u001b[38;5;241m3\u001b[39m)\n\u001b[0;32m      2\u001b[0m \u001b[38;5;28;01mdef\u001b[39;00m \u001b[38;5;21mprint_mxn\u001b[39m(line, num):\n\u001b[0;32m      3\u001b[0m     chuck_num \u001b[38;5;241m=\u001b[39m \u001b[38;5;28mint\u001b[39m(\u001b[38;5;28mlen\u001b[39m(line)\u001b[38;5;241m/\u001b[39mnum)\n",
      "\u001b[1;31mNameError\u001b[0m: name 'print_mxn' is not defined"
     ]
    }
   ],
   "source": [
    "print_mxn(\"아이엠어보이유알어걸\", 3)\n",
    "def print_mxn(line, num):\n",
    "    chuck_num = int(len(line)/num)\n",
    "    for x in range(chuck_num+1):\n",
    "        print(line[x*num: x*num+num])"
   ]
  },
  {
   "cell_type": "code",
   "execution_count": 43,
   "metadata": {},
   "outputs": [
    {
     "data": {
      "text/plain": [
       "'www.sbs.com'"
      ]
     },
     "execution_count": 43,
     "metadata": {},
     "output_type": "execute_result"
    }
   ],
   "source": [
    "def make_url(string):\n",
    "    url = 'www.' + string + '.com'\n",
    "    return url\n",
    "\n",
    "make_url(\"sbs\")"
   ]
  },
  {
   "cell_type": "code",
   "execution_count": 45,
   "metadata": {},
   "outputs": [],
   "source": [
    "\n",
    "\n",
    "def pickup_even(items):\n",
    "    result=[]\n",
    "    for item in items:\n",
    "        if item % 2 == 0:\n",
    "            result.append(item)\n",
    "    return result"
   ]
  },
  {
   "cell_type": "code",
   "execution_count": 46,
   "metadata": {},
   "outputs": [
    {
     "data": {
      "text/plain": [
       "[4, 6, 8]"
      ]
     },
     "execution_count": 46,
     "metadata": {},
     "output_type": "execute_result"
    }
   ],
   "source": [
    "pickup_even([3, 4, 5, 6, 7, 8])"
   ]
  }
 ],
 "metadata": {
  "kernelspec": {
   "display_name": "Python 3 (ipykernel)",
   "language": "python",
   "name": "python3"
  },
  "language_info": {
   "codemirror_mode": {
    "name": "ipython",
    "version": 3
   },
   "file_extension": ".py",
   "mimetype": "text/x-python",
   "name": "python",
   "nbconvert_exporter": "python",
   "pygments_lexer": "ipython3",
   "version": "3.10.9"
  },
  "toc": {
   "base_numbering": 1,
   "nav_menu": {},
   "number_sections": true,
   "sideBar": true,
   "skip_h1_title": false,
   "title_cell": "Table of Contents",
   "title_sidebar": "Contents",
   "toc_cell": false,
   "toc_position": {},
   "toc_section_display": true,
   "toc_window_display": false
  },
  "varInspector": {
   "cols": {
    "lenName": 16,
    "lenType": 16,
    "lenVar": 40
   },
   "kernels_config": {
    "python": {
     "delete_cmd_postfix": "",
     "delete_cmd_prefix": "del ",
     "library": "var_list.py",
     "varRefreshCmd": "print(var_dic_list())"
    },
    "r": {
     "delete_cmd_postfix": ") ",
     "delete_cmd_prefix": "rm(",
     "library": "var_list.r",
     "varRefreshCmd": "cat(var_dic_list()) "
    }
   },
   "types_to_exclude": [
    "module",
    "function",
    "builtin_function_or_method",
    "instance",
    "_Feature"
   ],
   "window_display": false
  }
 },
 "nbformat": 4,
 "nbformat_minor": 4
}
